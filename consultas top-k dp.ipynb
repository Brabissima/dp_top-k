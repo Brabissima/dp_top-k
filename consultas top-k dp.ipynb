{
 "cells": [
  {
   "cell_type": "code",
   "execution_count": 20,
   "metadata": {},
   "outputs": [],
   "source": [
    "import pandas as pd\n",
    "import numpy as np\n",
    "import matplotlib.pyplot as plt\n",
    "from scipy import stats\n",
    "#import math"
   ]
  },
  {
   "cell_type": "code",
   "execution_count": 33,
   "metadata": {},
   "outputs": [],
   "source": [
    "def pre_processamento():\n",
    "    xlsx = pd.ExcelFile('casos_corona.xlsx')\n",
    "    df = pd.read_excel(xlsx, 'casos_corona')\n",
    "    df = df[:100] ################################limitando o dataset\n",
    "    df = df[['bairroPaciente','municipioPaciente','resultadoFinalExame','sexoPaciente', 'idadePaciente']]\n",
    "    \n",
    "    novo_df = []\n",
    "    for i in range(len(df)):\n",
    "        if(df.loc[i][2] == 'Positivo'):\n",
    "            resultado = 1\n",
    "            novo_df.append([df.loc[i][0], df.loc[i][1], resultado, df.loc[i][3], df.loc[i][4]])\n",
    "        else:\n",
    "            resultado = 0\n",
    "            novo_df.append([df.loc[i][0], df.loc[i][1], resultado, df.loc[i][3], df.loc[i][4]])\n",
    "    \n",
    "    novo_df = pd.DataFrame(novo_df)\n",
    "    novo_df.rename(columns={0: 'bairro_paciente', 1: 'municipio_paciente', 2: 'resultado_exame', 3: 'sexo_paciente', 4: 'idade_paciente'}, inplace=True)    \n",
    "    return novo_df"
   ]
  },
  {
   "cell_type": "code",
   "execution_count": 34,
   "metadata": {},
   "outputs": [
    {
     "data": {
      "text/html": [
       "<div>\n",
       "<style scoped>\n",
       "    .dataframe tbody tr th:only-of-type {\n",
       "        vertical-align: middle;\n",
       "    }\n",
       "\n",
       "    .dataframe tbody tr th {\n",
       "        vertical-align: top;\n",
       "    }\n",
       "\n",
       "    .dataframe thead th {\n",
       "        text-align: right;\n",
       "    }\n",
       "</style>\n",
       "<table border=\"1\" class=\"dataframe\">\n",
       "  <thead>\n",
       "    <tr style=\"text-align: right;\">\n",
       "      <th></th>\n",
       "      <th>bairro_paciente</th>\n",
       "      <th>municipio_paciente</th>\n",
       "      <th>resultado_exame</th>\n",
       "      <th>sexo_paciente</th>\n",
       "      <th>idade_paciente</th>\n",
       "    </tr>\n",
       "  </thead>\n",
       "  <tbody>\n",
       "    <tr>\n",
       "      <td>0</td>\n",
       "      <td>VILA PERI</td>\n",
       "      <td>FORTALEZA</td>\n",
       "      <td>0</td>\n",
       "      <td>MASCULINO</td>\n",
       "      <td>74.0</td>\n",
       "    </tr>\n",
       "    <tr>\n",
       "      <td>1</td>\n",
       "      <td>VARJOTA</td>\n",
       "      <td>FORTALEZA</td>\n",
       "      <td>0</td>\n",
       "      <td>FEMININO</td>\n",
       "      <td>31.0</td>\n",
       "    </tr>\n",
       "    <tr>\n",
       "      <td>2</td>\n",
       "      <td>NOVA METROPOLE JUREMA</td>\n",
       "      <td>CAUCAIA</td>\n",
       "      <td>0</td>\n",
       "      <td>FEMININO</td>\n",
       "      <td>84.0</td>\n",
       "    </tr>\n",
       "    <tr>\n",
       "      <td>3</td>\n",
       "      <td>PARQUE POTIRA JUREMA</td>\n",
       "      <td>CAUCAIA</td>\n",
       "      <td>0</td>\n",
       "      <td>FEMININO</td>\n",
       "      <td>61.0</td>\n",
       "    </tr>\n",
       "    <tr>\n",
       "      <td>4</td>\n",
       "      <td>PINHEIRO</td>\n",
       "      <td>GUAIÚBA</td>\n",
       "      <td>0</td>\n",
       "      <td>MASCULINO</td>\n",
       "      <td>37.0</td>\n",
       "    </tr>\n",
       "    <tr>\n",
       "      <td>...</td>\n",
       "      <td>...</td>\n",
       "      <td>...</td>\n",
       "      <td>...</td>\n",
       "      <td>...</td>\n",
       "      <td>...</td>\n",
       "    </tr>\n",
       "    <tr>\n",
       "      <td>95</td>\n",
       "      <td>PLANALTO</td>\n",
       "      <td>CASCAVEL</td>\n",
       "      <td>0</td>\n",
       "      <td>MASCULINO</td>\n",
       "      <td>6.0</td>\n",
       "    </tr>\n",
       "    <tr>\n",
       "      <td>96</td>\n",
       "      <td>CENTRO</td>\n",
       "      <td>ITAREMA</td>\n",
       "      <td>0</td>\n",
       "      <td>MASCULINO</td>\n",
       "      <td>36.0</td>\n",
       "    </tr>\n",
       "    <tr>\n",
       "      <td>97</td>\n",
       "      <td>MONTE</td>\n",
       "      <td>CANINDE</td>\n",
       "      <td>1</td>\n",
       "      <td>MASCULINO</td>\n",
       "      <td>21.0</td>\n",
       "    </tr>\n",
       "    <tr>\n",
       "      <td>98</td>\n",
       "      <td>SAO VICENTE</td>\n",
       "      <td>INDEPENDENCIA</td>\n",
       "      <td>0</td>\n",
       "      <td>FEMININO</td>\n",
       "      <td>38.0</td>\n",
       "    </tr>\n",
       "    <tr>\n",
       "      <td>99</td>\n",
       "      <td>VILA PALMEIRA</td>\n",
       "      <td>ACOPIARA</td>\n",
       "      <td>0</td>\n",
       "      <td>MASCULINO</td>\n",
       "      <td>37.0</td>\n",
       "    </tr>\n",
       "  </tbody>\n",
       "</table>\n",
       "<p>100 rows × 5 columns</p>\n",
       "</div>"
      ],
      "text/plain": [
       "          bairro_paciente municipio_paciente  resultado_exame sexo_paciente  \\\n",
       "0               VILA PERI          FORTALEZA                0     MASCULINO   \n",
       "1                 VARJOTA          FORTALEZA                0      FEMININO   \n",
       "2   NOVA METROPOLE JUREMA            CAUCAIA                0      FEMININO   \n",
       "3    PARQUE POTIRA JUREMA            CAUCAIA                0      FEMININO   \n",
       "4                PINHEIRO            GUAIÚBA                0     MASCULINO   \n",
       "..                    ...                ...              ...           ...   \n",
       "95               PLANALTO           CASCAVEL                0     MASCULINO   \n",
       "96                 CENTRO            ITAREMA                0     MASCULINO   \n",
       "97                  MONTE            CANINDE                1     MASCULINO   \n",
       "98            SAO VICENTE      INDEPENDENCIA                0      FEMININO   \n",
       "99          VILA PALMEIRA           ACOPIARA                0     MASCULINO   \n",
       "\n",
       "    idade_paciente  \n",
       "0             74.0  \n",
       "1             31.0  \n",
       "2             84.0  \n",
       "3             61.0  \n",
       "4             37.0  \n",
       "..             ...  \n",
       "95             6.0  \n",
       "96            36.0  \n",
       "97            21.0  \n",
       "98            38.0  \n",
       "99            37.0  \n",
       "\n",
       "[100 rows x 5 columns]"
      ]
     },
     "execution_count": 34,
     "metadata": {},
     "output_type": "execute_result"
    }
   ],
   "source": [
    "df = pre_processamento()\n",
    "df"
   ]
  },
  {
   "cell_type": "markdown",
   "metadata": {},
   "source": [
    "# Consulta por bairros"
   ]
  },
  {
   "cell_type": "code",
   "execution_count": 35,
   "metadata": {},
   "outputs": [],
   "source": [
    "def agrupar_bairros(df):\n",
    "    bairros = pd.unique(df['bairro_paciente'])\n",
    "    casos_bairros = []\n",
    "    for bairro in bairros:\n",
    "        count = 0\n",
    "        for i in range(len(df)):\n",
    "            if(df.loc[i][0] == bairro):\n",
    "                count = count + 1\n",
    "        casos_bairros.append([bairro, count])\n",
    "    casos_bairros = pd.DataFrame(casos_bairros)\n",
    "    casos_bairros.rename(columns={0: 'bairro', 1: 'count'}, inplace=True)\n",
    "    ordem = np.arange(1,len(casos_bairros)+1)\n",
    "    casos_bairros['ordem'] = pd.Series(ordem, index=casos_bairros.index)\n",
    "    return casos_bairros"
   ]
  },
  {
   "cell_type": "code",
   "execution_count": 36,
   "metadata": {},
   "outputs": [],
   "source": [
    "dataset_bairros = agrupar_bairros(df)"
   ]
  },
  {
   "cell_type": "code",
   "execution_count": 37,
   "metadata": {},
   "outputs": [],
   "source": [
    "def top_k_bairros(dataset, k):\n",
    "    copia = dataset.copy()\n",
    "    output = []\n",
    "    for i in range(k):\n",
    "        indice = copia['count'].idxmax()\n",
    "        output.append([copia.loc[indice][0], copia.loc[indice][1]])\n",
    "        copia.drop(indice, inplace=True,axis=0)\n",
    "    output = pd.DataFrame(output)\n",
    "    output = output.rename(columns={0: 'bairro', 1: 'count'})\n",
    "    return output"
   ]
  },
  {
   "cell_type": "code",
   "execution_count": 38,
   "metadata": {},
   "outputs": [
    {
     "data": {
      "text/html": [
       "<div>\n",
       "<style scoped>\n",
       "    .dataframe tbody tr th:only-of-type {\n",
       "        vertical-align: middle;\n",
       "    }\n",
       "\n",
       "    .dataframe tbody tr th {\n",
       "        vertical-align: top;\n",
       "    }\n",
       "\n",
       "    .dataframe thead th {\n",
       "        text-align: right;\n",
       "    }\n",
       "</style>\n",
       "<table border=\"1\" class=\"dataframe\">\n",
       "  <thead>\n",
       "    <tr style=\"text-align: right;\">\n",
       "      <th></th>\n",
       "      <th>bairro</th>\n",
       "      <th>count</th>\n",
       "    </tr>\n",
       "  </thead>\n",
       "  <tbody>\n",
       "    <tr>\n",
       "      <td>0</td>\n",
       "      <td>CENTRO</td>\n",
       "      <td>19</td>\n",
       "    </tr>\n",
       "    <tr>\n",
       "      <td>1</td>\n",
       "      <td>JUREMA</td>\n",
       "      <td>2</td>\n",
       "    </tr>\n",
       "    <tr>\n",
       "      <td>2</td>\n",
       "      <td>MESSEJANA</td>\n",
       "      <td>2</td>\n",
       "    </tr>\n",
       "    <tr>\n",
       "      <td>3</td>\n",
       "      <td>PIRAJA</td>\n",
       "      <td>2</td>\n",
       "    </tr>\n",
       "    <tr>\n",
       "      <td>4</td>\n",
       "      <td>ZONA RURAL</td>\n",
       "      <td>2</td>\n",
       "    </tr>\n",
       "    <tr>\n",
       "      <td>5</td>\n",
       "      <td>ARATURI</td>\n",
       "      <td>2</td>\n",
       "    </tr>\n",
       "    <tr>\n",
       "      <td>6</td>\n",
       "      <td>VILA PERI</td>\n",
       "      <td>1</td>\n",
       "    </tr>\n",
       "    <tr>\n",
       "      <td>7</td>\n",
       "      <td>VARJOTA</td>\n",
       "      <td>1</td>\n",
       "    </tr>\n",
       "    <tr>\n",
       "      <td>8</td>\n",
       "      <td>NOVA METROPOLE JUREMA</td>\n",
       "      <td>1</td>\n",
       "    </tr>\n",
       "    <tr>\n",
       "      <td>9</td>\n",
       "      <td>PARQUE POTIRA JUREMA</td>\n",
       "      <td>1</td>\n",
       "    </tr>\n",
       "  </tbody>\n",
       "</table>\n",
       "</div>"
      ],
      "text/plain": [
       "                  bairro  count\n",
       "0                 CENTRO     19\n",
       "1                 JUREMA      2\n",
       "2              MESSEJANA      2\n",
       "3                 PIRAJA      2\n",
       "4             ZONA RURAL      2\n",
       "5                ARATURI      2\n",
       "6              VILA PERI      1\n",
       "7                VARJOTA      1\n",
       "8  NOVA METROPOLE JUREMA      1\n",
       "9   PARQUE POTIRA JUREMA      1"
      ]
     },
     "execution_count": 38,
     "metadata": {},
     "output_type": "execute_result"
    }
   ],
   "source": [
    "top_k_bairros(dataset_bairros, 10)"
   ]
  },
  {
   "cell_type": "markdown",
   "metadata": {},
   "source": [
    "# Consulta por idade"
   ]
  },
  {
   "cell_type": "code",
   "execution_count": 100,
   "metadata": {},
   "outputs": [],
   "source": [
    "def agrupar_idade(df):\n",
    "    clusters_idades = []\n",
    "    intervalos = np.arange(1, 100, dtype=int)\n",
    "    for i in range(0, 95, 5):\n",
    "        gaps = []\n",
    "        for j in range(i, i+5):\n",
    "            gaps.append(intervalos[j])\n",
    "        clusters_idades.append(gaps)\n",
    "\n",
    "    casos_idade = []\n",
    "\n",
    "    for cluster in clusters_idades:\n",
    "        count = 0\n",
    "        for i in range(len(df)):\n",
    "            if(df.loc[i][4] in cluster):\n",
    "                count = count + 1\n",
    "        casos_idade.append(['[{}:{}]'.format(cluster[0], cluster[4]), count])\n",
    "    casos_idade = pd.DataFrame(casos_idade)\n",
    "    casos_idade.rename(columns={0: 'idade', 1: 'count'}, inplace=True)\n",
    "    ordem = np.arange(1,len(casos_idade)+1)\n",
    "    casos_idade['ordem'] = pd.Series(ordem, index=casos_idade.index)\n",
    "    return casos_idade"
   ]
  },
  {
   "cell_type": "code",
   "execution_count": 101,
   "metadata": {},
   "outputs": [],
   "source": [
    "dataset_idade = agrupar_idade(df)"
   ]
  },
  {
   "cell_type": "code",
   "execution_count": 103,
   "metadata": {},
   "outputs": [],
   "source": [
    "def top_k_idade(dataset, k):\n",
    "    copia = dataset.copy()\n",
    "    output = []\n",
    "    for i in range(k):\n",
    "        indice = copia['count'].idxmax()\n",
    "        output.append([copia.loc[indice][0], copia.loc[indice][1]])\n",
    "        copia.drop(indice, inplace=True,axis=0)\n",
    "    output = pd.DataFrame(output)\n",
    "    output = output.rename(columns={0: 'idade', 1: 'count'})\n",
    "    return output"
   ]
  },
  {
   "cell_type": "code",
   "execution_count": 104,
   "metadata": {},
   "outputs": [
    {
     "data": {
      "text/html": [
       "<div>\n",
       "<style scoped>\n",
       "    .dataframe tbody tr th:only-of-type {\n",
       "        vertical-align: middle;\n",
       "    }\n",
       "\n",
       "    .dataframe tbody tr th {\n",
       "        vertical-align: top;\n",
       "    }\n",
       "\n",
       "    .dataframe thead th {\n",
       "        text-align: right;\n",
       "    }\n",
       "</style>\n",
       "<table border=\"1\" class=\"dataframe\">\n",
       "  <thead>\n",
       "    <tr style=\"text-align: right;\">\n",
       "      <th></th>\n",
       "      <th>idade</th>\n",
       "      <th>count</th>\n",
       "    </tr>\n",
       "  </thead>\n",
       "  <tbody>\n",
       "    <tr>\n",
       "      <td>0</td>\n",
       "      <td>[36:40]</td>\n",
       "      <td>16</td>\n",
       "    </tr>\n",
       "    <tr>\n",
       "      <td>1</td>\n",
       "      <td>[26:30]</td>\n",
       "      <td>14</td>\n",
       "    </tr>\n",
       "    <tr>\n",
       "      <td>2</td>\n",
       "      <td>[31:35]</td>\n",
       "      <td>11</td>\n",
       "    </tr>\n",
       "    <tr>\n",
       "      <td>3</td>\n",
       "      <td>[41:45]</td>\n",
       "      <td>8</td>\n",
       "    </tr>\n",
       "    <tr>\n",
       "      <td>4</td>\n",
       "      <td>[61:65]</td>\n",
       "      <td>8</td>\n",
       "    </tr>\n",
       "    <tr>\n",
       "      <td>5</td>\n",
       "      <td>[46:50]</td>\n",
       "      <td>7</td>\n",
       "    </tr>\n",
       "    <tr>\n",
       "      <td>6</td>\n",
       "      <td>[21:25]</td>\n",
       "      <td>6</td>\n",
       "    </tr>\n",
       "    <tr>\n",
       "      <td>7</td>\n",
       "      <td>[51:55]</td>\n",
       "      <td>6</td>\n",
       "    </tr>\n",
       "    <tr>\n",
       "      <td>8</td>\n",
       "      <td>[76:80]</td>\n",
       "      <td>5</td>\n",
       "    </tr>\n",
       "    <tr>\n",
       "      <td>9</td>\n",
       "      <td>[71:75]</td>\n",
       "      <td>4</td>\n",
       "    </tr>\n",
       "  </tbody>\n",
       "</table>\n",
       "</div>"
      ],
      "text/plain": [
       "     idade  count\n",
       "0  [36:40]     16\n",
       "1  [26:30]     14\n",
       "2  [31:35]     11\n",
       "3  [41:45]      8\n",
       "4  [61:65]      8\n",
       "5  [46:50]      7\n",
       "6  [21:25]      6\n",
       "7  [51:55]      6\n",
       "8  [76:80]      5\n",
       "9  [71:75]      4"
      ]
     },
     "execution_count": 104,
     "metadata": {},
     "output_type": "execute_result"
    }
   ],
   "source": [
    "top_k_idade(dataset_idade, 10)"
   ]
  },
  {
   "cell_type": "markdown",
   "metadata": {},
   "source": [
    "# Consulta por gênero"
   ]
  },
  {
   "cell_type": "code",
   "execution_count": 44,
   "metadata": {},
   "outputs": [],
   "source": [
    "def agrupar_genero(df): \n",
    "    generos = pd.unique(df['sexo_paciente'])\n",
    "    casos_genero = []\n",
    "    for genero in generos:\n",
    "        count = 0\n",
    "        for i in range(len(df)):\n",
    "            if(df.loc[i][3] == genero):\n",
    "                count = count + 1\n",
    "        casos_genero.append([genero, count])\n",
    "    casos_genero = pd.DataFrame(casos_genero)\n",
    "    casos_genero.rename(columns={0: 'genero', 1: 'count'}, inplace=True)\n",
    "    ordem = np.arange(1,len(casos_genero)+1)\n",
    "    casos_genero['ordem'] = pd.Series(ordem, index=casos_genero.index)\n",
    "    return casos_genero"
   ]
  },
  {
   "cell_type": "code",
   "execution_count": 45,
   "metadata": {},
   "outputs": [
    {
     "data": {
      "text/html": [
       "<div>\n",
       "<style scoped>\n",
       "    .dataframe tbody tr th:only-of-type {\n",
       "        vertical-align: middle;\n",
       "    }\n",
       "\n",
       "    .dataframe tbody tr th {\n",
       "        vertical-align: top;\n",
       "    }\n",
       "\n",
       "    .dataframe thead th {\n",
       "        text-align: right;\n",
       "    }\n",
       "</style>\n",
       "<table border=\"1\" class=\"dataframe\">\n",
       "  <thead>\n",
       "    <tr style=\"text-align: right;\">\n",
       "      <th></th>\n",
       "      <th>genero</th>\n",
       "      <th>count</th>\n",
       "      <th>ordem</th>\n",
       "    </tr>\n",
       "  </thead>\n",
       "  <tbody>\n",
       "    <tr>\n",
       "      <td>0</td>\n",
       "      <td>MASCULINO</td>\n",
       "      <td>50</td>\n",
       "      <td>1</td>\n",
       "    </tr>\n",
       "    <tr>\n",
       "      <td>1</td>\n",
       "      <td>FEMININO</td>\n",
       "      <td>50</td>\n",
       "      <td>2</td>\n",
       "    </tr>\n",
       "  </tbody>\n",
       "</table>\n",
       "</div>"
      ],
      "text/plain": [
       "      genero  count  ordem\n",
       "0  MASCULINO     50      1\n",
       "1   FEMININO     50      2"
      ]
     },
     "execution_count": 45,
     "metadata": {},
     "output_type": "execute_result"
    }
   ],
   "source": [
    "dataset_genero = agrupar_genero(df)\n",
    "dataset_genero"
   ]
  },
  {
   "cell_type": "markdown",
   "metadata": {},
   "source": [
    "# Ruído de Laplace"
   ]
  },
  {
   "cell_type": "code",
   "execution_count": 106,
   "metadata": {},
   "outputs": [],
   "source": [
    "def score_function_lap(registro, saida):\n",
    "    if(registro[0] == saida):\n",
    "        return -registro[2]\n",
    "    else:\n",
    "        return 0"
   ]
  },
  {
   "cell_type": "code",
   "execution_count": 107,
   "metadata": {},
   "outputs": [],
   "source": [
    "def sensibilidade_lap(dataset):\n",
    "    return 1"
   ]
  },
  {
   "cell_type": "code",
   "execution_count": 274,
   "metadata": {},
   "outputs": [],
   "source": [
    "def erros_lap(query, argumento_consulta, k):\n",
    "    erros_laplace = []\n",
    "    top = list(query)\n",
    "    for argumento in argumento_consulta:\n",
    "        erro_argumento_lap = [0]*10\n",
    "        for i in range(len(argumento)):\n",
    "            if(argumento[i] == top[i]):\n",
    "                erro = 0\n",
    "            else:\n",
    "                erro = abs(top.index(argumento[i]) - i)\n",
    "            erro_argumento_lap[i]  = erro\n",
    "        erros_laplace.append(erro_argumento_lap)\n",
    "    return erros_laplace"
   ]
  },
  {
   "cell_type": "code",
   "execution_count": 309,
   "metadata": {},
   "outputs": [],
   "source": [
    "def plot_erros(erros_argumento, k):\n",
    "    df = pd.DataFrame({\n",
    "        'epsilon': ['0.1', '1', '10'],\n",
    "        'erro': erros_argumento,\n",
    "        'k = %i'%(k): k})\n",
    "    return df.plot(kind='bar', x='epsilon')"
   ]
  },
  {
   "cell_type": "markdown",
   "metadata": {},
   "source": [
    "### Consulta Bairros com Ruído"
   ]
  },
  {
   "cell_type": "code",
   "execution_count": 369,
   "metadata": {},
   "outputs": [],
   "source": [
    "def laplace_bairros(budget, sensibilidade, query, dataset, k):\n",
    "    resposta_query = np.array(query['count'])\n",
    "    coluna_bairros = np.array(query['bairro'])\n",
    "    output = []\n",
    "    np.random.seed(123)\n",
    "    for i in range(k):\n",
    "        ruido = stats.laplace.rvs(loc = 0, scale = sensibilidade/budget)\n",
    "        output.append((resposta_query[i] + ruido))\n",
    "    output = {\n",
    "        'bairro': coluna_bairros,\n",
    "        'count': output\n",
    "    }\n",
    "    \n",
    "    df = pd.DataFrame(output, columns = ['bairro', 'count'])\n",
    "    return df.sort_values(by=['count'],ascending=False)"
   ]
  },
  {
   "cell_type": "code",
   "execution_count": 381,
   "metadata": {},
   "outputs": [
    {
     "name": "stdout",
     "output_type": "stream",
     "text": [
      "epsilon: 0.1\n",
      "top-10:\n",
      "[['VILA PERI' 33.57834888254776]\n",
      " ['CENTRO' 23.9912496292116]\n",
      " ['ZONA RURAL' 7.779237549274969]\n",
      " ['VARJOTA' 5.6149509319177975]\n",
      " ['PIRAJA' 3.082865012547421]\n",
      " ['NOVA METROPOLE JUREMA' 0.6111758470501567]\n",
      " ['ARATURI' 0.330157277395263]\n",
      " ['PARQUE POTIRA JUREMA' -1.4304651224855673]\n",
      " ['JUREMA' -3.581292210973028]\n",
      " ['MESSEJANA' -5.9031268473211655]]\n",
      "\n",
      "\n",
      "epsilon: 1\n",
      "top-10:\n",
      "[['CENTRO' 19.49912496292116]\n",
      " ['VILA PERI' 4.257834888254775]\n",
      " ['ZONA RURAL' 2.5779237549274967]\n",
      " ['PIRAJA' 2.1082865012547423]\n",
      " ['ARATURI' 1.8330157277395263]\n",
      " ['VARJOTA' 1.4614950931917798]\n",
      " ['JUREMA' 1.4418707789026972]\n",
      " ['MESSEJANA' 1.2096873152678835]\n",
      " ['NOVA METROPOLE JUREMA' 0.9611175847050156]\n",
      " ['PARQUE POTIRA JUREMA' 0.7569534877514432]]\n",
      "\n",
      "\n",
      "epsilon: 10\n",
      "top-10:\n",
      "[['CENTRO' 19.049912496292116]\n",
      " ['ZONA RURAL' 2.05779237549275]\n",
      " ['PIRAJA' 2.0108286501254744]\n",
      " ['ARATURI' 1.9833015727739527]\n",
      " ['JUREMA' 1.9441870778902697]\n",
      " ['MESSEJANA' 1.9209687315267883]\n",
      " ['VILA PERI' 1.3257834888254776]\n",
      " ['VARJOTA' 1.046149509319178]\n",
      " ['NOVA METROPOLE JUREMA' 0.9961117584705016]\n",
      " ['PARQUE POTIRA JUREMA' 0.9756953487751443]]\n",
      "\n",
      "\n"
     ]
    }
   ],
   "source": [
    "budgets = [0.1, 1, 10]\n",
    "k = 10\n",
    "bairros = []\n",
    "for budget in budgets:\n",
    "    a = laplace_bairros(budget, sensibilidade_exp(dataset_bairros), top_k_bairros(dataset_bairros, k), dataset_bairros, k)\n",
    "    a = np.array(a)\n",
    "    print(\"epsilon: {}\\ntop-{}:\\n{}\\n\\n\".format(budget, k, a))\n",
    "    bairros.append(a[:,0])"
   ]
  },
  {
   "cell_type": "code",
   "execution_count": 382,
   "metadata": {},
   "outputs": [],
   "source": [
    "#inverti linha/coluna pra fazer a acumulada dos k pra plotar pra cada k\n",
    "t = erros_lap(top_k_bairros(dataset_bairros, 10)['bairro'], bairros, 10)\n",
    "lista_plot = []\n",
    "for i in range(k):\n",
    "    p_cada_k = []\n",
    "    for b in range(len(budgets)):\n",
    "        aux = t[b][i]\n",
    "        p_cada_k.append(aux)\n",
    "    lista_plot.append(p_cada_k)"
   ]
  },
  {
   "cell_type": "code",
   "execution_count": 383,
   "metadata": {},
   "outputs": [],
   "source": [
    "copia = lista_plot.copy()\n",
    "aux = []\n",
    "aux.append(copia[0])\n",
    "for i in range(1, k):\n",
    "    copia[i][0] += copia[i-1][0] \n",
    "    copia[i][1] += copia[i-1][1] \n",
    "    copia[i][2] += copia[i-1][2]\n",
    "    aux.append([copia[i][0], copia[i][1], copia[i][2]])"
   ]
  },
  {
   "cell_type": "code",
   "execution_count": 384,
   "metadata": {},
   "outputs": [
    {
     "data": {
      "image/png": "[encoded data removed]",
      "text/plain": [
       "<Figure size 432x288 with 1 Axes>"
      ]
     },
     "metadata": {
      "needs_background": "light"
     },
     "output_type": "display_data"
    },
    {
     "data": {
      "image/png": "[encoded data removed]",
      "text/plain": [
       "<Figure size 432x288 with 1 Axes>"
      ]
     },
     "metadata": {
      "needs_background": "light"
     },
     "output_type": "display_data"
    },
    {
     "data": {
      "image/png": "[encoded data removed]",
      "text/plain": [
       "<Figure size 432x288 with 1 Axes>"
      ]
     },
     "metadata": {
      "needs_background": "light"
     },
     "output_type": "display_data"
    },
    {
     "data": {
      "image/png": "[encoded data removed]",
      "text/plain": [
       "<Figure size 432x288 with 1 Axes>"
      ]
     },
     "metadata": {
      "needs_background": "light"
     },
     "output_type": "display_data"
    },
    {
     "data": {
      "image/png": "[encoded data removed]",
      "text/plain": [
       "<Figure size 432x288 with 1 Axes>"
      ]
     },
     "metadata": {
      "needs_background": "light"
     },
     "output_type": "display_data"
    },
    {
     "data": {
      "image/png": "[encoded data removed]",
      "text/plain": [
       "<Figure size 432x288 with 1 Axes>"
      ]
     },
     "metadata": {
      "needs_background": "light"
     },
     "output_type": "display_data"
    },
    {
     "data": {
      "image/png": "[encoded data removed]",
      "text/plain": [
       "<Figure size 432x288 with 1 Axes>"
      ]
     },
     "metadata": {
      "needs_background": "light"
     },
     "output_type": "display_data"
    },
    {
     "data": {
      "image/png": "[encoded data removed]",
      "text/plain": [
       "<Figure size 432x288 with 1 Axes>"
      ]
     },
     "metadata": {
      "needs_background": "light"
     },
     "output_type": "display_data"
    },
    {
     "data": {
      "image/png": "[encoded data removed]",
      "text/plain": [
       "<Figure size 432x288 with 1 Axes>"
      ]
     },
     "metadata": {
      "needs_background": "light"
     },
     "output_type": "display_data"
    },
    {
     "data": {
      "image/png": "[encoded data removed]",
      "text/plain": [
       "<Figure size 432x288 with 1 Axes>"
      ]
     },
     "metadata": {
      "needs_background": "light"
     },
     "output_type": "display_data"
    }
   ],
   "source": [
    "for i in range(0, k):\n",
    "    plot_erros(aux[i], i+1)"
   ]
  },
  {
   "cell_type": "markdown",
   "metadata": {},
   "source": [
    "### Consulta Idade com ruído"
   ]
  },
  {
   "cell_type": "code",
   "execution_count": 122,
   "metadata": {},
   "outputs": [],
   "source": [
    "def laplace_idade(budget, sensibilidade, query, dataset, k):\n",
    "    resposta_query = np.array(query['count'])\n",
    "    coluna_idades = np.array(query['idade'])\n",
    "    output = []\n",
    "    np.random.seed(123)\n",
    "    for i in range(k):\n",
    "        ruido = stats.laplace.rvs(loc = 0, scale = sensibilidade/budget)\n",
    "        output.append((resposta_query[i] + ruido))\n",
    "    output = {\n",
    "        'idade': coluna_idades,\n",
    "        'count': output\n",
    "    }\n",
    "    \n",
    "    df = pd.DataFrame(output, columns = ['idade', 'count'])\n",
    "    return df.sort_values(by=['count'],ascending=False)"
   ]
  },
  {
   "cell_type": "code",
   "execution_count": 131,
   "metadata": {},
   "outputs": [
    {
     "name": "stdout",
     "output_type": "stream",
     "text": [
      "epsilon: 0.1\n",
      "top-k:\n",
      "[['[21:25]' 38.57834888254776]\n",
      " ['[36:40]' 20.9912496292116]\n",
      " ['[61:65]' 13.779237549274969]\n",
      " ['[51:55]' 10.614950931917797]\n",
      " ['[41:45]' 9.08286501254742]\n",
      " ['[26:30]' 8.418707789026971]\n",
      " ['[46:50]' 5.330157277395263]\n",
      " ['[76:80]' 4.6111758470501565]\n",
      " ['[31:35]' 3.0968731526788345]\n",
      " ['[71:75]' 1.5695348775144327]]\n",
      "\n",
      "\n",
      "epsilon: 1\n",
      "top-k:\n",
      "[['[36:40]' 16.49912496292116]\n",
      " ['[26:30]' 13.441870778902697]\n",
      " ['[31:35]' 10.209687315267884]\n",
      " ['[21:25]' 9.257834888254775]\n",
      " ['[61:65]' 8.577923754927497]\n",
      " ['[41:45]' 8.108286501254742]\n",
      " ['[46:50]' 6.833015727739526]\n",
      " ['[51:55]' 6.46149509319178]\n",
      " ['[76:80]' 4.961117584705016]\n",
      " ['[71:75]' 3.7569534877514434]]\n",
      "\n",
      "\n",
      "epsilon: 10\n",
      "top-k:\n",
      "[['[36:40]' 16.049912496292116]\n",
      " ['[26:30]' 13.94418707789027]\n",
      " ['[31:35]' 10.920968731526788]\n",
      " ['[61:65]' 8.057792375492749]\n",
      " ['[41:45]' 8.010828650125474]\n",
      " ['[46:50]' 6.983301572773953]\n",
      " ['[21:25]' 6.325783488825477]\n",
      " ['[51:55]' 6.046149509319178]\n",
      " ['[76:80]' 4.9961117584705015]\n",
      " ['[71:75]' 3.9756953487751443]]\n",
      "\n",
      "\n"
     ]
    }
   ],
   "source": [
    "budgets = [0.1, 1, 10]\n",
    "idades = []\n",
    "k = 10\n",
    "for budget in budgets:\n",
    "    a = laplace_idade(budget, sensibilidade_lap(dataset_idade), top_k_idade(dataset_idade, 10), dataset_idade, 10)\n",
    "    a = np.array(a)\n",
    "    print(\"epsilon: {}\\ntop-k:\\n{}\\n\\n\".format(budget, a))\n",
    "    idades.append(a[:,0])"
   ]
  },
  {
   "cell_type": "code",
   "execution_count": 153,
   "metadata": {},
   "outputs": [
    {
     "data": {
      "text/plain": [
       "<matplotlib.axes._subplots.AxesSubplot at 0x214897a3ec8>"
      ]
     },
     "execution_count": 153,
     "metadata": {},
     "output_type": "execute_result"
    },
    {
     "data": {
      "image/png": "[encoded data removed]",
      "text/plain": [
       "<Figure size 432x288 with 1 Axes>"
      ]
     },
     "metadata": {
      "needs_background": "light"
     },
     "output_type": "display_data"
    }
   ],
   "source": [
    "query_idades = top_k_idade(dataset_idade, 10)['idade']\n",
    "erros_laplace_idades = erros_lap(query_idades, idades, 10)\n",
    "plot_erros(erros_laplace_idades)"
   ]
  },
  {
   "cell_type": "markdown",
   "metadata": {},
   "source": [
    "# Mecanismo Exponencial"
   ]
  },
  {
   "cell_type": "code",
   "execution_count": 154,
   "metadata": {},
   "outputs": [],
   "source": [
    "def score_function_exp(registro, saida):\n",
    "    if(registro[0] == saida):\n",
    "        return registro[1]\n",
    "    else:\n",
    "        return 0"
   ]
  },
  {
   "cell_type": "code",
   "execution_count": 155,
   "metadata": {},
   "outputs": [],
   "source": [
    "def sensibilidade_exp(dataset):\n",
    "    return 1"
   ]
  },
  {
   "cell_type": "code",
   "execution_count": 156,
   "metadata": {},
   "outputs": [],
   "source": [
    "def erros_exp(query, argumento_consulta, k):\n",
    "    erros_exponencial = []\n",
    "    top = list(query)\n",
    "    for argumento in argumento_consulta:\n",
    "        erro_argumento_exp = [0]*10\n",
    "        for i in range(len(argumento)):\n",
    "            if(argumento[i] in top):\n",
    "                if(argumento[i] == top[i]):\n",
    "                    erro = 0\n",
    "                else:\n",
    "                    erro = abs(top.index(argumento[i]) - i)\n",
    "            else:\n",
    "                erro = 100\n",
    "            erro_argumento_exp[i]  = erro\n",
    "        erros_exponencial.append(sum(erro_argumento_exp))\n",
    "    return erros_exponencial"
   ]
  },
  {
   "cell_type": "markdown",
   "metadata": {},
   "source": [
    "### Consulta Bairros Randomizada\n"
   ]
  },
  {
   "cell_type": "code",
   "execution_count": null,
   "metadata": {},
   "outputs": [],
   "source": []
  }
 ],
 "metadata": {
  "kernelspec": {
   "display_name": "Python 3",
   "language": "python",
   "name": "python3"
  },
  "language_info": {
   "codemirror_mode": {
    "name": "ipython",
    "version": 3
   },
   "file_extension": ".py",
   "mimetype": "text/x-python",
   "name": "python",
   "nbconvert_exporter": "python",
   "pygments_lexer": "ipython3",
   "version": "3.7.4"
  }
 },
 "nbformat": 4,
 "nbformat_minor": 2
}
