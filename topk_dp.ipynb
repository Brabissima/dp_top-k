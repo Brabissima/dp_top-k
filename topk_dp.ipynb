{
 "cells": [
  {
   "cell_type": "code",
   "execution_count": 76,
   "metadata": {},
   "outputs": [],
   "source": [
    "import pandas as pd\n",
    "import numpy as np\n",
    "import matplotlib.pyplot as plt\n",
    "from scipy import stats\n",
    "#import math"
   ]
  },
  {
   "cell_type": "code",
   "execution_count": 77,
   "metadata": {},
   "outputs": [],
   "source": [
    "def pre_processamento():\n",
    "    xlsx = pd.ExcelFile('casos_corona.xlsx')\n",
    "    df = pd.read_excel(xlsx, 'casos_corona')\n",
    "    df = df[:1000] ################################limitando o dataset\n",
    "    df = df[['bairroPaciente','municipioPaciente','resultadoFinalExame','sexoPaciente']]\n",
    "    bairros = pd.unique(df['bairroPaciente'])\n",
    "\n",
    "    clusters = []\n",
    "    for bairro in bairros:\n",
    "        cluster = []\n",
    "        for i in range(len(df)):\n",
    "            if(df.loc[i][0] == bairro):\n",
    "                if(df.loc[i][2] == 'Positivo'):\n",
    "                    resultado = 1\n",
    "                else:\n",
    "                    resultado = 0\n",
    "                cluster.append([df.loc[i][0], df.loc[i][1], resultado, df.loc[i][3]])\n",
    "        clusters.append(cluster)\n",
    "\n",
    "    novo_df = []\n",
    "    for cluster in clusters:\n",
    "        for i in range(len(cluster)):\n",
    "            novo_df.append(cluster[i])\n",
    "\n",
    "    novo_df = pd.DataFrame(novo_df)\n",
    "    novo_df.rename(columns={0: 'bairro_paciente', 1: 'municipio_paciente', 2: 'resultado_exame', 3: 'sexo_paciente'}, inplace=True)    \n",
    "    return novo_df"
   ]
  },
  {
   "cell_type": "code",
   "execution_count": 78,
   "metadata": {},
   "outputs": [],
   "source": [
    "df = pre_processamento()"
   ]
  },
  {
   "cell_type": "code",
   "execution_count": 79,
   "metadata": {},
   "outputs": [
    {
     "data": {
      "text/html": [
       "<div>\n",
       "<style scoped>\n",
       "    .dataframe tbody tr th:only-of-type {\n",
       "        vertical-align: middle;\n",
       "    }\n",
       "\n",
       "    .dataframe tbody tr th {\n",
       "        vertical-align: top;\n",
       "    }\n",
       "\n",
       "    .dataframe thead th {\n",
       "        text-align: right;\n",
       "    }\n",
       "</style>\n",
       "<table border=\"1\" class=\"dataframe\">\n",
       "  <thead>\n",
       "    <tr style=\"text-align: right;\">\n",
       "      <th></th>\n",
       "      <th>bairro_paciente</th>\n",
       "      <th>municipio_paciente</th>\n",
       "      <th>resultado_exame</th>\n",
       "      <th>sexo_paciente</th>\n",
       "    </tr>\n",
       "  </thead>\n",
       "  <tbody>\n",
       "    <tr>\n",
       "      <th>0</th>\n",
       "      <td>VILA PERI</td>\n",
       "      <td>FORTALEZA</td>\n",
       "      <td>0</td>\n",
       "      <td>MASCULINO</td>\n",
       "    </tr>\n",
       "    <tr>\n",
       "      <th>1</th>\n",
       "      <td>VARJOTA</td>\n",
       "      <td>FORTALEZA</td>\n",
       "      <td>0</td>\n",
       "      <td>FEMININO</td>\n",
       "    </tr>\n",
       "    <tr>\n",
       "      <th>2</th>\n",
       "      <td>VARJOTA</td>\n",
       "      <td>PACATUBA</td>\n",
       "      <td>0</td>\n",
       "      <td>FEMININO</td>\n",
       "    </tr>\n",
       "    <tr>\n",
       "      <th>3</th>\n",
       "      <td>NOVA METROPOLE JUREMA</td>\n",
       "      <td>CAUCAIA</td>\n",
       "      <td>0</td>\n",
       "      <td>FEMININO</td>\n",
       "    </tr>\n",
       "    <tr>\n",
       "      <th>4</th>\n",
       "      <td>PARQUE POTIRA JUREMA</td>\n",
       "      <td>CAUCAIA</td>\n",
       "      <td>0</td>\n",
       "      <td>FEMININO</td>\n",
       "    </tr>\n",
       "    <tr>\n",
       "      <th>...</th>\n",
       "      <td>...</td>\n",
       "      <td>...</td>\n",
       "      <td>...</td>\n",
       "      <td>...</td>\n",
       "    </tr>\n",
       "    <tr>\n",
       "      <th>995</th>\n",
       "      <td>MANGA</td>\n",
       "      <td>BATURITÉ</td>\n",
       "      <td>1</td>\n",
       "      <td>FEMININO</td>\n",
       "    </tr>\n",
       "    <tr>\n",
       "      <th>996</th>\n",
       "      <td>MORADA DOS VENTOS 1</td>\n",
       "      <td>CRATEUS</td>\n",
       "      <td>0</td>\n",
       "      <td>FEMININO</td>\n",
       "    </tr>\n",
       "    <tr>\n",
       "      <th>997</th>\n",
       "      <td>PRACINHA</td>\n",
       "      <td>PACATUBA</td>\n",
       "      <td>1</td>\n",
       "      <td>FEMININO</td>\n",
       "    </tr>\n",
       "    <tr>\n",
       "      <th>998</th>\n",
       "      <td>FLORES</td>\n",
       "      <td>ITAPIPOCA</td>\n",
       "      <td>1</td>\n",
       "      <td>MASCULINO</td>\n",
       "    </tr>\n",
       "    <tr>\n",
       "      <th>999</th>\n",
       "      <td>TAMARINDO</td>\n",
       "      <td>SOBRAL</td>\n",
       "      <td>1</td>\n",
       "      <td>FEMININO</td>\n",
       "    </tr>\n",
       "  </tbody>\n",
       "</table>\n",
       "<p>1000 rows × 4 columns</p>\n",
       "</div>"
      ],
      "text/plain": [
       "           bairro_paciente municipio_paciente  resultado_exame sexo_paciente\n",
       "0                VILA PERI          FORTALEZA                0     MASCULINO\n",
       "1                  VARJOTA          FORTALEZA                0      FEMININO\n",
       "2                  VARJOTA           PACATUBA                0      FEMININO\n",
       "3    NOVA METROPOLE JUREMA            CAUCAIA                0      FEMININO\n",
       "4     PARQUE POTIRA JUREMA            CAUCAIA                0      FEMININO\n",
       "..                     ...                ...              ...           ...\n",
       "995                  MANGA           BATURITÉ                1      FEMININO\n",
       "996    MORADA DOS VENTOS 1            CRATEUS                0      FEMININO\n",
       "997               PRACINHA           PACATUBA                1      FEMININO\n",
       "998                 FLORES          ITAPIPOCA                1     MASCULINO\n",
       "999              TAMARINDO             SOBRAL                1      FEMININO\n",
       "\n",
       "[1000 rows x 4 columns]"
      ]
     },
     "execution_count": 79,
     "metadata": {},
     "output_type": "execute_result"
    }
   ],
   "source": [
    "df"
   ]
  },
  {
   "cell_type": "code",
   "execution_count": 80,
   "metadata": {},
   "outputs": [],
   "source": [
    "def ajustar(df):\n",
    "    bairros = pd.unique(df['bairro_paciente'])\n",
    "    casos_bairros = []\n",
    "    for bairro in bairros:\n",
    "        count = 0\n",
    "        for i in range(len(df)):\n",
    "            if(df.loc[i][0] == bairro):\n",
    "                count = count + 1\n",
    "        casos_bairros.append([bairro, count])\n",
    "    casos_bairros = pd.DataFrame(casos_bairros)\n",
    "    casos_bairros.rename(columns={0: 'bairro', 1: 'count'}, inplace=True)\n",
    "    ordem = np.arange(1,len(casos_bairros)+1)#np.arange(-1,-(len(casos_bairros)+1), -1)\n",
    "    casos_bairros['ordem'] = pd.Series(ordem, index=casos_bairros.index)\n",
    "    return casos_bairros"
   ]
  },
  {
   "cell_type": "code",
   "execution_count": 81,
   "metadata": {},
   "outputs": [
    {
     "data": {
      "text/html": [
       "<div>\n",
       "<style scoped>\n",
       "    .dataframe tbody tr th:only-of-type {\n",
       "        vertical-align: middle;\n",
       "    }\n",
       "\n",
       "    .dataframe tbody tr th {\n",
       "        vertical-align: top;\n",
       "    }\n",
       "\n",
       "    .dataframe thead th {\n",
       "        text-align: right;\n",
       "    }\n",
       "</style>\n",
       "<table border=\"1\" class=\"dataframe\">\n",
       "  <thead>\n",
       "    <tr style=\"text-align: right;\">\n",
       "      <th></th>\n",
       "      <th>bairro</th>\n",
       "      <th>count</th>\n",
       "      <th>ordem</th>\n",
       "    </tr>\n",
       "  </thead>\n",
       "  <tbody>\n",
       "    <tr>\n",
       "      <th>0</th>\n",
       "      <td>VILA PERI</td>\n",
       "      <td>1</td>\n",
       "      <td>1</td>\n",
       "    </tr>\n",
       "    <tr>\n",
       "      <th>1</th>\n",
       "      <td>VARJOTA</td>\n",
       "      <td>2</td>\n",
       "      <td>2</td>\n",
       "    </tr>\n",
       "    <tr>\n",
       "      <th>2</th>\n",
       "      <td>NOVA METROPOLE JUREMA</td>\n",
       "      <td>1</td>\n",
       "      <td>3</td>\n",
       "    </tr>\n",
       "    <tr>\n",
       "      <th>3</th>\n",
       "      <td>PARQUE POTIRA JUREMA</td>\n",
       "      <td>1</td>\n",
       "      <td>4</td>\n",
       "    </tr>\n",
       "    <tr>\n",
       "      <th>4</th>\n",
       "      <td>PINHEIRO</td>\n",
       "      <td>1</td>\n",
       "      <td>5</td>\n",
       "    </tr>\n",
       "    <tr>\n",
       "      <th>...</th>\n",
       "      <td>...</td>\n",
       "      <td>...</td>\n",
       "      <td>...</td>\n",
       "    </tr>\n",
       "    <tr>\n",
       "      <th>494</th>\n",
       "      <td>MANGA</td>\n",
       "      <td>1</td>\n",
       "      <td>495</td>\n",
       "    </tr>\n",
       "    <tr>\n",
       "      <th>495</th>\n",
       "      <td>MORADA DOS VENTOS 1</td>\n",
       "      <td>1</td>\n",
       "      <td>496</td>\n",
       "    </tr>\n",
       "    <tr>\n",
       "      <th>496</th>\n",
       "      <td>PRACINHA</td>\n",
       "      <td>1</td>\n",
       "      <td>497</td>\n",
       "    </tr>\n",
       "    <tr>\n",
       "      <th>497</th>\n",
       "      <td>FLORES</td>\n",
       "      <td>1</td>\n",
       "      <td>498</td>\n",
       "    </tr>\n",
       "    <tr>\n",
       "      <th>498</th>\n",
       "      <td>TAMARINDO</td>\n",
       "      <td>1</td>\n",
       "      <td>499</td>\n",
       "    </tr>\n",
       "  </tbody>\n",
       "</table>\n",
       "<p>499 rows × 3 columns</p>\n",
       "</div>"
      ],
      "text/plain": [
       "                    bairro  count  ordem\n",
       "0                VILA PERI      1      1\n",
       "1                  VARJOTA      2      2\n",
       "2    NOVA METROPOLE JUREMA      1      3\n",
       "3     PARQUE POTIRA JUREMA      1      4\n",
       "4                 PINHEIRO      1      5\n",
       "..                     ...    ...    ...\n",
       "494                  MANGA      1    495\n",
       "495    MORADA DOS VENTOS 1      1    496\n",
       "496               PRACINHA      1    497\n",
       "497                 FLORES      1    498\n",
       "498              TAMARINDO      1    499\n",
       "\n",
       "[499 rows x 3 columns]"
      ]
     },
     "execution_count": 81,
     "metadata": {},
     "output_type": "execute_result"
    }
   ],
   "source": [
    "dataset = ajustar(df)\n",
    "dataset"
   ]
  },
  {
   "cell_type": "code",
   "execution_count": 82,
   "metadata": {},
   "outputs": [],
   "source": [
    "def query_topk(dataset, k):\n",
    "    copia = dataset.copy()\n",
    "    output = []\n",
    "    for i in range(k):\n",
    "        indice = copia['count'].idxmax()\n",
    "        output.append([copia.loc[indice][0], copia.loc[indice][1]])#(copia.loc[indice][0])#\n",
    "        copia.drop(indice, inplace=True,axis=0)\n",
    "    output = pd.DataFrame(output)\n",
    "    output = output.rename(columns={0: 'bairro', 1: 'count'})\n",
    "    return output"
   ]
  },
  {
   "cell_type": "code",
   "execution_count": 83,
   "metadata": {},
   "outputs": [
    {
     "data": {
      "text/html": [
       "<div>\n",
       "<style scoped>\n",
       "    .dataframe tbody tr th:only-of-type {\n",
       "        vertical-align: middle;\n",
       "    }\n",
       "\n",
       "    .dataframe tbody tr th {\n",
       "        vertical-align: top;\n",
       "    }\n",
       "\n",
       "    .dataframe thead th {\n",
       "        text-align: right;\n",
       "    }\n",
       "</style>\n",
       "<table border=\"1\" class=\"dataframe\">\n",
       "  <thead>\n",
       "    <tr style=\"text-align: right;\">\n",
       "      <th></th>\n",
       "      <th>bairro</th>\n",
       "      <th>count</th>\n",
       "    </tr>\n",
       "  </thead>\n",
       "  <tbody>\n",
       "    <tr>\n",
       "      <th>0</th>\n",
       "      <td>CENTRO</td>\n",
       "      <td>190</td>\n",
       "    </tr>\n",
       "    <tr>\n",
       "      <th>1</th>\n",
       "      <td>ZONA RURAL</td>\n",
       "      <td>46</td>\n",
       "    </tr>\n",
       "    <tr>\n",
       "      <th>2</th>\n",
       "      <td>ARATURI</td>\n",
       "      <td>13</td>\n",
       "    </tr>\n",
       "    <tr>\n",
       "      <th>3</th>\n",
       "      <td>SANTO ANTONIO</td>\n",
       "      <td>9</td>\n",
       "    </tr>\n",
       "    <tr>\n",
       "      <th>4</th>\n",
       "      <td>PLANALTO</td>\n",
       "      <td>8</td>\n",
       "    </tr>\n",
       "    <tr>\n",
       "      <th>5</th>\n",
       "      <td>JURITIANHA</td>\n",
       "      <td>8</td>\n",
       "    </tr>\n",
       "    <tr>\n",
       "      <th>6</th>\n",
       "      <td>JUREMA</td>\n",
       "      <td>7</td>\n",
       "    </tr>\n",
       "    <tr>\n",
       "      <th>7</th>\n",
       "      <td>PAVUNA</td>\n",
       "      <td>7</td>\n",
       "    </tr>\n",
       "    <tr>\n",
       "      <th>8</th>\n",
       "      <td>NOVO MARANGUAPE</td>\n",
       "      <td>7</td>\n",
       "    </tr>\n",
       "    <tr>\n",
       "      <th>9</th>\n",
       "      <td>PRECABURA</td>\n",
       "      <td>6</td>\n",
       "    </tr>\n",
       "  </tbody>\n",
       "</table>\n",
       "</div>"
      ],
      "text/plain": [
       "            bairro  count\n",
       "0           CENTRO    190\n",
       "1       ZONA RURAL     46\n",
       "2          ARATURI     13\n",
       "3    SANTO ANTONIO      9\n",
       "4         PLANALTO      8\n",
       "5       JURITIANHA      8\n",
       "6           JUREMA      7\n",
       "7           PAVUNA      7\n",
       "8  NOVO MARANGUAPE      7\n",
       "9        PRECABURA      6"
      ]
     },
     "execution_count": 83,
     "metadata": {},
     "output_type": "execute_result"
    }
   ],
   "source": [
    "query_topk(dataset, 10)"
   ]
  },
  {
   "cell_type": "code",
   "execution_count": 84,
   "metadata": {},
   "outputs": [],
   "source": [
    "def score_function(registro, saida):\n",
    "    if(registro[0] == saida):\n",
    "        return -registro[2]\n",
    "    else:\n",
    "        return 0"
   ]
  },
  {
   "cell_type": "code",
   "execution_count": 85,
   "metadata": {},
   "outputs": [],
   "source": [
    "def sensibilidade(dataset):\n",
    "    return 1"
   ]
  },
  {
   "cell_type": "markdown",
   "metadata": {},
   "source": [
    "# LAPLACE"
   ]
  },
  {
   "cell_type": "code",
   "execution_count": 86,
   "metadata": {},
   "outputs": [],
   "source": [
    "def laplace(budget, sensibilidade, query, dataset, k):\n",
    "    resposta_query = np.array(query['count'])\n",
    "    coluna_bairros = np.array(query['bairro'])\n",
    "    output = []\n",
    "    np.random.seed(123)\n",
    "    for i in range(k):\n",
    "        ruido = stats.laplace.rvs(loc = 0, scale = sensibilidade/budget)\n",
    "        output.append((resposta_query[i] + ruido))\n",
    "    dados = {\n",
    "        'bairro': coluna_bairros,\n",
    "        'count': output\n",
    "    }\n",
    "    \n",
    "    df = pd.DataFrame(dados, columns = ['bairro', 'count'])\n",
    "    return df.sort_values(by=['count'],ascending=False)"
   ]
  },
  {
   "cell_type": "code",
   "execution_count": 87,
   "metadata": {},
   "outputs": [
    {
     "name": "stdout",
     "output_type": "stream",
     "text": [
      "epsilon: 0.1\n",
      "top-k:\n",
      "[['CENTRO' 194.9912496292116]\n",
      " ['ZONA RURAL' 40.418707789026975]\n",
      " ['JUREMA' 39.57834888254776]\n",
      " ['PLANALTO' 13.779237549274969]\n",
      " ['PAVUNA' 11.614950931917797]\n",
      " ['SANTO ANTONIO' 10.08286501254742]\n",
      " ['NOVO MARANGUAPE' 6.6111758470501565]\n",
      " ['JURITIANHA' 6.330157277395263]\n",
      " ['ARATURI' 5.0968731526788345]\n",
      " ['PRECABURA' 3.5695348775144327]]\n",
      "\n",
      "\n",
      "epsilon: 1\n",
      "top-k:\n",
      "[['CENTRO' 190.49912496292117]\n",
      " ['ZONA RURAL' 45.4418707789027]\n",
      " ['ARATURI' 12.209687315267884]\n",
      " ['JUREMA' 10.257834888254775]\n",
      " ['SANTO ANTONIO' 9.108286501254742]\n",
      " ['PLANALTO' 8.577923754927497]\n",
      " ['JURITIANHA' 7.833015727739526]\n",
      " ['PAVUNA' 7.46149509319178]\n",
      " ['NOVO MARANGUAPE' 6.961117584705016]\n",
      " ['PRECABURA' 5.756953487751443]]\n",
      "\n",
      "\n",
      "epsilon: 10\n",
      "top-k:\n",
      "[['CENTRO' 190.0499124962921]\n",
      " ['ZONA RURAL' 45.94418707789027]\n",
      " ['ARATURI' 12.920968731526788]\n",
      " ['SANTO ANTONIO' 9.010828650125474]\n",
      " ['PLANALTO' 8.057792375492749]\n",
      " ['JURITIANHA' 7.983301572773953]\n",
      " ['JUREMA' 7.325783488825477]\n",
      " ['PAVUNA' 7.046149509319178]\n",
      " ['NOVO MARANGUAPE' 6.9961117584705015]\n",
      " ['PRECABURA' 5.975695348775145]]\n",
      "\n",
      "\n"
     ]
    }
   ],
   "source": [
    "budgets = [0.1, 1, 10]\n",
    "bairros = []\n",
    "k = 10\n",
    "for budget in budgets:\n",
    "    a = laplace(budget, sensibilidade(dataset), query_topk(dataset, 10), dataset, 10)\n",
    "    a = np.array(a)\n",
    "    print(\"epsilon: {}\\ntop-k:\\n{}\\n\\n\".format(budget, a))\n",
    "    bairros.append(a[:,0])"
   ]
  },
  {
   "cell_type": "code",
   "execution_count": 88,
   "metadata": {},
   "outputs": [],
   "source": [
    "erros_laplace = []\n",
    "k = 10\n",
    "top = list(query_topk(dataset, 10)['bairro'])\n",
    "for bairro in bairros:\n",
    "    erro_bairro_lap = [0]*10\n",
    "    if(top[0] != bairro[0]):\n",
    "         erro_bairro_lap[0] = 1\n",
    "    for i in range(1, len(bairro)):\n",
    "        if(top[i] != bairro[i]):\n",
    "            for j in range(0, i):\n",
    "                erro_bairro_lap[i] = 1 + erro_bairro_lap[j]\n",
    "    erros_laplace.append(erro_bairro_lap)"
   ]
  },
  {
   "cell_type": "code",
   "execution_count": 89,
   "metadata": {},
   "outputs": [
    {
     "data": {
      "text/plain": [
       "[[0, 0, 1, 2, 3, 4, 5, 6, 7, 0],\n",
       " [0, 0, 0, 1, 2, 3, 4, 0, 0, 0],\n",
       " [0, 0, 0, 0, 0, 0, 0, 0, 0, 0]]"
      ]
     },
     "execution_count": 89,
     "metadata": {},
     "output_type": "execute_result"
    }
   ],
   "source": [
    "erros_laplace"
   ]
  },
  {
   "cell_type": "code",
   "execution_count": 90,
   "metadata": {},
   "outputs": [
    {
     "data": {
      "image/png": "[encoded data removed]",
      "text/plain": [
       "<Figure size 720x576 with 1 Axes>"
      ]
     },
     "metadata": {
      "needs_background": "light"
     },
     "output_type": "display_data"
    }
   ],
   "source": [
    "cores = ['pink', 'purple', 'black']\n",
    "eixo_x = np.arange(start=1, stop=k+1, step=1)\n",
    "fig, ax = plt.subplots(figsize=(10, 8))\n",
    "for erro, budget, cor in zip(erros_laplace, budgets, cores):    \n",
    "    plt.plot(eixo_x, erro, ls='-', c=cor, label=r'$\\epsilon = %.1f$' % (budget))\n",
    "    \n",
    "plt.xlabel('$k$')\n",
    "plt.ylabel('Erro')\n",
    "plt.title('Erros: Mecanismo de Laplace')\n",
    "\n",
    "plt.legend()\n",
    "plt.subplots_adjust(wspace=1)\n",
    "plt.show()"
   ]
  },
  {
   "cell_type": "markdown",
   "metadata": {},
   "source": [
    "# EXPONENCIAL"
   ]
  },
  {
   "cell_type": "code",
   "execution_count": 91,
   "metadata": {},
   "outputs": [],
   "source": [
    "def dp_query(budget, sensibilidade, dataset, k):\n",
    "    budget = budget/k\n",
    "    probabilidades = []\n",
    "    pk = []\n",
    "    saidas = dataset['bairro']\n",
    "    xk = np.arange(len(saidas))\n",
    "    for out in saidas:\n",
    "        linha = []\n",
    "        for i in range(len(dataset)):\n",
    "            registro = dataset.loc[i]\n",
    "            numerador = np.exp(budget*score_function(registro,out)/(2*sensibilidade))\n",
    "            denominador = 0\n",
    "            for saida in saidas:\n",
    "                denominador += np.exp(budget*score_function(registro, saida)/(2*sensibilidade))\n",
    "            linha.append(numerador/denominador)\n",
    "        probabilidades.append(linha)\n",
    "    for prob in probabilidades:\n",
    "        pk.append(np.sum(prob)/np.sum(probabilidades))\n",
    "    dist = stats.rv_discrete(name='dist', values=(xk, pk))\n",
    "    output = []\n",
    "\n",
    "    for i in range(k):\n",
    "        valido = False\n",
    "        while(not valido):\n",
    "            indice = dist.rvs()\n",
    "            if([saidas[indice], dataset.loc[indice][1]] not in output):\n",
    "                output.append([saidas[indice], dataset.loc[indice][1]])\n",
    "                valido = True\n",
    "        \n",
    "    output = pd.DataFrame(output)\n",
    "    output = output.rename(columns={0: 'bairro', 1: 'count'})\n",
    "    return output.sort_values(by=['count'],ascending=False)"
   ]
  },
  {
   "cell_type": "code",
   "execution_count": 92,
   "metadata": {},
   "outputs": [
    {
     "name": "stdout",
     "output_type": "stream",
     "text": [
      "epsilon: 0.1\n",
      "top-k:\n",
      "[['ALTO DO CRISTO' 3]\n",
      " ['FÁTIMA' 2]\n",
      " ['PACATUBA' 2]\n",
      " ['RODOVIARIA' 1]\n",
      " ['ABREULANDIA' 1]\n",
      " ['TABAPUAZINHO' 1]\n",
      " ['CARRAPATEIRAS' 1]\n",
      " ['CROATÁ I' 1]\n",
      " ['CAMPO VELHO' 1]\n",
      " ['PALESTINA- SEDE II' 1]]\n",
      "\n",
      "\n",
      "epsilon: 1\n",
      "top-k:\n",
      "[['JEREISSATI 2' 6]\n",
      " ['SEMINÁRIO' 3]\n",
      " ['ALTO ALEGRE' 2]\n",
      " ['DAMAS' 1]\n",
      " ['SANTOS DUMONT' 1]\n",
      " ['SEDE II' 1]\n",
      " ['CENTRO SUCESSO' 1]\n",
      " ['OLINDA' 1]\n",
      " ['UBAUNA' 1]\n",
      " ['PAJUCARA' 1]]\n",
      "\n",
      "\n",
      "epsilon: 10\n",
      "top-k:\n",
      "[['ARATURI' 13]\n",
      " ['PARQUE SANTO ANTONIO' 3]\n",
      " ['IPARANA' 2]\n",
      " ['ALTO DA BRASILIA' 2]\n",
      " ['PRAIA DO FUTURO I' 1]\n",
      " ['NOVO ANGELIN' 1]\n",
      " ['PQ. POTIRA I' 1]\n",
      " ['LIVRAMENTO' 1]\n",
      " ['JEREISSATE I' 1]\n",
      " ['LENDRO BEZERRA' 1]]\n",
      "\n",
      "\n"
     ]
    }
   ],
   "source": [
    "budgets = [0.1, 1, 10]\n",
    "bairros = []\n",
    "k = 10\n",
    "for budget in budgets:\n",
    "    a = dp_query(budget, sensibilidade(dataset), dataset, k)\n",
    "    a = np.array(a)\n",
    "    print(\"epsilon: {}\\ntop-k:\\n{}\\n\\n\".format(budget, a))\n",
    "    bairros.append(a[:,0])"
   ]
  },
  {
   "cell_type": "code",
   "execution_count": 93,
   "metadata": {},
   "outputs": [],
   "source": [
    "erros_exponencial = []\n",
    "k = 10\n",
    "top = list(query_topk(dataset, 10)['bairro'])\n",
    "for bairro in bairros:\n",
    "    erro_bairro_exp = [0]*10\n",
    "    for i in range(0, len(bairro)):\n",
    "        if(bairro[i] not in top):\n",
    "            erro_bairro_exp[i] = 15\n",
    "        else:\n",
    "            if(top[0] != bairro[0]):\n",
    "                erro_bairro_exp[0] = 1\n",
    "            if(top[i] != bairro[i]):\n",
    "                for j in range(0, i):\n",
    "                    erro_bairro_exp[i] = 1 + erro_bairro_exp[j]\n",
    "    erros_exponencial.append(erro_bairro_exp)"
   ]
  },
  {
   "cell_type": "code",
   "execution_count": 94,
   "metadata": {},
   "outputs": [
    {
     "data": {
      "text/plain": [
       "[[15, 15, 15, 15, 15, 15, 15, 15, 15, 15],\n",
       " [15, 15, 15, 15, 15, 15, 15, 15, 15, 15],\n",
       " [1, 15, 15, 15, 15, 15, 15, 15, 15, 15]]"
      ]
     },
     "execution_count": 94,
     "metadata": {},
     "output_type": "execute_result"
    }
   ],
   "source": [
    "erros_exponencial #se o primeiro é igual a 1, por exemplo, significa que ele está no top-k,\n",
    "                  #mas na posição errada, se der 15 é pq não está no top-k."
   ]
  },
  {
   "cell_type": "code",
   "execution_count": 95,
   "metadata": {},
   "outputs": [
    {
     "data": {
      "image/png": "[encoded data removed]",
      "text/plain": [
       "<Figure size 720x576 with 1 Axes>"
      ]
     },
     "metadata": {
      "needs_background": "light"
     },
     "output_type": "display_data"
    }
   ],
   "source": [
    "cores = ['red', 'green', 'blue']\n",
    "eixo_x = np.arange(start=1, stop=k+1, step=1)\n",
    "fig, ax = plt.subplots(figsize=(10, 8))\n",
    "for erro, budget, cor in zip(erros_exponencial, budgets, cores):    \n",
    "    plt.plot(eixo_x, erro, ls='-', c=cor, label=r'$\\epsilon = %.1f$' % (budget))\n",
    "    \n",
    "plt.xlabel('$k$')\n",
    "plt.ylabel('Erro')\n",
    "plt.title('Erros: Mecanismo Exponencial')\n",
    "\n",
    "plt.legend()\n",
    "plt.subplots_adjust(wspace=1)\n",
    "plt.show()"
   ]
  },
  {
   "cell_type": "markdown",
   "metadata": {},
   "source": [
    "# PLOT COMPARATIVO DE ERROS"
   ]
  },
  {
   "cell_type": "code",
   "execution_count": 96,
   "metadata": {},
   "outputs": [
    {
     "data": {
      "image/png": "[encoded data removed]",
      "text/plain": [
       "<Figure size 720x576 with 1 Axes>"
      ]
     },
     "metadata": {
      "needs_background": "light"
     },
     "output_type": "display_data"
    }
   ],
   "source": [
    "cores_exp = ['red', 'green', 'blue']\n",
    "cores_lap = ['pink', 'purple', 'black']\n",
    "eixo_x = np.arange(start=1, stop=k+1, step=1)\n",
    "fig, ax = plt.subplots(figsize=(10, 8))\n",
    "for erro, budget, cor in zip(erros_exponencial, budgets, cores_exp):    \n",
    "    plt.plot(eixo_x, erro, ls='-', c=cor, label=r'EXPONENCIAL $\\epsilon= %.1f$' % (budget))\n",
    "\n",
    "for erro, budget, cor in zip(erros_laplace, budgets, cores_lap):    \n",
    "    plt.plot(eixo_x, erro, ls='-', c=cor, label=r'LAPLACE $\\epsilon= %.1f$' % (budget))\n",
    "\n",
    "plt.xlabel('$k$')\n",
    "plt.ylabel('Erro |Mecanismo - Top-k|')\n",
    "plt.title('Comparativo de erros')\n",
    "\n",
    "plt.legend()\n",
    "plt.subplots_adjust(wspace=1)\n",
    "plt.show()"
   ]
  }
 ],
 "metadata": {
  "kernelspec": {
   "display_name": "Python 3",
   "language": "python",
   "name": "python3"
  },
  "language_info": {
   "codemirror_mode": {
    "name": "ipython",
    "version": 3
   },
   "file_extension": ".py",
   "mimetype": "text/x-python",
   "name": "python",
   "nbconvert_exporter": "python",
   "pygments_lexer": "ipython3",
   "version": "3.7.7"
  }
 },
 "nbformat": 4,
 "nbformat_minor": 2
}
