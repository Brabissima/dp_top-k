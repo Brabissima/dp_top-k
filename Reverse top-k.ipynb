{
 "cells": [
  {
   "cell_type": "code",
   "execution_count": 3,
   "metadata": {},
   "outputs": [],
   "source": [
    "import pandas as pd\n",
    "import numpy as np\n",
    "import matplotlib.pyplot as plt\n",
    "from scipy import stats\n",
    "import math\n",
    "import random\n",
    "import seaborn as sns\n",
    "\n",
    "from collections import Counter"
   ]
  },
  {
   "cell_type": "code",
   "execution_count": 211,
   "metadata": {},
   "outputs": [],
   "source": [
    "def pre_processamento():\n",
    "    xlsx = pd.ExcelFile('casos_corona.xlsx')\n",
    "    df = pd.read_excel(xlsx, 'casos_corona')\n",
    "    df = df[:1000] ################################limitando o dataset\n",
    "    df = df[['bairroPaciente','municipioPaciente','resultadoFinalExame','sexoPaciente', 'idadePaciente']]\n",
    "    \n",
    "    novo_df = []\n",
    "    for i in range(len(df)):\n",
    "        if(df.loc[i][2] == 'Positivo'):\n",
    "            resultado = 1\n",
    "            novo_df.append([df.loc[i][0], df.loc[i][1], resultado, df.loc[i][3], df.loc[i][4]])\n",
    "        else:\n",
    "            resultado = 0\n",
    "            novo_df.append([df.loc[i][0], df.loc[i][1], resultado, df.loc[i][3], df.loc[i][4]])\n",
    "    \n",
    "    novo_df = pd.DataFrame(novo_df)\n",
    "    novo_df.rename(columns={0: 'bairro_paciente', 1: 'municipio_paciente', 2: 'resultado_exame', 3: 'sexo_paciente', 4: 'idade_paciente'}, inplace=True)    \n",
    "    return novo_df"
   ]
  },
  {
   "cell_type": "code",
   "execution_count": 212,
   "metadata": {},
   "outputs": [
    {
     "data": {
      "text/html": [
       "<div>\n",
       "<style scoped>\n",
       "    .dataframe tbody tr th:only-of-type {\n",
       "        vertical-align: middle;\n",
       "    }\n",
       "\n",
       "    .dataframe tbody tr th {\n",
       "        vertical-align: top;\n",
       "    }\n",
       "\n",
       "    .dataframe thead th {\n",
       "        text-align: right;\n",
       "    }\n",
       "</style>\n",
       "<table border=\"1\" class=\"dataframe\">\n",
       "  <thead>\n",
       "    <tr style=\"text-align: right;\">\n",
       "      <th></th>\n",
       "      <th>bairro_paciente</th>\n",
       "      <th>municipio_paciente</th>\n",
       "      <th>resultado_exame</th>\n",
       "      <th>sexo_paciente</th>\n",
       "      <th>idade_paciente</th>\n",
       "    </tr>\n",
       "  </thead>\n",
       "  <tbody>\n",
       "    <tr>\n",
       "      <th>0</th>\n",
       "      <td>VILA PERI</td>\n",
       "      <td>FORTALEZA</td>\n",
       "      <td>0</td>\n",
       "      <td>MASCULINO</td>\n",
       "      <td>74.0</td>\n",
       "    </tr>\n",
       "    <tr>\n",
       "      <th>1</th>\n",
       "      <td>VARJOTA</td>\n",
       "      <td>FORTALEZA</td>\n",
       "      <td>0</td>\n",
       "      <td>FEMININO</td>\n",
       "      <td>31.0</td>\n",
       "    </tr>\n",
       "    <tr>\n",
       "      <th>2</th>\n",
       "      <td>NOVA METROPOLE JUREMA</td>\n",
       "      <td>CAUCAIA</td>\n",
       "      <td>0</td>\n",
       "      <td>FEMININO</td>\n",
       "      <td>84.0</td>\n",
       "    </tr>\n",
       "    <tr>\n",
       "      <th>3</th>\n",
       "      <td>PARQUE POTIRA JUREMA</td>\n",
       "      <td>CAUCAIA</td>\n",
       "      <td>0</td>\n",
       "      <td>FEMININO</td>\n",
       "      <td>61.0</td>\n",
       "    </tr>\n",
       "    <tr>\n",
       "      <th>4</th>\n",
       "      <td>PINHEIRO</td>\n",
       "      <td>GUAIÚBA</td>\n",
       "      <td>0</td>\n",
       "      <td>MASCULINO</td>\n",
       "      <td>37.0</td>\n",
       "    </tr>\n",
       "    <tr>\n",
       "      <th>...</th>\n",
       "      <td>...</td>\n",
       "      <td>...</td>\n",
       "      <td>...</td>\n",
       "      <td>...</td>\n",
       "      <td>...</td>\n",
       "    </tr>\n",
       "    <tr>\n",
       "      <th>995</th>\n",
       "      <td>FLORES</td>\n",
       "      <td>ITAPIPOCA</td>\n",
       "      <td>1</td>\n",
       "      <td>MASCULINO</td>\n",
       "      <td>92.0</td>\n",
       "    </tr>\n",
       "    <tr>\n",
       "      <th>996</th>\n",
       "      <td>PARQUE IRACEMA</td>\n",
       "      <td>MARANGUAPE</td>\n",
       "      <td>0</td>\n",
       "      <td>FEMININO</td>\n",
       "      <td>32.0</td>\n",
       "    </tr>\n",
       "    <tr>\n",
       "      <th>997</th>\n",
       "      <td>EDMILSON CORREIA</td>\n",
       "      <td>QUIXERAMOBIM</td>\n",
       "      <td>0</td>\n",
       "      <td>MASCULINO</td>\n",
       "      <td>28.0</td>\n",
       "    </tr>\n",
       "    <tr>\n",
       "      <th>998</th>\n",
       "      <td>TAMARINDO</td>\n",
       "      <td>SOBRAL</td>\n",
       "      <td>1</td>\n",
       "      <td>FEMININO</td>\n",
       "      <td>40.0</td>\n",
       "    </tr>\n",
       "    <tr>\n",
       "      <th>999</th>\n",
       "      <td>CENTRO</td>\n",
       "      <td>TEJUCUOCA</td>\n",
       "      <td>1</td>\n",
       "      <td>MASCULINO</td>\n",
       "      <td>10.0</td>\n",
       "    </tr>\n",
       "  </tbody>\n",
       "</table>\n",
       "<p>1000 rows × 5 columns</p>\n",
       "</div>"
      ],
      "text/plain": [
       "           bairro_paciente municipio_paciente  resultado_exame sexo_paciente  \\\n",
       "0                VILA PERI          FORTALEZA                0     MASCULINO   \n",
       "1                  VARJOTA          FORTALEZA                0      FEMININO   \n",
       "2    NOVA METROPOLE JUREMA            CAUCAIA                0      FEMININO   \n",
       "3     PARQUE POTIRA JUREMA            CAUCAIA                0      FEMININO   \n",
       "4                 PINHEIRO            GUAIÚBA                0     MASCULINO   \n",
       "..                     ...                ...              ...           ...   \n",
       "995                 FLORES          ITAPIPOCA                1     MASCULINO   \n",
       "996         PARQUE IRACEMA         MARANGUAPE                0      FEMININO   \n",
       "997       EDMILSON CORREIA       QUIXERAMOBIM                0     MASCULINO   \n",
       "998              TAMARINDO             SOBRAL                1      FEMININO   \n",
       "999                 CENTRO          TEJUCUOCA                1     MASCULINO   \n",
       "\n",
       "     idade_paciente  \n",
       "0              74.0  \n",
       "1              31.0  \n",
       "2              84.0  \n",
       "3              61.0  \n",
       "4              37.0  \n",
       "..              ...  \n",
       "995            92.0  \n",
       "996            32.0  \n",
       "997            28.0  \n",
       "998            40.0  \n",
       "999            10.0  \n",
       "\n",
       "[1000 rows x 5 columns]"
      ]
     },
     "execution_count": 212,
     "metadata": {},
     "output_type": "execute_result"
    }
   ],
   "source": [
    "df = pre_processamento()\n",
    "df"
   ]
  },
  {
   "cell_type": "code",
   "execution_count": 213,
   "metadata": {},
   "outputs": [],
   "source": [
    "def agrupar_bairros(df):\n",
    "    bairros = pd.unique(df['bairro_paciente'])\n",
    "    casos_bairros = []\n",
    "    for bairro in bairros:\n",
    "        count = 0\n",
    "        for i in range(len(df)):\n",
    "            if(df.loc[i][0] == bairro):\n",
    "                count = count + 1\n",
    "        casos_bairros.append([bairro, count])\n",
    "    casos_bairros = pd.DataFrame(casos_bairros)\n",
    "    casos_bairros.rename(columns={0: 'bairro', 1: 'count'}, inplace=True)\n",
    "    return casos_bairros"
   ]
  },
  {
   "cell_type": "code",
   "execution_count": 214,
   "metadata": {},
   "outputs": [],
   "source": [
    "dataset_bairros = agrupar_bairros(df)"
   ]
  },
  {
   "cell_type": "code",
   "execution_count": 215,
   "metadata": {},
   "outputs": [],
   "source": [
    "def top_k_reverse_bairros(dataset, k):\n",
    "    copia = dataset.copy()\n",
    "    output = []\n",
    "    for i in range(k):\n",
    "        indice = copia['count'].idxmin()\n",
    "        output.append([copia.loc[indice][0], copia.loc[indice][1]])\n",
    "        copia.drop(indice, inplace=True,axis=0)\n",
    "    output = pd.DataFrame(output)\n",
    "    output = output.rename(columns={0: 'bairro', 1: 'count'})\n",
    "    return output"
   ]
  },
  {
   "cell_type": "code",
   "execution_count": 216,
   "metadata": {},
   "outputs": [
    {
     "data": {
      "text/html": [
       "<div>\n",
       "<style scoped>\n",
       "    .dataframe tbody tr th:only-of-type {\n",
       "        vertical-align: middle;\n",
       "    }\n",
       "\n",
       "    .dataframe tbody tr th {\n",
       "        vertical-align: top;\n",
       "    }\n",
       "\n",
       "    .dataframe thead th {\n",
       "        text-align: right;\n",
       "    }\n",
       "</style>\n",
       "<table border=\"1\" class=\"dataframe\">\n",
       "  <thead>\n",
       "    <tr style=\"text-align: right;\">\n",
       "      <th></th>\n",
       "      <th>bairro</th>\n",
       "      <th>count</th>\n",
       "    </tr>\n",
       "  </thead>\n",
       "  <tbody>\n",
       "    <tr>\n",
       "      <th>0</th>\n",
       "      <td>VILA PERI</td>\n",
       "      <td>1</td>\n",
       "    </tr>\n",
       "    <tr>\n",
       "      <th>1</th>\n",
       "      <td>NOVA METROPOLE JUREMA</td>\n",
       "      <td>1</td>\n",
       "    </tr>\n",
       "    <tr>\n",
       "      <th>2</th>\n",
       "      <td>PARQUE POTIRA JUREMA</td>\n",
       "      <td>1</td>\n",
       "    </tr>\n",
       "    <tr>\n",
       "      <th>3</th>\n",
       "      <td>PINHEIRO</td>\n",
       "      <td>1</td>\n",
       "    </tr>\n",
       "    <tr>\n",
       "      <th>4</th>\n",
       "      <td>PL CAUCAIA</td>\n",
       "      <td>1</td>\n",
       "    </tr>\n",
       "    <tr>\n",
       "      <th>5</th>\n",
       "      <td>TABAPUA</td>\n",
       "      <td>1</td>\n",
       "    </tr>\n",
       "    <tr>\n",
       "      <th>6</th>\n",
       "      <td>ITAPAJE</td>\n",
       "      <td>1</td>\n",
       "    </tr>\n",
       "    <tr>\n",
       "      <th>7</th>\n",
       "      <td>PADRE JULIO MARIA</td>\n",
       "      <td>1</td>\n",
       "    </tr>\n",
       "    <tr>\n",
       "      <th>8</th>\n",
       "      <td>SÃO RAIMUNDO</td>\n",
       "      <td>1</td>\n",
       "    </tr>\n",
       "    <tr>\n",
       "      <th>9</th>\n",
       "      <td>ALVARO WEYNE''</td>\n",
       "      <td>1</td>\n",
       "    </tr>\n",
       "  </tbody>\n",
       "</table>\n",
       "</div>"
      ],
      "text/plain": [
       "                  bairro  count\n",
       "0              VILA PERI      1\n",
       "1  NOVA METROPOLE JUREMA      1\n",
       "2   PARQUE POTIRA JUREMA      1\n",
       "3               PINHEIRO      1\n",
       "4             PL CAUCAIA      1\n",
       "5                TABAPUA      1\n",
       "6                ITAPAJE      1\n",
       "7      PADRE JULIO MARIA      1\n",
       "8           SÃO RAIMUNDO      1\n",
       "9         ALVARO WEYNE''      1"
      ]
     },
     "execution_count": 216,
     "metadata": {},
     "output_type": "execute_result"
    }
   ],
   "source": [
    "top_k_reverse_bairros(dataset_bairros, 10)"
   ]
  },
  {
   "cell_type": "code",
   "execution_count": 217,
   "metadata": {},
   "outputs": [],
   "source": [
    "def agrupar_idade(df):\n",
    "    clusters_idades = []\n",
    "    intervalos = np.arange(1, 100, dtype=int)\n",
    "    for i in range(0, 95, 5):\n",
    "        gaps = []\n",
    "        for j in range(i, i+5):\n",
    "            gaps.append(intervalos[j])\n",
    "        clusters_idades.append(gaps)\n",
    "\n",
    "    casos_idade = []\n",
    "\n",
    "    for cluster in clusters_idades:\n",
    "        count = 0\n",
    "        for i in range(len(df)):\n",
    "            if(df.loc[i][4] in cluster):\n",
    "                count = count + 1\n",
    "        casos_idade.append(['[{}:{}]'.format(cluster[0], cluster[4]), count])\n",
    "    casos_idade = pd.DataFrame(casos_idade)\n",
    "    casos_idade.rename(columns={0: 'idade', 1: 'count'}, inplace=True)\n",
    "    casos_idade = casos_idade.sort_values(by=['count'], ascending=True)\n",
    "    ordem = np.arange(1,len(casos_idade)+1)\n",
    "    casos_idade['ordem'] = pd.Series(ordem, index=casos_idade.index)\n",
    "    return casos_idade"
   ]
  },
  {
   "cell_type": "code",
   "execution_count": 218,
   "metadata": {},
   "outputs": [
    {
     "data": {
      "text/html": [
       "<div>\n",
       "<style scoped>\n",
       "    .dataframe tbody tr th:only-of-type {\n",
       "        vertical-align: middle;\n",
       "    }\n",
       "\n",
       "    .dataframe tbody tr th {\n",
       "        vertical-align: top;\n",
       "    }\n",
       "\n",
       "    .dataframe thead th {\n",
       "        text-align: right;\n",
       "    }\n",
       "</style>\n",
       "<table border=\"1\" class=\"dataframe\">\n",
       "  <thead>\n",
       "    <tr style=\"text-align: right;\">\n",
       "      <th></th>\n",
       "      <th>idade</th>\n",
       "      <th>count</th>\n",
       "      <th>ordem</th>\n",
       "    </tr>\n",
       "  </thead>\n",
       "  <tbody>\n",
       "    <tr>\n",
       "      <th>1</th>\n",
       "      <td>[6:10]</td>\n",
       "      <td>4</td>\n",
       "      <td>1</td>\n",
       "    </tr>\n",
       "    <tr>\n",
       "      <th>17</th>\n",
       "      <td>[86:90]</td>\n",
       "      <td>10</td>\n",
       "      <td>2</td>\n",
       "    </tr>\n",
       "    <tr>\n",
       "      <th>0</th>\n",
       "      <td>[1:5]</td>\n",
       "      <td>11</td>\n",
       "      <td>3</td>\n",
       "    </tr>\n",
       "    <tr>\n",
       "      <th>18</th>\n",
       "      <td>[91:95]</td>\n",
       "      <td>12</td>\n",
       "      <td>4</td>\n",
       "    </tr>\n",
       "    <tr>\n",
       "      <th>2</th>\n",
       "      <td>[11:15]</td>\n",
       "      <td>14</td>\n",
       "      <td>5</td>\n",
       "    </tr>\n",
       "    <tr>\n",
       "      <th>16</th>\n",
       "      <td>[81:85]</td>\n",
       "      <td>19</td>\n",
       "      <td>6</td>\n",
       "    </tr>\n",
       "    <tr>\n",
       "      <th>15</th>\n",
       "      <td>[76:80]</td>\n",
       "      <td>34</td>\n",
       "      <td>7</td>\n",
       "    </tr>\n",
       "    <tr>\n",
       "      <th>13</th>\n",
       "      <td>[66:70]</td>\n",
       "      <td>35</td>\n",
       "      <td>8</td>\n",
       "    </tr>\n",
       "    <tr>\n",
       "      <th>3</th>\n",
       "      <td>[16:20]</td>\n",
       "      <td>36</td>\n",
       "      <td>9</td>\n",
       "    </tr>\n",
       "    <tr>\n",
       "      <th>11</th>\n",
       "      <td>[56:60]</td>\n",
       "      <td>50</td>\n",
       "      <td>10</td>\n",
       "    </tr>\n",
       "    <tr>\n",
       "      <th>12</th>\n",
       "      <td>[61:65]</td>\n",
       "      <td>50</td>\n",
       "      <td>11</td>\n",
       "    </tr>\n",
       "    <tr>\n",
       "      <th>14</th>\n",
       "      <td>[71:75]</td>\n",
       "      <td>50</td>\n",
       "      <td>12</td>\n",
       "    </tr>\n",
       "    <tr>\n",
       "      <th>10</th>\n",
       "      <td>[51:55]</td>\n",
       "      <td>65</td>\n",
       "      <td>13</td>\n",
       "    </tr>\n",
       "    <tr>\n",
       "      <th>9</th>\n",
       "      <td>[46:50]</td>\n",
       "      <td>75</td>\n",
       "      <td>14</td>\n",
       "    </tr>\n",
       "    <tr>\n",
       "      <th>4</th>\n",
       "      <td>[21:25]</td>\n",
       "      <td>89</td>\n",
       "      <td>15</td>\n",
       "    </tr>\n",
       "    <tr>\n",
       "      <th>8</th>\n",
       "      <td>[41:45]</td>\n",
       "      <td>105</td>\n",
       "      <td>16</td>\n",
       "    </tr>\n",
       "    <tr>\n",
       "      <th>5</th>\n",
       "      <td>[26:30]</td>\n",
       "      <td>107</td>\n",
       "      <td>17</td>\n",
       "    </tr>\n",
       "    <tr>\n",
       "      <th>6</th>\n",
       "      <td>[31:35]</td>\n",
       "      <td>107</td>\n",
       "      <td>18</td>\n",
       "    </tr>\n",
       "    <tr>\n",
       "      <th>7</th>\n",
       "      <td>[36:40]</td>\n",
       "      <td>116</td>\n",
       "      <td>19</td>\n",
       "    </tr>\n",
       "  </tbody>\n",
       "</table>\n",
       "</div>"
      ],
      "text/plain": [
       "      idade  count  ordem\n",
       "1    [6:10]      4      1\n",
       "17  [86:90]     10      2\n",
       "0     [1:5]     11      3\n",
       "18  [91:95]     12      4\n",
       "2   [11:15]     14      5\n",
       "16  [81:85]     19      6\n",
       "15  [76:80]     34      7\n",
       "13  [66:70]     35      8\n",
       "3   [16:20]     36      9\n",
       "11  [56:60]     50     10\n",
       "12  [61:65]     50     11\n",
       "14  [71:75]     50     12\n",
       "10  [51:55]     65     13\n",
       "9   [46:50]     75     14\n",
       "4   [21:25]     89     15\n",
       "8   [41:45]    105     16\n",
       "5   [26:30]    107     17\n",
       "6   [31:35]    107     18\n",
       "7   [36:40]    116     19"
      ]
     },
     "execution_count": 218,
     "metadata": {},
     "output_type": "execute_result"
    }
   ],
   "source": [
    "dataset_idade = agrupar_idade(df)\n",
    "dataset_idade"
   ]
  },
  {
   "cell_type": "code",
   "execution_count": 219,
   "metadata": {},
   "outputs": [],
   "source": [
    "def top_k_reverse_idade(dataset, k):\n",
    "    copia = dataset.copy()\n",
    "    output = []\n",
    "    for i in range(k):\n",
    "        indice = copia['count'].idxmin()\n",
    "        output.append([copia.loc[indice][0], copia.loc[indice][1]])\n",
    "        copia.drop(indice, inplace=True,axis=0)\n",
    "    output = pd.DataFrame(output)\n",
    "    output = output.rename(columns={0: 'idade', 1: 'count'})\n",
    "    return output"
   ]
  },
  {
   "cell_type": "code",
   "execution_count": 220,
   "metadata": {},
   "outputs": [],
   "source": [
    "#Aproveitando q ordenei\n",
    "#def top_k_reverse_idade(dataset, k):\n",
    "#    output = []\n",
    "#    for i in range(k):\n",
    "#        output.append([dataset.loc[k][0], dataset.loc[k][1]])\n",
    "#    output = pd.DataFrame(output)\n",
    "#    output = output.rename(columns={0: 'idade', 1: 'count'})\n",
    "#    return output"
   ]
  },
  {
   "cell_type": "code",
   "execution_count": 221,
   "metadata": {},
   "outputs": [
    {
     "data": {
      "text/html": [
       "<div>\n",
       "<style scoped>\n",
       "    .dataframe tbody tr th:only-of-type {\n",
       "        vertical-align: middle;\n",
       "    }\n",
       "\n",
       "    .dataframe tbody tr th {\n",
       "        vertical-align: top;\n",
       "    }\n",
       "\n",
       "    .dataframe thead th {\n",
       "        text-align: right;\n",
       "    }\n",
       "</style>\n",
       "<table border=\"1\" class=\"dataframe\">\n",
       "  <thead>\n",
       "    <tr style=\"text-align: right;\">\n",
       "      <th></th>\n",
       "      <th>idade</th>\n",
       "      <th>count</th>\n",
       "    </tr>\n",
       "  </thead>\n",
       "  <tbody>\n",
       "    <tr>\n",
       "      <th>0</th>\n",
       "      <td>[6:10]</td>\n",
       "      <td>4</td>\n",
       "    </tr>\n",
       "    <tr>\n",
       "      <th>1</th>\n",
       "      <td>[86:90]</td>\n",
       "      <td>10</td>\n",
       "    </tr>\n",
       "    <tr>\n",
       "      <th>2</th>\n",
       "      <td>[1:5]</td>\n",
       "      <td>11</td>\n",
       "    </tr>\n",
       "    <tr>\n",
       "      <th>3</th>\n",
       "      <td>[91:95]</td>\n",
       "      <td>12</td>\n",
       "    </tr>\n",
       "    <tr>\n",
       "      <th>4</th>\n",
       "      <td>[11:15]</td>\n",
       "      <td>14</td>\n",
       "    </tr>\n",
       "    <tr>\n",
       "      <th>5</th>\n",
       "      <td>[81:85]</td>\n",
       "      <td>19</td>\n",
       "    </tr>\n",
       "    <tr>\n",
       "      <th>6</th>\n",
       "      <td>[76:80]</td>\n",
       "      <td>34</td>\n",
       "    </tr>\n",
       "    <tr>\n",
       "      <th>7</th>\n",
       "      <td>[66:70]</td>\n",
       "      <td>35</td>\n",
       "    </tr>\n",
       "    <tr>\n",
       "      <th>8</th>\n",
       "      <td>[16:20]</td>\n",
       "      <td>36</td>\n",
       "    </tr>\n",
       "    <tr>\n",
       "      <th>9</th>\n",
       "      <td>[56:60]</td>\n",
       "      <td>50</td>\n",
       "    </tr>\n",
       "  </tbody>\n",
       "</table>\n",
       "</div>"
      ],
      "text/plain": [
       "     idade  count\n",
       "0   [6:10]      4\n",
       "1  [86:90]     10\n",
       "2    [1:5]     11\n",
       "3  [91:95]     12\n",
       "4  [11:15]     14\n",
       "5  [81:85]     19\n",
       "6  [76:80]     34\n",
       "7  [66:70]     35\n",
       "8  [16:20]     36\n",
       "9  [56:60]     50"
      ]
     },
     "execution_count": 221,
     "metadata": {},
     "output_type": "execute_result"
    }
   ],
   "source": [
    "top_k_reverse_idade(dataset_idade, 10)"
   ]
  },
  {
   "cell_type": "markdown",
   "metadata": {},
   "source": [
    "# Ruído de Laplace"
   ]
  },
  {
   "cell_type": "code",
   "execution_count": 222,
   "metadata": {},
   "outputs": [],
   "source": [
    "#def sensibilidade_lap(dataset, budget, k):\n",
    "#    #return (max(dataset['count']) - min(dataset['count']))\n",
    "#    smooth_functions = []\n",
    "#    for i in dataset['count']:\n",
    "#        smooth_i = max(abs(i - max(dataset['count'])), abs(i - min(dataset['count'])))\n",
    "#        smooth_functions.append(smooth_i)\n",
    "#\n",
    "#    beta = budget/k\n",
    "#    \n",
    "#    maximo = 0\n",
    "#    for smooth in smooth_functions:\n",
    "#        maximo = max(maximo, (smooth*math.exp(-beta))) \n",
    "#        \n",
    "#    return maximo"
   ]
  },
  {
   "cell_type": "code",
   "execution_count": 223,
   "metadata": {},
   "outputs": [],
   "source": [
    "def sensibilidade_lap(dataset, budget, k):\n",
    "    smooth_functions = [1]*len(dataset['count'])\n",
    "    beta = budget/k\n",
    "    otimo = 0\n",
    "    for smooth in smooth_functions:\n",
    "        otimo = max(otimo, (smooth*math.exp(-beta)))\n",
    "    return otimo"
   ]
  },
  {
   "cell_type": "code",
   "execution_count": 224,
   "metadata": {},
   "outputs": [],
   "source": [
    "def erros_lap(query, argumento_consulta, k):\n",
    "    erros_laplace = []\n",
    "    top = list(query)\n",
    "    for argumento in argumento_consulta:\n",
    "        erro_argumento_lap = [0]*10\n",
    "        for i in range(len(argumento)):\n",
    "            if(argumento[i] == top[i]):\n",
    "                erro = 0\n",
    "            else:\n",
    "                erro = abs(top.index(argumento[i]) - i)\n",
    "            erro_argumento_lap[i]  = erro\n",
    "        erros_laplace.append(erro_argumento_lap)\n",
    "    return erros_laplace"
   ]
  },
  {
   "cell_type": "code",
   "execution_count": 445,
   "metadata": {},
   "outputs": [],
   "source": [
    "def plot_erros(erros_argumento, k):\n",
    "    df = pd.DataFrame({\n",
    "        'epsilon': ['0.1', '1', '10'],\n",
    "        'erro': erros_argumento })\n",
    "    sns.catplot(x=\"epsilon\", y=\"erro\", palette=\"ch:.5\",\n",
    "                data=df, saturation=.7,\n",
    "                kind=\"bar\", ci=None, aspect=.9)\n",
    "\n",
    "    plt.xlabel(\"Epsilon\")\n",
    "    plt.ylabel(\"Erro, k = {}\".format(k))\n",
    "    return plt.show()"
   ]
  },
  {
   "cell_type": "markdown",
   "metadata": {},
   "source": [
    "# Consulta Idade com ruído"
   ]
  },
  {
   "cell_type": "code",
   "execution_count": 226,
   "metadata": {},
   "outputs": [],
   "source": [
    "def laplace_idade(budget, sensibilidade, query, dataset, k):\n",
    "    resposta_query = np.array(query['count'])\n",
    "    coluna_idades = np.array(query['idade'])\n",
    "    output = []\n",
    "    np.random.seed(123)\n",
    "    for i in range(k):\n",
    "        ruido = stats.laplace.rvs(loc = 0, scale = sensibilidade/budget)\n",
    "        output.append((resposta_query[i] + ruido))\n",
    "    output = {\n",
    "        'idade': coluna_idades,\n",
    "        'count': output\n",
    "    }\n",
    "    \n",
    "    df = pd.DataFrame(output, columns = ['idade', 'count'])\n",
    "    return df.sort_values(by=['count'],ascending=True)"
   ]
  },
  {
   "cell_type": "code",
   "execution_count": 227,
   "metadata": {},
   "outputs": [
    {
     "name": "stdout",
     "output_type": "stream",
     "text": [
      "epsilon: 0.1\n",
      "reverse top-k:\n",
      "[['[1:5]' 3.175510578711094]\n",
      " ['[86:90]' 4.474242574420628]\n",
      " ['[6:10]' 8.941585865601542]\n",
      " ['[91:95]' 13.072090325645364]\n",
      " ['[81:85]' 17.346772490097923]\n",
      " ['[11:15]' 19.72173317485663]\n",
      " ['[16:20]' 35.615044712014345]\n",
      " ['[66:70]' 39.569031402905786]\n",
      " ['[56:60]' 47.593718409550014]\n",
      " ['[76:80]' 66.2541888949888]]\n",
      "\n",
      "\n",
      "epsilon: 1\n",
      "reverse top-k:\n",
      "[['[6:10]' 4.451626942726876]\n",
      " ['[86:90]' 9.494983796651896]\n",
      " ['[1:5]' 10.284895510905924]\n",
      " ['[91:95]' 12.097981678203489]\n",
      " ['[11:15]' 14.522927038230243]\n",
      " ['[81:85]' 18.84890638223522]\n",
      " ['[66:70]' 35.417578028559916]\n",
      " ['[16:20]' 35.96481773573748]\n",
      " ['[76:80]' 36.94781090867592]\n",
      " ['[56:60]' 49.78008242139437]]\n",
      "\n",
      "\n",
      "epsilon: 10\n",
      "reverse top-k:\n",
      "[['[6:10]' 4.018361781243415]\n",
      " ['[86:90]' 9.979467573404127]\n",
      " ['[1:5]' 10.970926021119004]\n",
      " ['[91:95]' 12.0039836377568]\n",
      " ['[11:15]' 14.021260626800244]\n",
      " ['[81:85]' 18.99385699192364]\n",
      " ['[76:80]' 34.119849047812]\n",
      " ['[66:70]' 35.01697745569867]\n",
      " ['[16:20]' 35.99856959587899]\n",
      " ['[56:60]' 49.991058818489535]]\n",
      "\n",
      "\n"
     ]
    }
   ],
   "source": [
    "budgets = [0.1, 1, 10]\n",
    "idades = []\n",
    "k = 10\n",
    "for budget in budgets:\n",
    "    a = laplace_idade(budget, sensibilidade_lap(dataset_idade, budget, 10), top_k_reverse_idade(dataset_idade, 10), dataset_idade, 10)\n",
    "    a = np.array(a)\n",
    "    print(\"epsilon: {}\\nreverse top-k:\\n{}\\n\\n\".format(budget, a))\n",
    "    idades.append(a[:,0])"
   ]
  },
  {
   "cell_type": "code",
   "execution_count": 228,
   "metadata": {},
   "outputs": [],
   "source": [
    "query_idades = top_k_reverse_idade(dataset_idade, 10)['idade']\n",
    "erros_idade = erros_lap(query_idades, idades, 10)\n",
    "lista_plot_idades = []\n",
    "for i in range(k):\n",
    "    p_cada_k = []\n",
    "    for b in range(len(budgets)):\n",
    "        aux = erros_idade[b][i]\n",
    "        p_cada_k.append(aux)\n",
    "    lista_plot_idades.append(p_cada_k)"
   ]
  },
  {
   "cell_type": "code",
   "execution_count": 229,
   "metadata": {},
   "outputs": [
    {
     "data": {
      "text/plain": [
       "[[2, 0, 0],\n",
       " [2, 0, 0],\n",
       " [4, 0, 0],\n",
       " [4, 0, 0],\n",
       " [5, 0, 0],\n",
       " [6, 0, 0],\n",
       " [8, 1, 0],\n",
       " [8, 2, 0],\n",
       " [9, 4, 0],\n",
       " [12, 4, 0]]"
      ]
     },
     "execution_count": 229,
     "metadata": {},
     "output_type": "execute_result"
    }
   ],
   "source": [
    "copia_idades = lista_plot_idades.copy()\n",
    "aux_idades = []\n",
    "aux_idades.append(copia_idades[0])\n",
    "for i in range(1, k):\n",
    "    copia_idades[i][0] += copia_idades[i-1][0] \n",
    "    copia_idades[i][1] += copia_idades[i-1][1] \n",
    "    copia_idades[i][2] += copia_idades[i-1][2]\n",
    "    aux_idades.append([copia_idades[i][0], copia_idades[i][1], copia_idades[i][2]])\n",
    "aux_idades"
   ]
  },
  {
   "cell_type": "code",
   "execution_count": 444,
   "metadata": {},
   "outputs": [
    {
     "data": {
      "image/png": "[encoded data removed]",
      "text/plain": [
       "<Figure size 324x360 with 1 Axes>"
      ]
     },
     "metadata": {
      "needs_background": "light"
     },
     "output_type": "display_data"
    },
    {
     "data": {
      "image/png": "[encoded data removed]",
      "text/plain": [
       "<Figure size 324x360 with 1 Axes>"
      ]
     },
     "metadata": {
      "needs_background": "light"
     },
     "output_type": "display_data"
    },
    {
     "data": {
      "image/png": "[encoded data removed]",
      "text/plain": [
       "<Figure size 324x360 with 1 Axes>"
      ]
     },
     "metadata": {
      "needs_background": "light"
     },
     "output_type": "display_data"
    },
    {
     "data": {
      "image/png": "[encoded data removed]",
      "text/plain": [
       "<Figure size 324x360 with 1 Axes>"
      ]
     },
     "metadata": {
      "needs_background": "light"
     },
     "output_type": "display_data"
    },
    {
     "data": {
      "image/png": "[encoded data removed]",
      "text/plain": [
       "<Figure size 324x360 with 1 Axes>"
      ]
     },
     "metadata": {
      "needs_background": "light"
     },
     "output_type": "display_data"
    },
    {
     "data": {
      "image/png": "[encoded data removed]",
      "text/plain": [
       "<Figure size 324x360 with 1 Axes>"
      ]
     },
     "metadata": {
      "needs_background": "light"
     },
     "output_type": "display_data"
    },
    {
     "data": {
      "image/png": "[encoded data removed]",
      "text/plain": [
       "<Figure size 324x360 with 1 Axes>"
      ]
     },
     "metadata": {
      "needs_background": "light"
     },
     "output_type": "display_data"
    },
    {
     "data": {
      "image/png": "[encoded data removed]",
      "text/plain": [
       "<Figure size 324x360 with 1 Axes>"
      ]
     },
     "metadata": {
      "needs_background": "light"
     },
     "output_type": "display_data"
    },
    {
     "data": {
      "image/png": "[encoded data removed]",
      "text/plain": [
       "<Figure size 324x360 with 1 Axes>"
      ]
     },
     "metadata": {
      "needs_background": "light"
     },
     "output_type": "display_data"
    },
    {
     "data": {
      "image/png": "[encoded data removed]",
      "text/plain": [
       "<Figure size 324x360 with 1 Axes>"
      ]
     },
     "metadata": {
      "needs_background": "light"
     },
     "output_type": "display_data"
    }
   ],
   "source": [
    "for i in range(0, k):\n",
    "    plot_erros(aux_idades[i], i+1)"
   ]
  },
  {
   "cell_type": "markdown",
   "metadata": {},
   "source": [
    "# Mecanismo Exponencial"
   ]
  },
  {
   "cell_type": "code",
   "execution_count": 255,
   "metadata": {},
   "outputs": [],
   "source": [
    "def score_function_exp(dataset):\n",
    "    return -dataset['count']"
   ]
  },
  {
   "cell_type": "code",
   "execution_count": 332,
   "metadata": {},
   "outputs": [],
   "source": [
    "def sensibilidade_exp(dataset, budget, k):\n",
    "    smooth_functions = [1]*len(dataset['count'])\n",
    "    beta = budget/k\n",
    "    otimo = 0\n",
    "    for smooth in smooth_functions:\n",
    "        otimo = max(otimo, (smooth*math.exp(-beta)))\n",
    "    return otimo"
   ]
  },
  {
   "cell_type": "code",
   "execution_count": 391,
   "metadata": {},
   "outputs": [],
   "source": [
    "def erros_exp(query, argumento_consulta, k):\n",
    "    erros_exponencial = []\n",
    "    top = list(query)\n",
    "    for argumento in argumento_consulta:\n",
    "        erro_argumento_exp = [0]*10\n",
    "        for i in range(len(argumento)):\n",
    "            if(argumento[i] in top):\n",
    "                if(argumento[i] == top[i]):\n",
    "                    erro = 0\n",
    "                else:\n",
    "                    erro = abs(top.index(argumento[i]) - i)\n",
    "            else:\n",
    "                erro = 20\n",
    "            erro_argumento_exp[i]  = erro\n",
    "        erros_exponencial.append(erro_argumento_exp)\n",
    "    return erros_exponencial"
   ]
  },
  {
   "cell_type": "markdown",
   "metadata": {},
   "source": [
    "# TESTE F1 SCORE"
   ]
  },
  {
   "cell_type": "code",
   "execution_count": 440,
   "metadata": {},
   "outputs": [
    {
     "name": "stdout",
     "output_type": "stream",
     "text": [
      "epsilon = 0.1:\n",
      "Verdadeiros Positivos: 2\n",
      "Falsos Positivos: 8\n",
      "Falsos Negativos: 3\n",
      "\n",
      "\n",
      "epsilon = 1:\n",
      "Verdadeiros Positivos: 3\n",
      "Falsos Positivos: 7\n",
      "Falsos Negativos: 1\n",
      "\n",
      "\n",
      "epsilon = 10:\n",
      "Verdadeiros Positivos: 7\n",
      "Falsos Positivos: 3\n",
      "Falsos Negativos: 1\n",
      "\n",
      "\n",
      "[0.26666666666666666, 0.4285714285714285, 0.7777777777777777]\n"
     ]
    },
    {
     "data": {
      "image/png": "[encoded data removed]",
      "text/plain": [
       "<Figure size 324x360 with 1 Axes>"
      ]
     },
     "metadata": {
      "needs_background": "light"
     },
     "output_type": "display_data"
    }
   ],
   "source": [
    "top = list(query_idades_exp)\n",
    "erros_exponencial = []\n",
    "for argumento, budget in zip(idades_exp, [0.1, 1, 10]):\n",
    "    falsos_positivos, falsos_negativos, verdadeiros_positivos = 0, 0, 0\n",
    "    for i in range(len(argumento)):\n",
    "        if(argumento[i] in top):\n",
    "            if(argumento[i] == top[i]):\n",
    "                verdadeiros_positivos += 1\n",
    "            else:\n",
    "                falsos_positivos += 1\n",
    "        if(top[i] not in argumento):\n",
    "            falsos_negativos += 1\n",
    "        if(argumento[i] not in top):\n",
    "            falsos_positivos += 1\n",
    "            \n",
    "    print(\"epsilon = {}:\\nVerdadeiros Positivos: {}\\nFalsos Positivos: {}\\nFalsos Negativos: {}\\n\\n\".format(budget, verdadeiros_positivos, falsos_positivos, falsos_negativos))\n",
    "\n",
    "    precisao = verdadeiros_positivos/(verdadeiros_positivos + falsos_positivos) \n",
    "    revocacao = verdadeiros_positivos/(verdadeiros_positivos + falsos_negativos)\n",
    "\n",
    "    f1_score = 2*((revocacao * precisao)/(revocacao + precisao))\n",
    "    erros_exponencial.append(f1_score)\n",
    "    \n",
    "print(erros_exponencial)\n",
    "\n",
    "df_score = pd.DataFrame({\"budgets\": [0.1, 1, 10], \"f1-score\": erros_exponencial})\n",
    "\n",
    "sns.catplot(x=\"budgets\", y=\"f1-score\", palette=\"ch:.5\",\n",
    "                data=df_score, saturation=.7,\n",
    "                kind=\"bar\", ci=None, aspect=.9)\n",
    "\n",
    "plt.xlabel(\"Epsilon\")\n",
    "plt.ylabel(\"F1 Score\")\n",
    "plt.show()"
   ]
  },
  {
   "cell_type": "markdown",
   "metadata": {},
   "source": [
    "# Consulta Idade Exponencial"
   ]
  },
  {
   "cell_type": "code",
   "execution_count": 411,
   "metadata": {},
   "outputs": [],
   "source": [
    "def exp_idades(budget, sensibilidade, dataset, k):\n",
    "    budget = budget/k\n",
    "\n",
    "    scores = score_function_exp(dataset)\n",
    "\n",
    "    _users = list(dataset['idade'].copy())\n",
    "    _scores = list(scores.copy())\n",
    "\n",
    "    top = []\n",
    "\n",
    "    for i_run in range(k):\n",
    "\n",
    "        probabilities = []\n",
    "\n",
    "        for j_score in _scores:\n",
    "            probability = math.exp( (budget * j_score) / (2 * sensibilidade) )\n",
    "            probabilities.append(probability)\n",
    "\n",
    "        probabilities = [j_probability/sum(probabilities) for j_probability in probabilities]\n",
    "\n",
    "        sample = random.choices(population=_users, weights=probabilities, k=1)[0]\n",
    "\n",
    "        top.append(sample)\n",
    "\n",
    "        _scores.remove(_scores[_users.index(sample)])\n",
    "        _users.remove(sample)\n",
    "\n",
    "    return top"
   ]
  },
  {
   "cell_type": "code",
   "execution_count": 428,
   "metadata": {},
   "outputs": [
    {
     "name": "stdout",
     "output_type": "stream",
     "text": [
      "epsilon: 0.1\n",
      "reverse top-k:\n",
      "['[61:65]' '[66:70]' '[1:5]' '[86:90]' '[51:55]' '[6:10]' '[81:85]'\n",
      " '[76:80]' '[46:50]' '[56:60]']\n",
      "\n",
      "\n",
      "epsilon: 1\n",
      "reverse top-k:\n",
      "['[6:10]' '[76:80]' '[1:5]' '[11:15]' '[61:65]' '[66:70]' '[86:90]'\n",
      " '[16:20]' '[91:95]' '[56:60]']\n",
      "\n",
      "\n",
      "epsilon: 10\n",
      "reverse top-k:\n",
      "['[6:10]' '[86:90]' '[1:5]' '[91:95]' '[11:15]' '[81:85]' '[76:80]'\n",
      " '[16:20]' '[66:70]' '[71:75]']\n",
      "\n",
      "\n"
     ]
    }
   ],
   "source": [
    "budgets = [0.1, 1, 10]\n",
    "idades_exp = []\n",
    "\n",
    "for budget in budgets:\n",
    "    b = exp_idades(budget, sensibilidade_exp(dataset_idade, budget, 10), dataset_idade, 10)\n",
    "    b = np.array(b)\n",
    "    print(\"epsilon: {}\\nreverse top-k:\\n{}\\n\\n\".format(budget, b))\n",
    "    #idades_exp.append(b[:,0])\n",
    "    idades_exp.append(b)"
   ]
  },
  {
   "cell_type": "code",
   "execution_count": 425,
   "metadata": {},
   "outputs": [],
   "source": [
    "query_idades_exp = top_k_reverse_idade(dataset_idade, 10)['idade']\n",
    "erros_idade_exp = erros_exp(query_idades_exp, idades_exp, 10)\n",
    "exp_plot_idades = []\n",
    "for i in range(k):\n",
    "    p_cada_k = []\n",
    "    for b in range(len(budgets)):\n",
    "        aux = erros_idade_exp[b][i]\n",
    "        p_cada_k.append(aux)\n",
    "    exp_plot_idades.append(p_cada_k)"
   ]
  },
  {
   "cell_type": "code",
   "execution_count": 426,
   "metadata": {},
   "outputs": [
    {
     "data": {
      "text/plain": [
       "[[20, 3, 0],\n",
       " [23, 4, 0],\n",
       " [43, 24, 0],\n",
       " [44, 26, 0],\n",
       " [47, 28, 0],\n",
       " [51, 48, 0],\n",
       " [52, 53, 0],\n",
       " [72, 53, 0],\n",
       " [92, 57, 0],\n",
       " [95, 77, 20]]"
      ]
     },
     "execution_count": 426,
     "metadata": {},
     "output_type": "execute_result"
    }
   ],
   "source": [
    "copia_idades_exp = exp_plot_idades.copy()\n",
    "aux_idades_exp = []\n",
    "aux_idades_exp.append(copia_idades_exp[0])\n",
    "for i in range(1, k):\n",
    "    copia_idades_exp[i][0] += copia_idades_exp[i-1][0] \n",
    "    copia_idades_exp[i][1] += copia_idades_exp[i-1][1] \n",
    "    copia_idades_exp[i][2] += copia_idades_exp[i-1][2]\n",
    "    aux_idades_exp.append([copia_idades_exp[i][0], copia_idades_exp[i][1], copia_idades_exp[i][2]])\n",
    "aux_idades_exp"
   ]
  },
  {
   "cell_type": "code",
   "execution_count": 443,
   "metadata": {},
   "outputs": [
    {
     "data": {
      "image/png": "[encoded data removed]",
      "text/plain": [
       "<Figure size 324x360 with 1 Axes>"
      ]
     },
     "metadata": {
      "needs_background": "light"
     },
     "output_type": "display_data"
    },
    {
     "data": {
      "image/png": "[encoded data removed]",
      "text/plain": [
       "<Figure size 324x360 with 1 Axes>"
      ]
     },
     "metadata": {
      "needs_background": "light"
     },
     "output_type": "display_data"
    },
    {
     "data": {
      "image/png": "[encoded data removed]",
      "text/plain": [
       "<Figure size 324x360 with 1 Axes>"
      ]
     },
     "metadata": {
      "needs_background": "light"
     },
     "output_type": "display_data"
    },
    {
     "data": {
      "image/png": "[encoded data removed]",
      "text/plain": [
       "<Figure size 324x360 with 1 Axes>"
      ]
     },
     "metadata": {
      "needs_background": "light"
     },
     "output_type": "display_data"
    },
    {
     "data": {
      "image/png": "[encoded data removed]",
      "text/plain": [
       "<Figure size 324x360 with 1 Axes>"
      ]
     },
     "metadata": {
      "needs_background": "light"
     },
     "output_type": "display_data"
    },
    {
     "data": {
      "image/png": "[encoded data removed]",
      "text/plain": [
       "<Figure size 324x360 with 1 Axes>"
      ]
     },
     "metadata": {
      "needs_background": "light"
     },
     "output_type": "display_data"
    },
    {
     "data": {
      "image/png": "[encoded data removed]",
      "text/plain": [
       "<Figure size 324x360 with 1 Axes>"
      ]
     },
     "metadata": {
      "needs_background": "light"
     },
     "output_type": "display_data"
    },
    {
     "data": {
      "image/png": "[encoded data removed]",
      "text/plain": [
       "<Figure size 324x360 with 1 Axes>"
      ]
     },
     "metadata": {
      "needs_background": "light"
     },
     "output_type": "display_data"
    },
    {
     "data": {
      "image/png": "[encoded data removed]",
      "text/plain": [
       "<Figure size 324x360 with 1 Axes>"
      ]
     },
     "metadata": {
      "needs_background": "light"
     },
     "output_type": "display_data"
    },
    {
     "data": {
      "image/png": "[encoded data removed]",
      "text/plain": [
       "<Figure size 324x360 with 1 Axes>"
      ]
     },
     "metadata": {
      "needs_background": "light"
     },
     "output_type": "display_data"
    }
   ],
   "source": [
    "for i in range(0, k):\n",
    "    plot_erros(aux_idades_exp[i], i+1)"
   ]
  }
 ],
 "metadata": {
  "kernelspec": {
   "display_name": "Python 3",
   "language": "python",
   "name": "python3"
  },
  "language_info": {
   "codemirror_mode": {
    "name": "ipython",
    "version": 3
   },
   "file_extension": ".py",
   "mimetype": "text/x-python",
   "name": "python",
   "nbconvert_exporter": "python",
   "pygments_lexer": "ipython3",
   "version": "3.7.7"
  }
 },
 "nbformat": 4,
 "nbformat_minor": 4
}
