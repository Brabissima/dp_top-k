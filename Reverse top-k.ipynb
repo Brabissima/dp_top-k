{
 "cells": [
  {
   "cell_type": "code",
   "execution_count": 1,
   "metadata": {},
   "outputs": [],
   "source": [
    "import pandas as pd\n",
    "import numpy as np\n",
    "import matplotlib.pyplot as plt\n",
    "from scipy import stats\n",
    "import math"
   ]
  },
  {
   "cell_type": "code",
   "execution_count": 2,
   "metadata": {},
   "outputs": [],
   "source": [
    "def pre_processamento():\n",
    "    xlsx = pd.ExcelFile('casos_corona.xlsx')\n",
    "    df = pd.read_excel(xlsx, 'casos_corona')\n",
    "    df = df[:500] ################################limitando o dataset\n",
    "    df = df[['bairroPaciente','municipioPaciente','resultadoFinalExame','sexoPaciente', 'idadePaciente']]\n",
    "    \n",
    "    novo_df = []\n",
    "    for i in range(len(df)):\n",
    "        if(df.loc[i][2] == 'Positivo'):\n",
    "            resultado = 1\n",
    "            novo_df.append([df.loc[i][0], df.loc[i][1], resultado, df.loc[i][3], df.loc[i][4]])\n",
    "        else:\n",
    "            resultado = 0\n",
    "            novo_df.append([df.loc[i][0], df.loc[i][1], resultado, df.loc[i][3], df.loc[i][4]])\n",
    "    \n",
    "    novo_df = pd.DataFrame(novo_df)\n",
    "    novo_df.rename(columns={0: 'bairro_paciente', 1: 'municipio_paciente', 2: 'resultado_exame', 3: 'sexo_paciente', 4: 'idade_paciente'}, inplace=True)    \n",
    "    return novo_df"
   ]
  },
  {
   "cell_type": "code",
   "execution_count": 3,
   "metadata": {},
   "outputs": [
    {
     "data": {
      "text/html": [
       "<div>\n",
       "<style scoped>\n",
       "    .dataframe tbody tr th:only-of-type {\n",
       "        vertical-align: middle;\n",
       "    }\n",
       "\n",
       "    .dataframe tbody tr th {\n",
       "        vertical-align: top;\n",
       "    }\n",
       "\n",
       "    .dataframe thead th {\n",
       "        text-align: right;\n",
       "    }\n",
       "</style>\n",
       "<table border=\"1\" class=\"dataframe\">\n",
       "  <thead>\n",
       "    <tr style=\"text-align: right;\">\n",
       "      <th></th>\n",
       "      <th>bairro_paciente</th>\n",
       "      <th>municipio_paciente</th>\n",
       "      <th>resultado_exame</th>\n",
       "      <th>sexo_paciente</th>\n",
       "      <th>idade_paciente</th>\n",
       "    </tr>\n",
       "  </thead>\n",
       "  <tbody>\n",
       "    <tr>\n",
       "      <th>0</th>\n",
       "      <td>VILA PERI</td>\n",
       "      <td>FORTALEZA</td>\n",
       "      <td>0</td>\n",
       "      <td>MASCULINO</td>\n",
       "      <td>74.0</td>\n",
       "    </tr>\n",
       "    <tr>\n",
       "      <th>1</th>\n",
       "      <td>VARJOTA</td>\n",
       "      <td>FORTALEZA</td>\n",
       "      <td>0</td>\n",
       "      <td>FEMININO</td>\n",
       "      <td>31.0</td>\n",
       "    </tr>\n",
       "    <tr>\n",
       "      <th>2</th>\n",
       "      <td>NOVA METROPOLE JUREMA</td>\n",
       "      <td>CAUCAIA</td>\n",
       "      <td>0</td>\n",
       "      <td>FEMININO</td>\n",
       "      <td>84.0</td>\n",
       "    </tr>\n",
       "    <tr>\n",
       "      <th>3</th>\n",
       "      <td>PARQUE POTIRA JUREMA</td>\n",
       "      <td>CAUCAIA</td>\n",
       "      <td>0</td>\n",
       "      <td>FEMININO</td>\n",
       "      <td>61.0</td>\n",
       "    </tr>\n",
       "    <tr>\n",
       "      <th>4</th>\n",
       "      <td>PINHEIRO</td>\n",
       "      <td>GUAIÚBA</td>\n",
       "      <td>0</td>\n",
       "      <td>MASCULINO</td>\n",
       "      <td>37.0</td>\n",
       "    </tr>\n",
       "    <tr>\n",
       "      <th>...</th>\n",
       "      <td>...</td>\n",
       "      <td>...</td>\n",
       "      <td>...</td>\n",
       "      <td>...</td>\n",
       "      <td>...</td>\n",
       "    </tr>\n",
       "    <tr>\n",
       "      <th>495</th>\n",
       "      <td>BURITI</td>\n",
       "      <td>PACAJUS</td>\n",
       "      <td>0</td>\n",
       "      <td>MASCULINO</td>\n",
       "      <td>75.0</td>\n",
       "    </tr>\n",
       "    <tr>\n",
       "      <th>496</th>\n",
       "      <td>ALTO DO CRUZEIRO</td>\n",
       "      <td>CHORÓ</td>\n",
       "      <td>0</td>\n",
       "      <td>FEMININO</td>\n",
       "      <td>43.0</td>\n",
       "    </tr>\n",
       "    <tr>\n",
       "      <th>497</th>\n",
       "      <td>JABUTI</td>\n",
       "      <td>EUSEBIO</td>\n",
       "      <td>1</td>\n",
       "      <td>MASCULINO</td>\n",
       "      <td>62.0</td>\n",
       "    </tr>\n",
       "    <tr>\n",
       "      <th>498</th>\n",
       "      <td>LAMAJU</td>\n",
       "      <td>FARIAS BRITO</td>\n",
       "      <td>0</td>\n",
       "      <td>MASCULINO</td>\n",
       "      <td>36.0</td>\n",
       "    </tr>\n",
       "    <tr>\n",
       "      <th>499</th>\n",
       "      <td>LENDRO BEZERRA</td>\n",
       "      <td>JUAZEIRO DO NORTE</td>\n",
       "      <td>0</td>\n",
       "      <td>FEMININO</td>\n",
       "      <td>38.0</td>\n",
       "    </tr>\n",
       "  </tbody>\n",
       "</table>\n",
       "<p>500 rows × 5 columns</p>\n",
       "</div>"
      ],
      "text/plain": [
       "           bairro_paciente municipio_paciente  resultado_exame sexo_paciente  \\\n",
       "0                VILA PERI          FORTALEZA                0     MASCULINO   \n",
       "1                  VARJOTA          FORTALEZA                0      FEMININO   \n",
       "2    NOVA METROPOLE JUREMA            CAUCAIA                0      FEMININO   \n",
       "3     PARQUE POTIRA JUREMA            CAUCAIA                0      FEMININO   \n",
       "4                 PINHEIRO            GUAIÚBA                0     MASCULINO   \n",
       "..                     ...                ...              ...           ...   \n",
       "495                 BURITI            PACAJUS                0     MASCULINO   \n",
       "496       ALTO DO CRUZEIRO              CHORÓ                0      FEMININO   \n",
       "497                 JABUTI            EUSEBIO                1     MASCULINO   \n",
       "498                 LAMAJU       FARIAS BRITO                0     MASCULINO   \n",
       "499         LENDRO BEZERRA  JUAZEIRO DO NORTE                0      FEMININO   \n",
       "\n",
       "     idade_paciente  \n",
       "0              74.0  \n",
       "1              31.0  \n",
       "2              84.0  \n",
       "3              61.0  \n",
       "4              37.0  \n",
       "..              ...  \n",
       "495            75.0  \n",
       "496            43.0  \n",
       "497            62.0  \n",
       "498            36.0  \n",
       "499            38.0  \n",
       "\n",
       "[500 rows x 5 columns]"
      ]
     },
     "execution_count": 3,
     "metadata": {},
     "output_type": "execute_result"
    }
   ],
   "source": [
    "df = pre_processamento()\n",
    "df"
   ]
  },
  {
   "cell_type": "code",
   "execution_count": 4,
   "metadata": {},
   "outputs": [],
   "source": [
    "def agrupar_bairros(df):\n",
    "    bairros = pd.unique(df['bairro_paciente'])\n",
    "    casos_bairros = []\n",
    "    for bairro in bairros:\n",
    "        count = 0\n",
    "        for i in range(len(df)):\n",
    "            if(df.loc[i][0] == bairro):\n",
    "                count = count + 1\n",
    "        casos_bairros.append([bairro, count])\n",
    "    casos_bairros = pd.DataFrame(casos_bairros)\n",
    "    casos_bairros.rename(columns={0: 'bairro', 1: 'count'}, inplace=True)\n",
    "    return casos_bairros"
   ]
  },
  {
   "cell_type": "code",
   "execution_count": 5,
   "metadata": {},
   "outputs": [],
   "source": [
    "dataset_bairros = agrupar_bairros(df)"
   ]
  },
  {
   "cell_type": "code",
   "execution_count": 6,
   "metadata": {},
   "outputs": [],
   "source": [
    "def top_k_reverse_bairros(dataset, k):\n",
    "    copia = dataset.copy()\n",
    "    output = []\n",
    "    for i in range(k):\n",
    "        indice = copia['count'].idxmin()\n",
    "        output.append([copia.loc[indice][0], copia.loc[indice][1]])\n",
    "        copia.drop(indice, inplace=True,axis=0)\n",
    "    output = pd.DataFrame(output)\n",
    "    output = output.rename(columns={0: 'bairro', 1: 'count'})\n",
    "    return output"
   ]
  },
  {
   "cell_type": "code",
   "execution_count": 7,
   "metadata": {},
   "outputs": [
    {
     "data": {
      "text/html": [
       "<div>\n",
       "<style scoped>\n",
       "    .dataframe tbody tr th:only-of-type {\n",
       "        vertical-align: middle;\n",
       "    }\n",
       "\n",
       "    .dataframe tbody tr th {\n",
       "        vertical-align: top;\n",
       "    }\n",
       "\n",
       "    .dataframe thead th {\n",
       "        text-align: right;\n",
       "    }\n",
       "</style>\n",
       "<table border=\"1\" class=\"dataframe\">\n",
       "  <thead>\n",
       "    <tr style=\"text-align: right;\">\n",
       "      <th></th>\n",
       "      <th>bairro</th>\n",
       "      <th>count</th>\n",
       "    </tr>\n",
       "  </thead>\n",
       "  <tbody>\n",
       "    <tr>\n",
       "      <th>0</th>\n",
       "      <td>VILA PERI</td>\n",
       "      <td>1</td>\n",
       "    </tr>\n",
       "    <tr>\n",
       "      <th>1</th>\n",
       "      <td>VARJOTA</td>\n",
       "      <td>1</td>\n",
       "    </tr>\n",
       "    <tr>\n",
       "      <th>2</th>\n",
       "      <td>NOVA METROPOLE JUREMA</td>\n",
       "      <td>1</td>\n",
       "    </tr>\n",
       "    <tr>\n",
       "      <th>3</th>\n",
       "      <td>PARQUE POTIRA JUREMA</td>\n",
       "      <td>1</td>\n",
       "    </tr>\n",
       "    <tr>\n",
       "      <th>4</th>\n",
       "      <td>PINHEIRO</td>\n",
       "      <td>1</td>\n",
       "    </tr>\n",
       "    <tr>\n",
       "      <th>5</th>\n",
       "      <td>ALDEIA PARK</td>\n",
       "      <td>1</td>\n",
       "    </tr>\n",
       "    <tr>\n",
       "      <th>6</th>\n",
       "      <td>PRECABURA</td>\n",
       "      <td>1</td>\n",
       "    </tr>\n",
       "    <tr>\n",
       "      <th>7</th>\n",
       "      <td>PL CAUCAIA</td>\n",
       "      <td>1</td>\n",
       "    </tr>\n",
       "    <tr>\n",
       "      <th>8</th>\n",
       "      <td>TABAPUA</td>\n",
       "      <td>1</td>\n",
       "    </tr>\n",
       "    <tr>\n",
       "      <th>9</th>\n",
       "      <td>ITAPAJE</td>\n",
       "      <td>1</td>\n",
       "    </tr>\n",
       "  </tbody>\n",
       "</table>\n",
       "</div>"
      ],
      "text/plain": [
       "                  bairro  count\n",
       "0              VILA PERI      1\n",
       "1                VARJOTA      1\n",
       "2  NOVA METROPOLE JUREMA      1\n",
       "3   PARQUE POTIRA JUREMA      1\n",
       "4               PINHEIRO      1\n",
       "5            ALDEIA PARK      1\n",
       "6              PRECABURA      1\n",
       "7             PL CAUCAIA      1\n",
       "8                TABAPUA      1\n",
       "9                ITAPAJE      1"
      ]
     },
     "execution_count": 7,
     "metadata": {},
     "output_type": "execute_result"
    }
   ],
   "source": [
    "top_k_reverse_bairros(dataset_bairros, 10)"
   ]
  },
  {
   "cell_type": "code",
   "execution_count": 8,
   "metadata": {},
   "outputs": [],
   "source": [
    "def agrupar_idade(df):\n",
    "    clusters_idades = []\n",
    "    intervalos = np.arange(1, 100, dtype=int)\n",
    "    for i in range(0, 95, 5):\n",
    "        gaps = []\n",
    "        for j in range(i, i+5):\n",
    "            gaps.append(intervalos[j])\n",
    "        clusters_idades.append(gaps)\n",
    "\n",
    "    casos_idade = []\n",
    "\n",
    "    for cluster in clusters_idades:\n",
    "        count = 0\n",
    "        for i in range(len(df)):\n",
    "            if(df.loc[i][4] in cluster):\n",
    "                count = count + 1\n",
    "        casos_idade.append(['[{}:{}]'.format(cluster[0], cluster[4]), count])\n",
    "    casos_idade = pd.DataFrame(casos_idade)\n",
    "    casos_idade.rename(columns={0: 'idade', 1: 'count'}, inplace=True)\n",
    "    casos_idade = casos_idade.sort_values(by=['count'], ascending=True)\n",
    "    ordem = np.arange(1,len(casos_idade)+1)\n",
    "    casos_idade['ordem'] = pd.Series(ordem, index=casos_idade.index)\n",
    "    return casos_idade"
   ]
  },
  {
   "cell_type": "code",
   "execution_count": 9,
   "metadata": {},
   "outputs": [
    {
     "data": {
      "text/html": [
       "<div>\n",
       "<style scoped>\n",
       "    .dataframe tbody tr th:only-of-type {\n",
       "        vertical-align: middle;\n",
       "    }\n",
       "\n",
       "    .dataframe tbody tr th {\n",
       "        vertical-align: top;\n",
       "    }\n",
       "\n",
       "    .dataframe thead th {\n",
       "        text-align: right;\n",
       "    }\n",
       "</style>\n",
       "<table border=\"1\" class=\"dataframe\">\n",
       "  <thead>\n",
       "    <tr style=\"text-align: right;\">\n",
       "      <th></th>\n",
       "      <th>idade</th>\n",
       "      <th>count</th>\n",
       "      <th>ordem</th>\n",
       "    </tr>\n",
       "  </thead>\n",
       "  <tbody>\n",
       "    <tr>\n",
       "      <th>1</th>\n",
       "      <td>[6:10]</td>\n",
       "      <td>2</td>\n",
       "      <td>1</td>\n",
       "    </tr>\n",
       "    <tr>\n",
       "      <th>0</th>\n",
       "      <td>[1:5]</td>\n",
       "      <td>5</td>\n",
       "      <td>2</td>\n",
       "    </tr>\n",
       "    <tr>\n",
       "      <th>17</th>\n",
       "      <td>[86:90]</td>\n",
       "      <td>6</td>\n",
       "      <td>3</td>\n",
       "    </tr>\n",
       "    <tr>\n",
       "      <th>18</th>\n",
       "      <td>[91:95]</td>\n",
       "      <td>6</td>\n",
       "      <td>4</td>\n",
       "    </tr>\n",
       "    <tr>\n",
       "      <th>2</th>\n",
       "      <td>[11:15]</td>\n",
       "      <td>7</td>\n",
       "      <td>5</td>\n",
       "    </tr>\n",
       "    <tr>\n",
       "      <th>16</th>\n",
       "      <td>[81:85]</td>\n",
       "      <td>12</td>\n",
       "      <td>6</td>\n",
       "    </tr>\n",
       "    <tr>\n",
       "      <th>3</th>\n",
       "      <td>[16:20]</td>\n",
       "      <td>12</td>\n",
       "      <td>7</td>\n",
       "    </tr>\n",
       "    <tr>\n",
       "      <th>13</th>\n",
       "      <td>[66:70]</td>\n",
       "      <td>13</td>\n",
       "      <td>8</td>\n",
       "    </tr>\n",
       "    <tr>\n",
       "      <th>15</th>\n",
       "      <td>[76:80]</td>\n",
       "      <td>15</td>\n",
       "      <td>9</td>\n",
       "    </tr>\n",
       "    <tr>\n",
       "      <th>11</th>\n",
       "      <td>[56:60]</td>\n",
       "      <td>20</td>\n",
       "      <td>10</td>\n",
       "    </tr>\n",
       "    <tr>\n",
       "      <th>14</th>\n",
       "      <td>[71:75]</td>\n",
       "      <td>25</td>\n",
       "      <td>11</td>\n",
       "    </tr>\n",
       "    <tr>\n",
       "      <th>12</th>\n",
       "      <td>[61:65]</td>\n",
       "      <td>28</td>\n",
       "      <td>12</td>\n",
       "    </tr>\n",
       "    <tr>\n",
       "      <th>10</th>\n",
       "      <td>[51:55]</td>\n",
       "      <td>33</td>\n",
       "      <td>13</td>\n",
       "    </tr>\n",
       "    <tr>\n",
       "      <th>9</th>\n",
       "      <td>[46:50]</td>\n",
       "      <td>40</td>\n",
       "      <td>14</td>\n",
       "    </tr>\n",
       "    <tr>\n",
       "      <th>4</th>\n",
       "      <td>[21:25]</td>\n",
       "      <td>51</td>\n",
       "      <td>15</td>\n",
       "    </tr>\n",
       "    <tr>\n",
       "      <th>6</th>\n",
       "      <td>[31:35]</td>\n",
       "      <td>51</td>\n",
       "      <td>16</td>\n",
       "    </tr>\n",
       "    <tr>\n",
       "      <th>8</th>\n",
       "      <td>[41:45]</td>\n",
       "      <td>55</td>\n",
       "      <td>17</td>\n",
       "    </tr>\n",
       "    <tr>\n",
       "      <th>5</th>\n",
       "      <td>[26:30]</td>\n",
       "      <td>56</td>\n",
       "      <td>18</td>\n",
       "    </tr>\n",
       "    <tr>\n",
       "      <th>7</th>\n",
       "      <td>[36:40]</td>\n",
       "      <td>60</td>\n",
       "      <td>19</td>\n",
       "    </tr>\n",
       "  </tbody>\n",
       "</table>\n",
       "</div>"
      ],
      "text/plain": [
       "      idade  count  ordem\n",
       "1    [6:10]      2      1\n",
       "0     [1:5]      5      2\n",
       "17  [86:90]      6      3\n",
       "18  [91:95]      6      4\n",
       "2   [11:15]      7      5\n",
       "16  [81:85]     12      6\n",
       "3   [16:20]     12      7\n",
       "13  [66:70]     13      8\n",
       "15  [76:80]     15      9\n",
       "11  [56:60]     20     10\n",
       "14  [71:75]     25     11\n",
       "12  [61:65]     28     12\n",
       "10  [51:55]     33     13\n",
       "9   [46:50]     40     14\n",
       "4   [21:25]     51     15\n",
       "6   [31:35]     51     16\n",
       "8   [41:45]     55     17\n",
       "5   [26:30]     56     18\n",
       "7   [36:40]     60     19"
      ]
     },
     "execution_count": 9,
     "metadata": {},
     "output_type": "execute_result"
    }
   ],
   "source": [
    "dataset_idade = agrupar_idade(df)\n",
    "dataset_idade"
   ]
  },
  {
   "cell_type": "code",
   "execution_count": 10,
   "metadata": {},
   "outputs": [],
   "source": [
    "def top_k_reverse_idade(dataset, k):\n",
    "    copia = dataset.copy()\n",
    "    output = []\n",
    "    for i in range(k):\n",
    "        indice = copia['count'].idxmin()\n",
    "        output.append([copia.loc[indice][0], copia.loc[indice][1]])\n",
    "        copia.drop(indice, inplace=True,axis=0)\n",
    "    output = pd.DataFrame(output)\n",
    "    output = output.rename(columns={0: 'idade', 1: 'count'})\n",
    "    return output"
   ]
  },
  {
   "cell_type": "code",
   "execution_count": 11,
   "metadata": {},
   "outputs": [],
   "source": [
    "#Aproveitando q ordenei\n",
    "#def top_k_reverse_idade(dataset, k):\n",
    "#    output = []\n",
    "#    for i in range(k):\n",
    "#        output.append([dataset.loc[k][0], dataset.loc[k][1]])\n",
    "#    output = pd.DataFrame(output)\n",
    "#    output = output.rename(columns={0: 'idade', 1: 'count'})\n",
    "#    return output"
   ]
  },
  {
   "cell_type": "code",
   "execution_count": 12,
   "metadata": {},
   "outputs": [
    {
     "data": {
      "text/html": [
       "<div>\n",
       "<style scoped>\n",
       "    .dataframe tbody tr th:only-of-type {\n",
       "        vertical-align: middle;\n",
       "    }\n",
       "\n",
       "    .dataframe tbody tr th {\n",
       "        vertical-align: top;\n",
       "    }\n",
       "\n",
       "    .dataframe thead th {\n",
       "        text-align: right;\n",
       "    }\n",
       "</style>\n",
       "<table border=\"1\" class=\"dataframe\">\n",
       "  <thead>\n",
       "    <tr style=\"text-align: right;\">\n",
       "      <th></th>\n",
       "      <th>idade</th>\n",
       "      <th>count</th>\n",
       "    </tr>\n",
       "  </thead>\n",
       "  <tbody>\n",
       "    <tr>\n",
       "      <th>0</th>\n",
       "      <td>[6:10]</td>\n",
       "      <td>2</td>\n",
       "    </tr>\n",
       "    <tr>\n",
       "      <th>1</th>\n",
       "      <td>[1:5]</td>\n",
       "      <td>5</td>\n",
       "    </tr>\n",
       "    <tr>\n",
       "      <th>2</th>\n",
       "      <td>[86:90]</td>\n",
       "      <td>6</td>\n",
       "    </tr>\n",
       "    <tr>\n",
       "      <th>3</th>\n",
       "      <td>[91:95]</td>\n",
       "      <td>6</td>\n",
       "    </tr>\n",
       "    <tr>\n",
       "      <th>4</th>\n",
       "      <td>[11:15]</td>\n",
       "      <td>7</td>\n",
       "    </tr>\n",
       "    <tr>\n",
       "      <th>5</th>\n",
       "      <td>[81:85]</td>\n",
       "      <td>12</td>\n",
       "    </tr>\n",
       "    <tr>\n",
       "      <th>6</th>\n",
       "      <td>[16:20]</td>\n",
       "      <td>12</td>\n",
       "    </tr>\n",
       "    <tr>\n",
       "      <th>7</th>\n",
       "      <td>[66:70]</td>\n",
       "      <td>13</td>\n",
       "    </tr>\n",
       "    <tr>\n",
       "      <th>8</th>\n",
       "      <td>[76:80]</td>\n",
       "      <td>15</td>\n",
       "    </tr>\n",
       "    <tr>\n",
       "      <th>9</th>\n",
       "      <td>[56:60]</td>\n",
       "      <td>20</td>\n",
       "    </tr>\n",
       "  </tbody>\n",
       "</table>\n",
       "</div>"
      ],
      "text/plain": [
       "     idade  count\n",
       "0   [6:10]      2\n",
       "1    [1:5]      5\n",
       "2  [86:90]      6\n",
       "3  [91:95]      6\n",
       "4  [11:15]      7\n",
       "5  [81:85]     12\n",
       "6  [16:20]     12\n",
       "7  [66:70]     13\n",
       "8  [76:80]     15\n",
       "9  [56:60]     20"
      ]
     },
     "execution_count": 12,
     "metadata": {},
     "output_type": "execute_result"
    }
   ],
   "source": [
    "top_k_reverse_idade(dataset_idade, 10)"
   ]
  },
  {
   "cell_type": "markdown",
   "metadata": {},
   "source": [
    "# Ruído de Laplace"
   ]
  },
  {
   "cell_type": "code",
   "execution_count": 13,
   "metadata": {},
   "outputs": [],
   "source": [
    "def sensibilidade_lap(dataset):\n",
    "    return 1"
   ]
  },
  {
   "cell_type": "code",
   "execution_count": 14,
   "metadata": {},
   "outputs": [],
   "source": [
    "def erros_lap(query, argumento_consulta, k):\n",
    "    erros_laplace = []\n",
    "    top = list(query)\n",
    "    for argumento in argumento_consulta:\n",
    "        erro_argumento_lap = [0]*10\n",
    "        for i in range(len(argumento)):\n",
    "            if(argumento[i] == top[i]):\n",
    "                erro = 0\n",
    "            else:\n",
    "                erro = abs(top.index(argumento[i]) - i)\n",
    "            erro_argumento_lap[i]  = erro\n",
    "        erros_laplace.append(erro_argumento_lap)\n",
    "    return erros_laplace"
   ]
  },
  {
   "cell_type": "code",
   "execution_count": 15,
   "metadata": {},
   "outputs": [],
   "source": [
    "def plot_erros(erros_argumento, k):\n",
    "    df = pd.DataFrame({\n",
    "        'epsilon': ['0.1', '1', '10'],\n",
    "        'erro': erros_argumento,\n",
    "        'k = %i'%(k): k})\n",
    "    return df.plot(kind='bar', x='epsilon')"
   ]
  },
  {
   "cell_type": "markdown",
   "metadata": {},
   "source": [
    "# Consulta Bairros com Ruído"
   ]
  },
  {
   "cell_type": "code",
   "execution_count": 16,
   "metadata": {},
   "outputs": [],
   "source": [
    "def laplace_bairros(budget, sensibilidade, query, dataset, k):\n",
    "    resposta_query = np.array(query['count'])\n",
    "    coluna_bairros = np.array(query['bairro'])\n",
    "    output = []\n",
    "    np.random.seed(123)\n",
    "    for i in range(k):\n",
    "        ruido = stats.laplace.rvs(loc = 0, scale = sensibilidade/budget)\n",
    "        output.append((resposta_query[i] + ruido))\n",
    "    output = {\n",
    "        'bairro': coluna_bairros,\n",
    "        'count': output\n",
    "    }\n",
    "    \n",
    "    df = pd.DataFrame(output, columns = ['bairro', 'count'])\n",
    "    return df.sort_values(by=['count'],ascending=True)"
   ]
  },
  {
   "cell_type": "code",
   "execution_count": 17,
   "metadata": {},
   "outputs": [
    {
     "name": "stdout",
     "output_type": "stream",
     "text": [
      "epsilon: 0.1\n",
      "reverse top-10:\n",
      "[['NOVA METROPOLE JUREMA' -6.9031268473211655]\n",
      " ['VARJOTA' -4.581292210973028]\n",
      " ['ITAPAJE' -1.4304651224855673]\n",
      " ['ALDEIA PARK' -0.669842722604737]\n",
      " ['TABAPUA' 0.6111758470501567]\n",
      " ['PARQUE POTIRA JUREMA' 2.082865012547421]\n",
      " ['PL CAUCAIA' 5.6149509319177975]\n",
      " ['VILA PERI' 5.991249629211602]\n",
      " ['PINHEIRO' 6.779237549274969]\n",
      " ['PRECABURA' 33.57834888254776]]\n",
      "\n",
      "\n",
      "epsilon: 1\n",
      "reverse top-10:\n",
      "[['NOVA METROPOLE JUREMA' 0.20968731526788342]\n",
      " ['VARJOTA' 0.4418707789026972]\n",
      " ['ITAPAJE' 0.7569534877514432]\n",
      " ['ALDEIA PARK' 0.8330157277395263]\n",
      " ['TABAPUA' 0.9611175847050156]\n",
      " ['PARQUE POTIRA JUREMA' 1.108286501254742]\n",
      " ['PL CAUCAIA' 1.4614950931917798]\n",
      " ['VILA PERI' 1.4991249629211603]\n",
      " ['PINHEIRO' 1.577923754927497]\n",
      " ['PRECABURA' 4.257834888254775]]\n",
      "\n",
      "\n",
      "epsilon: 10\n",
      "reverse top-10:\n",
      "[['NOVA METROPOLE JUREMA' 0.9209687315267884]\n",
      " ['VARJOTA' 0.9441870778902697]\n",
      " ['ITAPAJE' 0.9756953487751443]\n",
      " ['ALDEIA PARK' 0.9833015727739526]\n",
      " ['TABAPUA' 0.9961117584705016]\n",
      " ['PARQUE POTIRA JUREMA' 1.0108286501254742]\n",
      " ['PL CAUCAIA' 1.046149509319178]\n",
      " ['VILA PERI' 1.049912496292116]\n",
      " ['PINHEIRO' 1.0577923754927496]\n",
      " ['PRECABURA' 1.3257834888254776]]\n",
      "\n",
      "\n"
     ]
    }
   ],
   "source": [
    "budgets = [0.1, 1, 10]\n",
    "k = 10\n",
    "bairros = []\n",
    "for budget in budgets:\n",
    "    a = laplace_bairros(budget, sensibilidade_lap(dataset_bairros), top_k_reverse_bairros(dataset_bairros, k), dataset_bairros, k)\n",
    "    a = np.array(a)\n",
    "    print(\"epsilon: {}\\nreverse top-{}:\\n{}\\n\\n\".format(budget, k, a))\n",
    "    bairros.append(a[:,0])"
   ]
  },
  {
   "cell_type": "code",
   "execution_count": 18,
   "metadata": {},
   "outputs": [
    {
     "name": "stdout",
     "output_type": "stream",
     "text": [
      "[[2, 0, 7, 2, 4, 2, 1, 7, 4, 3], [2, 0, 7, 2, 4, 2, 1, 7, 4, 3], [2, 0, 7, 2, 4, 2, 1, 7, 4, 3]]\n"
     ]
    }
   ],
   "source": [
    "#inverti linha/coluna pra fazer a acumulada dos k pra plotar pra cada k\n",
    "erros_bairro = erros_lap(top_k_reverse_bairros(dataset_bairros, 10)['bairro'], bairros, 10)\n",
    "lista_plot = []\n",
    "for i in range(k):\n",
    "    p_cada_k = []\n",
    "    for b in range(len(budgets)):\n",
    "        aux = erros_bairro[b][i]\n",
    "        p_cada_k.append(aux)\n",
    "    lista_plot.append(p_cada_k)\n",
    "print(erros_bairro)"
   ]
  },
  {
   "cell_type": "code",
   "execution_count": 19,
   "metadata": {},
   "outputs": [],
   "source": [
    "copia = lista_plot.copy()\n",
    "aux = []\n",
    "aux.append(copia[0])\n",
    "for i in range(1, k):\n",
    "    copia[i][0] += copia[i-1][0] \n",
    "    copia[i][1] += copia[i-1][1] \n",
    "    copia[i][2] += copia[i-1][2]\n",
    "    aux.append([copia[i][0], copia[i][1], copia[i][2]])"
   ]
  },
  {
   "cell_type": "code",
   "execution_count": 20,
   "metadata": {},
   "outputs": [
    {
     "data": {
      "image/png": "[encoded data removed]",
      "text/plain": [
       "<Figure size 432x288 with 1 Axes>"
      ]
     },
     "metadata": {
      "needs_background": "light"
     },
     "output_type": "display_data"
    },
    {
     "data": {
      "image/png": "[encoded data removed]",
      "text/plain": [
       "<Figure size 432x288 with 1 Axes>"
      ]
     },
     "metadata": {
      "needs_background": "light"
     },
     "output_type": "display_data"
    },
    {
     "data": {
      "image/png": "[encoded data removed]",
      "text/plain": [
       "<Figure size 432x288 with 1 Axes>"
      ]
     },
     "metadata": {
      "needs_background": "light"
     },
     "output_type": "display_data"
    },
    {
     "data": {
      "image/png": "[encoded data removed]",
      "text/plain": [
       "<Figure size 432x288 with 1 Axes>"
      ]
     },
     "metadata": {
      "needs_background": "light"
     },
     "output_type": "display_data"
    },
    {
     "data": {
      "image/png": "[encoded data removed]",
      "text/plain": [
       "<Figure size 432x288 with 1 Axes>"
      ]
     },
     "metadata": {
      "needs_background": "light"
     },
     "output_type": "display_data"
    },
    {
     "data": {
      "image/png": "[encoded data removed]",
      "text/plain": [
       "<Figure size 432x288 with 1 Axes>"
      ]
     },
     "metadata": {
      "needs_background": "light"
     },
     "output_type": "display_data"
    },
    {
     "data": {
      "image/png": "[encoded data removed]",
      "text/plain": [
       "<Figure size 432x288 with 1 Axes>"
      ]
     },
     "metadata": {
      "needs_background": "light"
     },
     "output_type": "display_data"
    },
    {
     "data": {
      "image/png": "[encoded data removed]",
      "text/plain": [
       "<Figure size 432x288 with 1 Axes>"
      ]
     },
     "metadata": {
      "needs_background": "light"
     },
     "output_type": "display_data"
    },
    {
     "data": {
      "image/png": "[encoded data removed]",
      "text/plain": [
       "<Figure size 432x288 with 1 Axes>"
      ]
     },
     "metadata": {
      "needs_background": "light"
     },
     "output_type": "display_data"
    },
    {
     "data": {
      "image/png": "[encoded data removed]",
      "text/plain": [
       "<Figure size 432x288 with 1 Axes>"
      ]
     },
     "metadata": {
      "needs_background": "light"
     },
     "output_type": "display_data"
    }
   ],
   "source": [
    "for i in range(0, k):\n",
    "    plot_erros(aux[i], i+1)"
   ]
  },
  {
   "cell_type": "markdown",
   "metadata": {},
   "source": [
    "# Consulta Idade com ruído"
   ]
  },
  {
   "cell_type": "code",
   "execution_count": 21,
   "metadata": {},
   "outputs": [],
   "source": [
    "def laplace_idade(budget, sensibilidade, query, dataset, k):\n",
    "    resposta_query = np.array(query['count'])\n",
    "    coluna_idades = np.array(query['idade'])\n",
    "    output = []\n",
    "    np.random.seed(123)\n",
    "    for i in range(k):\n",
    "        ruido = stats.laplace.rvs(loc = 0, scale = sensibilidade/budget)\n",
    "        output.append((resposta_query[i] + ruido))\n",
    "    output = {\n",
    "        'idade': coluna_idades,\n",
    "        'count': output\n",
    "    }\n",
    "    \n",
    "    df = pd.DataFrame(output, columns = ['idade', 'count'])\n",
    "    return df.sort_values(by=['count'],ascending=True)"
   ]
  },
  {
   "cell_type": "code",
   "execution_count": 22,
   "metadata": {},
   "outputs": [
    {
     "name": "stdout",
     "output_type": "stream",
     "text": [
      "epsilon: 0.1\n",
      "reverse top-k:\n",
      "[['[86:90]' -1.9031268473211655]\n",
      " ['[1:5]' -0.5812922109730279]\n",
      " ['[6:10]' 6.991249629211602]\n",
      " ['[91:95]' 7.082865012547421]\n",
      " ['[81:85]' 10.330157277395262]\n",
      " ['[11:15]' 12.779237549274969]\n",
      " ['[76:80]' 14.611175847050157]\n",
      " ['[56:60]' 17.56953487751443]\n",
      " ['[66:70]' 17.614950931917797]\n",
      " ['[16:20]' 44.57834888254776]]\n",
      "\n",
      "\n",
      "epsilon: 1\n",
      "reverse top-k:\n",
      "[['[6:10]' 2.4991249629211603]\n",
      " ['[1:5]' 4.441870778902697]\n",
      " ['[86:90]' 5.2096873152678835]\n",
      " ['[91:95]' 6.108286501254742]\n",
      " ['[11:15]' 7.577923754927497]\n",
      " ['[81:85]' 11.833015727739527]\n",
      " ['[66:70]' 13.461495093191779]\n",
      " ['[76:80]' 14.961117584705015]\n",
      " ['[16:20]' 15.257834888254775]\n",
      " ['[56:60]' 19.756953487751442]]\n",
      "\n",
      "\n",
      "epsilon: 10\n",
      "reverse top-k:\n",
      "[['[6:10]' 2.049912496292116]\n",
      " ['[1:5]' 4.94418707789027]\n",
      " ['[86:90]' 5.920968731526789]\n",
      " ['[91:95]' 6.010828650125474]\n",
      " ['[11:15]' 7.05779237549275]\n",
      " ['[81:85]' 11.983301572773952]\n",
      " ['[16:20]' 12.325783488825477]\n",
      " ['[66:70]' 13.046149509319179]\n",
      " ['[76:80]' 14.996111758470501]\n",
      " ['[56:60]' 19.975695348775144]]\n",
      "\n",
      "\n"
     ]
    }
   ],
   "source": [
    "budgets = [0.1, 1, 10]\n",
    "idades = []\n",
    "k = 10\n",
    "for budget in budgets:\n",
    "    a = laplace_idade(budget, sensibilidade_lap(dataset_idade), top_k_reverse_idade(dataset_idade, 10), dataset_idade, 10)\n",
    "    a = np.array(a)\n",
    "    print(\"epsilon: {}\\nreverse top-k:\\n{}\\n\\n\".format(budget, a))\n",
    "    idades.append(a[:,0])"
   ]
  },
  {
   "cell_type": "code",
   "execution_count": 23,
   "metadata": {},
   "outputs": [],
   "source": [
    "query_idades = top_k_reverse_idade(dataset_idade, 10)['idade']\n",
    "erros_idade = erros_lap(query_idades, idades, 10)\n",
    "lista_plot_idades = []\n",
    "for i in range(k):\n",
    "    p_cada_k = []\n",
    "    for b in range(len(budgets)):\n",
    "        aux = erros_idade[b][i]\n",
    "        p_cada_k.append(aux)\n",
    "    lista_plot_idades.append(p_cada_k)"
   ]
  },
  {
   "cell_type": "code",
   "execution_count": 24,
   "metadata": {},
   "outputs": [
    {
     "data": {
      "text/plain": [
       "[[2, 0, 0],\n",
       " [2, 0, 0],\n",
       " [4, 0, 0],\n",
       " [4, 0, 0],\n",
       " [5, 0, 0],\n",
       " [6, 0, 0],\n",
       " [8, 1, 0],\n",
       " [10, 2, 0],\n",
       " [11, 4, 0],\n",
       " [14, 4, 0]]"
      ]
     },
     "execution_count": 24,
     "metadata": {},
     "output_type": "execute_result"
    }
   ],
   "source": [
    "copia_idades = lista_plot_idades.copy()\n",
    "aux_idades = []\n",
    "aux_idades.append(copia_idades[0])\n",
    "for i in range(1, k):\n",
    "    copia_idades[i][0] += copia_idades[i-1][0] \n",
    "    copia_idades[i][1] += copia_idades[i-1][1] \n",
    "    copia_idades[i][2] += copia_idades[i-1][2]\n",
    "    aux_idades.append([copia_idades[i][0], copia_idades[i][1], copia_idades[i][2]])\n",
    "aux_idades"
   ]
  },
  {
   "cell_type": "code",
   "execution_count": 25,
   "metadata": {},
   "outputs": [
    {
     "data": {
      "image/png": "[encoded data removed]",
      "text/plain": [
       "<Figure size 432x288 with 1 Axes>"
      ]
     },
     "metadata": {
      "needs_background": "light"
     },
     "output_type": "display_data"
    },
    {
     "data": {
      "image/png": "[encoded data removed]",
      "text/plain": [
       "<Figure size 432x288 with 1 Axes>"
      ]
     },
     "metadata": {
      "needs_background": "light"
     },
     "output_type": "display_data"
    },
    {
     "data": {
      "image/png": "[encoded data removed]",
      "text/plain": [
       "<Figure size 432x288 with 1 Axes>"
      ]
     },
     "metadata": {
      "needs_background": "light"
     },
     "output_type": "display_data"
    },
    {
     "data": {
      "image/png": "[encoded data removed]",
      "text/plain": [
       "<Figure size 432x288 with 1 Axes>"
      ]
     },
     "metadata": {
      "needs_background": "light"
     },
     "output_type": "display_data"
    },
    {
     "data": {
      "image/png": "[encoded data removed]",
      "text/plain": [
       "<Figure size 432x288 with 1 Axes>"
      ]
     },
     "metadata": {
      "needs_background": "light"
     },
     "output_type": "display_data"
    },
    {
     "data": {
      "image/png": "[encoded data removed]",
      "text/plain": [
       "<Figure size 432x288 with 1 Axes>"
      ]
     },
     "metadata": {
      "needs_background": "light"
     },
     "output_type": "display_data"
    },
    {
     "data": {
      "image/png": "[encoded data removed]",
      "text/plain": [
       "<Figure size 432x288 with 1 Axes>"
      ]
     },
     "metadata": {
      "needs_background": "light"
     },
     "output_type": "display_data"
    },
    {
     "data": {
      "image/png": "[encoded data removed]",
      "text/plain": [
       "<Figure size 432x288 with 1 Axes>"
      ]
     },
     "metadata": {
      "needs_background": "light"
     },
     "output_type": "display_data"
    },
    {
     "data": {
      "image/png": "[encoded data removed]",
      "text/plain": [
       "<Figure size 432x288 with 1 Axes>"
      ]
     },
     "metadata": {
      "needs_background": "light"
     },
     "output_type": "display_data"
    },
    {
     "data": {
      "image/png": "[encoded data removed]",
      "text/plain": [
       "<Figure size 432x288 with 1 Axes>"
      ]
     },
     "metadata": {
      "needs_background": "light"
     },
     "output_type": "display_data"
    }
   ],
   "source": [
    "for i in range(0, k):\n",
    "    plot_erros(aux_idades[i], i+1)"
   ]
  },
  {
   "cell_type": "markdown",
   "metadata": {},
   "source": [
    "# Mecanismo Exponencial"
   ]
  },
  {
   "cell_type": "code",
   "execution_count": 26,
   "metadata": {},
   "outputs": [],
   "source": [
    "def score_function_exp(dataset):\n",
    "    return -dataset['ordem']"
   ]
  },
  {
   "cell_type": "code",
   "execution_count": 27,
   "metadata": {},
   "outputs": [],
   "source": [
    "def sensibilidade_exp(dataset):\n",
    "    return 1"
   ]
  },
  {
   "cell_type": "code",
   "execution_count": 28,
   "metadata": {},
   "outputs": [],
   "source": [
    "def erros_exp(query, argumento_consulta, k):\n",
    "    erros_exponencial = []\n",
    "    top = list(query)\n",
    "    for argumento in argumento_consulta:\n",
    "        erro_argumento_exp = [0]*10\n",
    "        for i in range(len(argumento)):\n",
    "            if(argumento[i] in top):\n",
    "                if(argumento[i] == top[i]):\n",
    "                    erro = 0\n",
    "                else:\n",
    "                    erro = abs(top.index(argumento[i]) - i)\n",
    "            else:\n",
    "                erro = 20\n",
    "            erro_argumento_exp[i]  = erro\n",
    "        erros_exponencial.append(erro_argumento_exp)\n",
    "    return erros_exponencial"
   ]
  },
  {
   "cell_type": "markdown",
   "metadata": {},
   "source": [
    "# Consulta Idade Exponencial"
   ]
  },
  {
   "cell_type": "code",
   "execution_count": 29,
   "metadata": {},
   "outputs": [],
   "source": [
    "def exp_idades(budget, sensibilidade, dataset, k):\n",
    "    budget = budget/k\n",
    "    \n",
    "    scores = score_function_exp(dataset)\n",
    "    x = np.arange(len(scores))\n",
    "    probabilidades = []\n",
    "    \n",
    "    for score in scores:\n",
    "        probabilidade = math.exp((budget * score)/(2 * sensibilidade))\n",
    "        probabilidades.append(probabilidade)\n",
    "        \n",
    "    probabilidades = [prob/sum(probabilidades) for prob in probabilidades]    \n",
    "    dist = stats.rv_discrete(name='dist', values=(x, probabilidades))    \n",
    "    output = []\n",
    "    \n",
    "    for i in range(k):\n",
    "        valido = False\n",
    "        while(not valido):\n",
    "            indice = dist.rvs()\n",
    "            if([dataset_idade.loc[indice][0], -scores[indice]] not in output):\n",
    "                output.append([dataset.loc[indice][0], -scores[indice]])\n",
    "                valido = True\n",
    "                \n",
    "    output = pd.DataFrame(output)\n",
    "    output = output.rename(columns={0: 'idade', 1: 'count'})\n",
    "    return output.sort_values(by=['count'], ascending=True)"
   ]
  },
  {
   "cell_type": "code",
   "execution_count": 30,
   "metadata": {},
   "outputs": [
    {
     "name": "stdout",
     "output_type": "stream",
     "text": [
      "epsilon: 0.1\n",
      "reverse top-k:\n",
      "[['[6:10]' 1]\n",
      " ['[81:85]' 6]\n",
      " ['[16:20]' 7]\n",
      " ['[66:70]' 8]\n",
      " ['[56:60]' 10]\n",
      " ['[46:50]' 14]\n",
      " ['[31:35]' 16]\n",
      " ['[41:45]' 17]\n",
      " ['[26:30]' 18]\n",
      " ['[36:40]' 19]]\n",
      "\n",
      "\n",
      "epsilon: 1\n",
      "reverse top-k:\n",
      "[['[6:10]' 1]\n",
      " ['[86:90]' 3]\n",
      " ['[91:95]' 4]\n",
      " ['[16:20]' 7]\n",
      " ['[76:80]' 9]\n",
      " ['[46:50]' 14]\n",
      " ['[21:25]' 15]\n",
      " ['[31:35]' 16]\n",
      " ['[26:30]' 18]\n",
      " ['[36:40]' 19]]\n",
      "\n",
      "\n",
      "epsilon: 10\n",
      "reverse top-k:\n",
      "[['[6:10]' 1]\n",
      " ['[1:5]' 2]\n",
      " ['[11:15]' 5]\n",
      " ['[16:20]' 7]\n",
      " ['[56:60]' 10]\n",
      " ['[51:55]' 13]\n",
      " ['[46:50]' 14]\n",
      " ['[21:25]' 15]\n",
      " ['[41:45]' 17]\n",
      " ['[26:30]' 18]]\n",
      "\n",
      "\n"
     ]
    }
   ],
   "source": [
    "budgets = [0.1, 1, 10]\n",
    "idades_exp = []\n",
    "\n",
    "for budget in budgets:\n",
    "    b = exp_idades(budget, sensibilidade_exp(dataset_idade), dataset_idade, 10)\n",
    "    b = np.array(b)\n",
    "    print(\"epsilon: {}\\nreverse top-k:\\n{}\\n\\n\".format(budget, b))\n",
    "    idades_exp.append(b[:,0])"
   ]
  },
  {
   "cell_type": "code",
   "execution_count": 31,
   "metadata": {},
   "outputs": [],
   "source": [
    "query_idades_exp = top_k_reverse_idade(dataset_idade, 10)['idade']\n",
    "erros_idade_exp = erros_exp(query_idades_exp, idades_exp, 10)\n",
    "exp_plot_idades = []\n",
    "for i in range(k):\n",
    "    p_cada_k = []\n",
    "    for b in range(len(budgets)):\n",
    "        aux = erros_idade_exp[b][i]\n",
    "        p_cada_k.append(aux)\n",
    "    exp_plot_idades.append(p_cada_k)"
   ]
  },
  {
   "cell_type": "code",
   "execution_count": 32,
   "metadata": {},
   "outputs": [
    {
     "data": {
      "text/plain": [
       "[[0, 0, 0],\n",
       " [4, 1, 0],\n",
       " [8, 2, 2],\n",
       " [12, 5, 5],\n",
       " [17, 9, 10],\n",
       " [37, 29, 30],\n",
       " [57, 49, 50],\n",
       " [77, 69, 70],\n",
       " [97, 89, 90],\n",
       " [117, 109, 110]]"
      ]
     },
     "execution_count": 32,
     "metadata": {},
     "output_type": "execute_result"
    }
   ],
   "source": [
    "copia_idades_exp = exp_plot_idades.copy()\n",
    "aux_idades_exp = []\n",
    "aux_idades_exp.append(copia_idades_exp[0])\n",
    "for i in range(1, k):\n",
    "    copia_idades_exp[i][0] += copia_idades_exp[i-1][0] \n",
    "    copia_idades_exp[i][1] += copia_idades_exp[i-1][1] \n",
    "    copia_idades_exp[i][2] += copia_idades_exp[i-1][2]\n",
    "    aux_idades_exp.append([copia_idades_exp[i][0], copia_idades_exp[i][1], copia_idades_exp[i][2]])\n",
    "aux_idades_exp"
   ]
  },
  {
   "cell_type": "code",
   "execution_count": 33,
   "metadata": {},
   "outputs": [
    {
     "data": {
      "image/png": "[encoded data removed]",
      "text/plain": [
       "<Figure size 432x288 with 1 Axes>"
      ]
     },
     "metadata": {
      "needs_background": "light"
     },
     "output_type": "display_data"
    },
    {
     "data": {
      "image/png": "[encoded data removed]",
      "text/plain": [
       "<Figure size 432x288 with 1 Axes>"
      ]
     },
     "metadata": {
      "needs_background": "light"
     },
     "output_type": "display_data"
    },
    {
     "data": {
      "image/png": "[encoded data removed]",
      "text/plain": [
       "<Figure size 432x288 with 1 Axes>"
      ]
     },
     "metadata": {
      "needs_background": "light"
     },
     "output_type": "display_data"
    },
    {
     "data": {
      "image/png": "[encoded data removed]",
      "text/plain": [
       "<Figure size 432x288 with 1 Axes>"
      ]
     },
     "metadata": {
      "needs_background": "light"
     },
     "output_type": "display_data"
    },
    {
     "data": {
      "image/png": "[encoded data removed]",
      "text/plain": [
       "<Figure size 432x288 with 1 Axes>"
      ]
     },
     "metadata": {
      "needs_background": "light"
     },
     "output_type": "display_data"
    },
    {
     "data": {
      "image/png": "[encoded data removed]",
      "text/plain": [
       "<Figure size 432x288 with 1 Axes>"
      ]
     },
     "metadata": {
      "needs_background": "light"
     },
     "output_type": "display_data"
    },
    {
     "data": {
      "image/png": "[encoded data removed]",
      "text/plain": [
       "<Figure size 432x288 with 1 Axes>"
      ]
     },
     "metadata": {
      "needs_background": "light"
     },
     "output_type": "display_data"
    },
    {
     "data": {
      "image/png": "[encoded data removed]",
      "text/plain": [
       "<Figure size 432x288 with 1 Axes>"
      ]
     },
     "metadata": {
      "needs_background": "light"
     },
     "output_type": "display_data"
    },
    {
     "data": {
      "image/png": "[encoded data removed]",
      "text/plain": [
       "<Figure size 432x288 with 1 Axes>"
      ]
     },
     "metadata": {
      "needs_background": "light"
     },
     "output_type": "display_data"
    },
    {
     "data": {
      "image/png": "[encoded data removed]",
      "text/plain": [
       "<Figure size 432x288 with 1 Axes>"
      ]
     },
     "metadata": {
      "needs_background": "light"
     },
     "output_type": "display_data"
    }
   ],
   "source": [
    "for i in range(0, k):\n",
    "    plot_erros(aux_idades_exp[i], i+1)"
   ]
  }
 ],
 "metadata": {
  "kernelspec": {
   "display_name": "Python 3",
   "language": "python",
   "name": "python3"
  },
  "language_info": {
   "codemirror_mode": {
    "name": "ipython",
    "version": 3
   },
   "file_extension": ".py",
   "mimetype": "text/x-python",
   "name": "python",
   "nbconvert_exporter": "python",
   "pygments_lexer": "ipython3",
   "version": "3.7.7"
  }
 },
 "nbformat": 4,
 "nbformat_minor": 4
}
