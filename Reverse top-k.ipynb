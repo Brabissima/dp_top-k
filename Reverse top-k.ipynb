{
 "cells": [
  {
   "cell_type": "code",
   "execution_count": 1,
   "metadata": {},
   "outputs": [],
   "source": [
    "import pandas as pd\n",
    "import numpy as np\n",
    "import matplotlib.pyplot as plt\n",
    "from scipy import stats\n",
    "import math\n",
    "import random\n",
    "import seaborn as sns\n",
    "\n",
    "from collections import Counter"
   ]
  },
  {
   "cell_type": "code",
   "execution_count": 2,
   "metadata": {},
   "outputs": [],
   "source": [
    "def pre_processamento():\n",
    "    xlsx = pd.ExcelFile('casos_corona.xlsx')\n",
    "    df = pd.read_excel(xlsx, 'casos_corona')\n",
    "    df = df[:2000] ################################limitando o dataset\n",
    "    df = df[['bairroPaciente','municipioPaciente','resultadoFinalExame','sexoPaciente', 'idadePaciente']]\n",
    "    \n",
    "    novo_df = []\n",
    "    for i in range(len(df)):\n",
    "        if(df.loc[i][2] == 'Positivo'):\n",
    "            resultado = 1\n",
    "            novo_df.append([df.loc[i][0], df.loc[i][1], resultado, df.loc[i][3], df.loc[i][4]])\n",
    "        else:\n",
    "            resultado = 0\n",
    "            novo_df.append([df.loc[i][0], df.loc[i][1], resultado, df.loc[i][3], df.loc[i][4]])\n",
    "    \n",
    "    novo_df = pd.DataFrame(novo_df)\n",
    "    novo_df.rename(columns={0: 'bairro_paciente', 1: 'municipio_paciente', 2: 'resultado_exame', 3: 'sexo_paciente', 4: 'idade_paciente'}, inplace=True)    \n",
    "    return novo_df"
   ]
  },
  {
   "cell_type": "code",
   "execution_count": 3,
   "metadata": {},
   "outputs": [
    {
     "data": {
      "text/html": [
       "<div>\n",
       "<style scoped>\n",
       "    .dataframe tbody tr th:only-of-type {\n",
       "        vertical-align: middle;\n",
       "    }\n",
       "\n",
       "    .dataframe tbody tr th {\n",
       "        vertical-align: top;\n",
       "    }\n",
       "\n",
       "    .dataframe thead th {\n",
       "        text-align: right;\n",
       "    }\n",
       "</style>\n",
       "<table border=\"1\" class=\"dataframe\">\n",
       "  <thead>\n",
       "    <tr style=\"text-align: right;\">\n",
       "      <th></th>\n",
       "      <th>bairro_paciente</th>\n",
       "      <th>municipio_paciente</th>\n",
       "      <th>resultado_exame</th>\n",
       "      <th>sexo_paciente</th>\n",
       "      <th>idade_paciente</th>\n",
       "    </tr>\n",
       "  </thead>\n",
       "  <tbody>\n",
       "    <tr>\n",
       "      <th>0</th>\n",
       "      <td>VILA PERI</td>\n",
       "      <td>FORTALEZA</td>\n",
       "      <td>0</td>\n",
       "      <td>MASCULINO</td>\n",
       "      <td>74.0</td>\n",
       "    </tr>\n",
       "    <tr>\n",
       "      <th>1</th>\n",
       "      <td>VARJOTA</td>\n",
       "      <td>FORTALEZA</td>\n",
       "      <td>0</td>\n",
       "      <td>FEMININO</td>\n",
       "      <td>31.0</td>\n",
       "    </tr>\n",
       "    <tr>\n",
       "      <th>2</th>\n",
       "      <td>NOVA METROPOLE JUREMA</td>\n",
       "      <td>CAUCAIA</td>\n",
       "      <td>0</td>\n",
       "      <td>FEMININO</td>\n",
       "      <td>84.0</td>\n",
       "    </tr>\n",
       "    <tr>\n",
       "      <th>3</th>\n",
       "      <td>PARQUE POTIRA JUREMA</td>\n",
       "      <td>CAUCAIA</td>\n",
       "      <td>0</td>\n",
       "      <td>FEMININO</td>\n",
       "      <td>61.0</td>\n",
       "    </tr>\n",
       "    <tr>\n",
       "      <th>4</th>\n",
       "      <td>PINHEIRO</td>\n",
       "      <td>GUAIÚBA</td>\n",
       "      <td>0</td>\n",
       "      <td>MASCULINO</td>\n",
       "      <td>37.0</td>\n",
       "    </tr>\n",
       "    <tr>\n",
       "      <th>...</th>\n",
       "      <td>...</td>\n",
       "      <td>...</td>\n",
       "      <td>...</td>\n",
       "      <td>...</td>\n",
       "      <td>...</td>\n",
       "    </tr>\n",
       "    <tr>\n",
       "      <th>1995</th>\n",
       "      <td>ARACATIARA</td>\n",
       "      <td>AMONTADA</td>\n",
       "      <td>1</td>\n",
       "      <td>MASCULINO</td>\n",
       "      <td>36.0</td>\n",
       "    </tr>\n",
       "    <tr>\n",
       "      <th>1996</th>\n",
       "      <td>CENTRO</td>\n",
       "      <td>GRANJA</td>\n",
       "      <td>0</td>\n",
       "      <td>FEMININO</td>\n",
       "      <td>26.0</td>\n",
       "    </tr>\n",
       "    <tr>\n",
       "      <th>1997</th>\n",
       "      <td>SANTO ANTONIO</td>\n",
       "      <td>EUSEBIO</td>\n",
       "      <td>1</td>\n",
       "      <td>MASCULINO</td>\n",
       "      <td>56.0</td>\n",
       "    </tr>\n",
       "    <tr>\n",
       "      <th>1998</th>\n",
       "      <td>SAO JOSÉ</td>\n",
       "      <td>VICOSA DO CEARA</td>\n",
       "      <td>1</td>\n",
       "      <td>MASCULINO</td>\n",
       "      <td>22.0</td>\n",
       "    </tr>\n",
       "    <tr>\n",
       "      <th>1999</th>\n",
       "      <td>MARINGAR</td>\n",
       "      <td>EUSEBIO</td>\n",
       "      <td>1</td>\n",
       "      <td>MASCULINO</td>\n",
       "      <td>35.0</td>\n",
       "    </tr>\n",
       "  </tbody>\n",
       "</table>\n",
       "<p>2000 rows × 5 columns</p>\n",
       "</div>"
      ],
      "text/plain": [
       "            bairro_paciente municipio_paciente  resultado_exame sexo_paciente  \\\n",
       "0                 VILA PERI          FORTALEZA                0     MASCULINO   \n",
       "1                   VARJOTA          FORTALEZA                0      FEMININO   \n",
       "2     NOVA METROPOLE JUREMA            CAUCAIA                0      FEMININO   \n",
       "3      PARQUE POTIRA JUREMA            CAUCAIA                0      FEMININO   \n",
       "4                  PINHEIRO            GUAIÚBA                0     MASCULINO   \n",
       "...                     ...                ...              ...           ...   \n",
       "1995             ARACATIARA           AMONTADA                1     MASCULINO   \n",
       "1996                 CENTRO             GRANJA                0      FEMININO   \n",
       "1997          SANTO ANTONIO            EUSEBIO                1     MASCULINO   \n",
       "1998               SAO JOSÉ    VICOSA DO CEARA                1     MASCULINO   \n",
       "1999               MARINGAR            EUSEBIO                1     MASCULINO   \n",
       "\n",
       "      idade_paciente  \n",
       "0               74.0  \n",
       "1               31.0  \n",
       "2               84.0  \n",
       "3               61.0  \n",
       "4               37.0  \n",
       "...              ...  \n",
       "1995            36.0  \n",
       "1996            26.0  \n",
       "1997            56.0  \n",
       "1998            22.0  \n",
       "1999            35.0  \n",
       "\n",
       "[2000 rows x 5 columns]"
      ]
     },
     "execution_count": 3,
     "metadata": {},
     "output_type": "execute_result"
    }
   ],
   "source": [
    "df = pre_processamento()\n",
    "df"
   ]
  },
  {
   "cell_type": "code",
   "execution_count": 4,
   "metadata": {},
   "outputs": [],
   "source": [
    "def agrupar_bairros(df):\n",
    "    bairros = pd.unique(df['bairro_paciente'])\n",
    "    casos_bairros = []\n",
    "    for bairro in bairros:\n",
    "        count = 0\n",
    "        for i in range(len(df)):\n",
    "            if(df.loc[i][0] == bairro):\n",
    "                count = count + 1\n",
    "        casos_bairros.append([bairro, count])\n",
    "    casos_bairros = pd.DataFrame(casos_bairros)\n",
    "    casos_bairros.rename(columns={0: 'bairro', 1: 'count'}, inplace=True)\n",
    "    return casos_bairros"
   ]
  },
  {
   "cell_type": "code",
   "execution_count": 5,
   "metadata": {},
   "outputs": [],
   "source": [
    "dataset_bairros = agrupar_bairros(df)"
   ]
  },
  {
   "cell_type": "code",
   "execution_count": 6,
   "metadata": {},
   "outputs": [],
   "source": [
    "def top_k_reverse_bairros(dataset, k):\n",
    "    copia = dataset.copy()\n",
    "    output = []\n",
    "    for i in range(k):\n",
    "        indice = copia['count'].idxmin()\n",
    "        output.append([copia.loc[indice][0], copia.loc[indice][1]])\n",
    "        copia.drop(indice, inplace=True,axis=0)\n",
    "    output = pd.DataFrame(output)\n",
    "    output = output.rename(columns={0: 'bairro', 1: 'count'})\n",
    "    return output"
   ]
  },
  {
   "cell_type": "code",
   "execution_count": 7,
   "metadata": {},
   "outputs": [
    {
     "data": {
      "text/html": [
       "<div>\n",
       "<style scoped>\n",
       "    .dataframe tbody tr th:only-of-type {\n",
       "        vertical-align: middle;\n",
       "    }\n",
       "\n",
       "    .dataframe tbody tr th {\n",
       "        vertical-align: top;\n",
       "    }\n",
       "\n",
       "    .dataframe thead th {\n",
       "        text-align: right;\n",
       "    }\n",
       "</style>\n",
       "<table border=\"1\" class=\"dataframe\">\n",
       "  <thead>\n",
       "    <tr style=\"text-align: right;\">\n",
       "      <th></th>\n",
       "      <th>bairro</th>\n",
       "      <th>count</th>\n",
       "    </tr>\n",
       "  </thead>\n",
       "  <tbody>\n",
       "    <tr>\n",
       "      <th>0</th>\n",
       "      <td>VILA PERI</td>\n",
       "      <td>1</td>\n",
       "    </tr>\n",
       "    <tr>\n",
       "      <th>1</th>\n",
       "      <td>NOVA METROPOLE JUREMA</td>\n",
       "      <td>1</td>\n",
       "    </tr>\n",
       "    <tr>\n",
       "      <th>2</th>\n",
       "      <td>PARQUE POTIRA JUREMA</td>\n",
       "      <td>1</td>\n",
       "    </tr>\n",
       "    <tr>\n",
       "      <th>3</th>\n",
       "      <td>PL CAUCAIA</td>\n",
       "      <td>1</td>\n",
       "    </tr>\n",
       "    <tr>\n",
       "      <th>4</th>\n",
       "      <td>ITAPAJE</td>\n",
       "      <td>1</td>\n",
       "    </tr>\n",
       "    <tr>\n",
       "      <th>5</th>\n",
       "      <td>PADRE JULIO MARIA</td>\n",
       "      <td>1</td>\n",
       "    </tr>\n",
       "    <tr>\n",
       "      <th>6</th>\n",
       "      <td>SÃO RAIMUNDO</td>\n",
       "      <td>1</td>\n",
       "    </tr>\n",
       "    <tr>\n",
       "      <th>7</th>\n",
       "      <td>ALVARO WEYNE''</td>\n",
       "      <td>1</td>\n",
       "    </tr>\n",
       "    <tr>\n",
       "      <th>8</th>\n",
       "      <td>CAPONGUINHA</td>\n",
       "      <td>1</td>\n",
       "    </tr>\n",
       "    <tr>\n",
       "      <th>9</th>\n",
       "      <td>ALVARO WEYNE</td>\n",
       "      <td>1</td>\n",
       "    </tr>\n",
       "  </tbody>\n",
       "</table>\n",
       "</div>"
      ],
      "text/plain": [
       "                  bairro  count\n",
       "0              VILA PERI      1\n",
       "1  NOVA METROPOLE JUREMA      1\n",
       "2   PARQUE POTIRA JUREMA      1\n",
       "3             PL CAUCAIA      1\n",
       "4                ITAPAJE      1\n",
       "5      PADRE JULIO MARIA      1\n",
       "6           SÃO RAIMUNDO      1\n",
       "7         ALVARO WEYNE''      1\n",
       "8            CAPONGUINHA      1\n",
       "9           ALVARO WEYNE      1"
      ]
     },
     "execution_count": 7,
     "metadata": {},
     "output_type": "execute_result"
    }
   ],
   "source": [
    "top_k_reverse_bairros(dataset_bairros, 10)"
   ]
  },
  {
   "cell_type": "code",
   "execution_count": 8,
   "metadata": {},
   "outputs": [],
   "source": [
    "def agrupar_idade(df):\n",
    "    clusters_idades = []\n",
    "    intervalos = np.arange(1, 100, dtype=int)\n",
    "    for i in range(0, 95, 5):\n",
    "        gaps = []\n",
    "        for j in range(i, i+5):\n",
    "            gaps.append(intervalos[j])\n",
    "        clusters_idades.append(gaps)\n",
    "\n",
    "    casos_idade = []\n",
    "\n",
    "    for cluster in clusters_idades:\n",
    "        count = 0\n",
    "        for i in range(len(df)):\n",
    "            if(df.loc[i][4] in cluster):\n",
    "                count = count + 1\n",
    "        casos_idade.append(['[{}:{}]'.format(cluster[0], cluster[4]), count])\n",
    "    casos_idade = pd.DataFrame(casos_idade)\n",
    "    casos_idade.rename(columns={0: 'idade', 1: 'count'}, inplace=True)\n",
    "    casos_idade = casos_idade.sort_values(by=['count'], ascending=True)\n",
    "    ordem = np.arange(1,len(casos_idade)+1)\n",
    "    casos_idade['ordem'] = pd.Series(ordem, index=casos_idade.index)\n",
    "    return casos_idade"
   ]
  },
  {
   "cell_type": "code",
   "execution_count": 9,
   "metadata": {},
   "outputs": [
    {
     "data": {
      "text/html": [
       "<div>\n",
       "<style scoped>\n",
       "    .dataframe tbody tr th:only-of-type {\n",
       "        vertical-align: middle;\n",
       "    }\n",
       "\n",
       "    .dataframe tbody tr th {\n",
       "        vertical-align: top;\n",
       "    }\n",
       "\n",
       "    .dataframe thead th {\n",
       "        text-align: right;\n",
       "    }\n",
       "</style>\n",
       "<table border=\"1\" class=\"dataframe\">\n",
       "  <thead>\n",
       "    <tr style=\"text-align: right;\">\n",
       "      <th></th>\n",
       "      <th>idade</th>\n",
       "      <th>count</th>\n",
       "      <th>ordem</th>\n",
       "    </tr>\n",
       "  </thead>\n",
       "  <tbody>\n",
       "    <tr>\n",
       "      <th>1</th>\n",
       "      <td>[6:10]</td>\n",
       "      <td>9</td>\n",
       "      <td>1</td>\n",
       "    </tr>\n",
       "    <tr>\n",
       "      <th>0</th>\n",
       "      <td>[1:5]</td>\n",
       "      <td>16</td>\n",
       "      <td>2</td>\n",
       "    </tr>\n",
       "    <tr>\n",
       "      <th>18</th>\n",
       "      <td>[91:95]</td>\n",
       "      <td>17</td>\n",
       "      <td>3</td>\n",
       "    </tr>\n",
       "    <tr>\n",
       "      <th>17</th>\n",
       "      <td>[86:90]</td>\n",
       "      <td>23</td>\n",
       "      <td>4</td>\n",
       "    </tr>\n",
       "    <tr>\n",
       "      <th>2</th>\n",
       "      <td>[11:15]</td>\n",
       "      <td>28</td>\n",
       "      <td>5</td>\n",
       "    </tr>\n",
       "    <tr>\n",
       "      <th>16</th>\n",
       "      <td>[81:85]</td>\n",
       "      <td>34</td>\n",
       "      <td>6</td>\n",
       "    </tr>\n",
       "    <tr>\n",
       "      <th>15</th>\n",
       "      <td>[76:80]</td>\n",
       "      <td>54</td>\n",
       "      <td>7</td>\n",
       "    </tr>\n",
       "    <tr>\n",
       "      <th>13</th>\n",
       "      <td>[66:70]</td>\n",
       "      <td>59</td>\n",
       "      <td>8</td>\n",
       "    </tr>\n",
       "    <tr>\n",
       "      <th>14</th>\n",
       "      <td>[71:75]</td>\n",
       "      <td>68</td>\n",
       "      <td>9</td>\n",
       "    </tr>\n",
       "    <tr>\n",
       "      <th>3</th>\n",
       "      <td>[16:20]</td>\n",
       "      <td>76</td>\n",
       "      <td>10</td>\n",
       "    </tr>\n",
       "    <tr>\n",
       "      <th>12</th>\n",
       "      <td>[61:65]</td>\n",
       "      <td>91</td>\n",
       "      <td>11</td>\n",
       "    </tr>\n",
       "    <tr>\n",
       "      <th>11</th>\n",
       "      <td>[56:60]</td>\n",
       "      <td>100</td>\n",
       "      <td>12</td>\n",
       "    </tr>\n",
       "    <tr>\n",
       "      <th>10</th>\n",
       "      <td>[51:55]</td>\n",
       "      <td>140</td>\n",
       "      <td>13</td>\n",
       "    </tr>\n",
       "    <tr>\n",
       "      <th>9</th>\n",
       "      <td>[46:50]</td>\n",
       "      <td>179</td>\n",
       "      <td>14</td>\n",
       "    </tr>\n",
       "    <tr>\n",
       "      <th>4</th>\n",
       "      <td>[21:25]</td>\n",
       "      <td>180</td>\n",
       "      <td>15</td>\n",
       "    </tr>\n",
       "    <tr>\n",
       "      <th>8</th>\n",
       "      <td>[41:45]</td>\n",
       "      <td>211</td>\n",
       "      <td>16</td>\n",
       "    </tr>\n",
       "    <tr>\n",
       "      <th>7</th>\n",
       "      <td>[36:40]</td>\n",
       "      <td>222</td>\n",
       "      <td>17</td>\n",
       "    </tr>\n",
       "    <tr>\n",
       "      <th>6</th>\n",
       "      <td>[31:35]</td>\n",
       "      <td>230</td>\n",
       "      <td>18</td>\n",
       "    </tr>\n",
       "    <tr>\n",
       "      <th>5</th>\n",
       "      <td>[26:30]</td>\n",
       "      <td>243</td>\n",
       "      <td>19</td>\n",
       "    </tr>\n",
       "  </tbody>\n",
       "</table>\n",
       "</div>"
      ],
      "text/plain": [
       "      idade  count  ordem\n",
       "1    [6:10]      9      1\n",
       "0     [1:5]     16      2\n",
       "18  [91:95]     17      3\n",
       "17  [86:90]     23      4\n",
       "2   [11:15]     28      5\n",
       "16  [81:85]     34      6\n",
       "15  [76:80]     54      7\n",
       "13  [66:70]     59      8\n",
       "14  [71:75]     68      9\n",
       "3   [16:20]     76     10\n",
       "12  [61:65]     91     11\n",
       "11  [56:60]    100     12\n",
       "10  [51:55]    140     13\n",
       "9   [46:50]    179     14\n",
       "4   [21:25]    180     15\n",
       "8   [41:45]    211     16\n",
       "7   [36:40]    222     17\n",
       "6   [31:35]    230     18\n",
       "5   [26:30]    243     19"
      ]
     },
     "execution_count": 9,
     "metadata": {},
     "output_type": "execute_result"
    }
   ],
   "source": [
    "dataset_idade = agrupar_idade(df)\n",
    "dataset_idade"
   ]
  },
  {
   "cell_type": "code",
   "execution_count": 10,
   "metadata": {},
   "outputs": [],
   "source": [
    "def top_k_reverse_idade(dataset, k):\n",
    "    copia = dataset.copy()\n",
    "    output = []\n",
    "    for i in range(k):\n",
    "        indice = copia['count'].idxmin()\n",
    "        output.append([copia.loc[indice][0], copia.loc[indice][1]])\n",
    "        copia.drop(indice, inplace=True,axis=0)\n",
    "    output = pd.DataFrame(output)\n",
    "    output = output.rename(columns={0: 'idade', 1: 'count'})\n",
    "    return output"
   ]
  },
  {
   "cell_type": "code",
   "execution_count": 11,
   "metadata": {},
   "outputs": [],
   "source": [
    "#Aproveitando q ordenei\n",
    "#def top_k_reverse_idade(dataset, k):\n",
    "#    output = []\n",
    "#    for i in range(k):\n",
    "#        output.append([dataset.loc[k][0], dataset.loc[k][1]])\n",
    "#    output = pd.DataFrame(output)\n",
    "#    output = output.rename(columns={0: 'idade', 1: 'count'})\n",
    "#    return output"
   ]
  },
  {
   "cell_type": "code",
   "execution_count": 12,
   "metadata": {},
   "outputs": [
    {
     "data": {
      "text/html": [
       "<div>\n",
       "<style scoped>\n",
       "    .dataframe tbody tr th:only-of-type {\n",
       "        vertical-align: middle;\n",
       "    }\n",
       "\n",
       "    .dataframe tbody tr th {\n",
       "        vertical-align: top;\n",
       "    }\n",
       "\n",
       "    .dataframe thead th {\n",
       "        text-align: right;\n",
       "    }\n",
       "</style>\n",
       "<table border=\"1\" class=\"dataframe\">\n",
       "  <thead>\n",
       "    <tr style=\"text-align: right;\">\n",
       "      <th></th>\n",
       "      <th>idade</th>\n",
       "      <th>count</th>\n",
       "    </tr>\n",
       "  </thead>\n",
       "  <tbody>\n",
       "    <tr>\n",
       "      <th>0</th>\n",
       "      <td>[6:10]</td>\n",
       "      <td>9</td>\n",
       "    </tr>\n",
       "    <tr>\n",
       "      <th>1</th>\n",
       "      <td>[1:5]</td>\n",
       "      <td>16</td>\n",
       "    </tr>\n",
       "    <tr>\n",
       "      <th>2</th>\n",
       "      <td>[91:95]</td>\n",
       "      <td>17</td>\n",
       "    </tr>\n",
       "    <tr>\n",
       "      <th>3</th>\n",
       "      <td>[86:90]</td>\n",
       "      <td>23</td>\n",
       "    </tr>\n",
       "    <tr>\n",
       "      <th>4</th>\n",
       "      <td>[11:15]</td>\n",
       "      <td>28</td>\n",
       "    </tr>\n",
       "    <tr>\n",
       "      <th>5</th>\n",
       "      <td>[81:85]</td>\n",
       "      <td>34</td>\n",
       "    </tr>\n",
       "    <tr>\n",
       "      <th>6</th>\n",
       "      <td>[76:80]</td>\n",
       "      <td>54</td>\n",
       "    </tr>\n",
       "    <tr>\n",
       "      <th>7</th>\n",
       "      <td>[66:70]</td>\n",
       "      <td>59</td>\n",
       "    </tr>\n",
       "    <tr>\n",
       "      <th>8</th>\n",
       "      <td>[71:75]</td>\n",
       "      <td>68</td>\n",
       "    </tr>\n",
       "    <tr>\n",
       "      <th>9</th>\n",
       "      <td>[16:20]</td>\n",
       "      <td>76</td>\n",
       "    </tr>\n",
       "  </tbody>\n",
       "</table>\n",
       "</div>"
      ],
      "text/plain": [
       "     idade  count\n",
       "0   [6:10]      9\n",
       "1    [1:5]     16\n",
       "2  [91:95]     17\n",
       "3  [86:90]     23\n",
       "4  [11:15]     28\n",
       "5  [81:85]     34\n",
       "6  [76:80]     54\n",
       "7  [66:70]     59\n",
       "8  [71:75]     68\n",
       "9  [16:20]     76"
      ]
     },
     "execution_count": 12,
     "metadata": {},
     "output_type": "execute_result"
    }
   ],
   "source": [
    "top_k_reverse_idade(dataset_idade, 10)"
   ]
  },
  {
   "cell_type": "markdown",
   "metadata": {},
   "source": [
    "# Ruído de Laplace"
   ]
  },
  {
   "cell_type": "code",
   "execution_count": 13,
   "metadata": {},
   "outputs": [],
   "source": [
    "def sensibilidade_lap(dataset, budget, k):\n",
    "    smooth_functions = [1]*len(dataset['count'])\n",
    "    beta = budget/k\n",
    "    otimo = 0\n",
    "    for smooth in smooth_functions:\n",
    "        otimo = max(otimo, (smooth*math.exp(-beta)))\n",
    "    return otimo"
   ]
  },
  {
   "cell_type": "code",
   "execution_count": 14,
   "metadata": {},
   "outputs": [],
   "source": [
    "def erros_lap(query, argumento_consulta, k):\n",
    "    erros_laplace = []\n",
    "    top = list(query)\n",
    "    for argumento in argumento_consulta:\n",
    "        erro_argumento_lap = [0]*10\n",
    "        for i in range(len(argumento)):\n",
    "            if(argumento[i] == top[i]):\n",
    "                erro = 0\n",
    "            else:\n",
    "                erro = abs(top.index(argumento[i]) - i)\n",
    "            erro_argumento_lap[i]  = erro\n",
    "        erros_laplace.append(erro_argumento_lap)\n",
    "    return erros_laplace"
   ]
  },
  {
   "cell_type": "code",
   "execution_count": 15,
   "metadata": {},
   "outputs": [],
   "source": [
    "def plot_erros(erros_argumento, k):\n",
    "    df = pd.DataFrame({\n",
    "        'epsilon': ['0.1', '1', '10'],\n",
    "        'F1 Score': erros_argumento })\n",
    "    sns.catplot(x=\"epsilon\", y=\"F1 Score\", palette=\"ch:.5\",\n",
    "                data=df, saturation=.7,\n",
    "                kind=\"bar\", ci=None, aspect=.9)\n",
    "\n",
    "    plt.xlabel(\"Epsilon\")\n",
    "    plt.ylabel(\"F1 Score, k = {}\".format(k))\n",
    "    return plt.show()"
   ]
  },
  {
   "cell_type": "code",
   "execution_count": 36,
   "metadata": {},
   "outputs": [],
   "source": [
    "def f1_score(query, argumento_consulta):\n",
    "    top = list(query)\n",
    "    metrica_exponencial = []\n",
    "    for argumento, budget in zip(argumento_consulta, [0.1, 1, 10]):\n",
    "        falsos_positivos, falsos_negativos, verdadeiros_positivos = 0, 0, 0\n",
    "        for i in range(len(argumento)):\n",
    "            if(argumento[i] in top):\n",
    "                if(argumento[i] == top[i]):\n",
    "                    verdadeiros_positivos += 1\n",
    "                else:\n",
    "                    falsos_positivos += 1\n",
    "            if(top[i] not in argumento):\n",
    "                falsos_negativos += 1\n",
    "            if(argumento[i] not in top):\n",
    "                falsos_positivos += 1\n",
    "\n",
    "        print(\"epsilon = {}:\\nVerdadeiros Positivos: {}\\nFalsos Positivos: {}\\nFalsos Negativos: {}\\n\\n\".format(budget, verdadeiros_positivos, falsos_positivos, falsos_negativos))\n",
    "\n",
    "        precisao = verdadeiros_positivos/(verdadeiros_positivos + falsos_positivos) \n",
    "        revocacao = verdadeiros_positivos/(verdadeiros_positivos + falsos_negativos)\n",
    "\n",
    "        f1_score = 2*((revocacao * precisao)/(revocacao + precisao))\n",
    "        metrica_exponencial.append(f1_score)\n",
    "    \n",
    "    print(metrica_exponencial)\n",
    "\n",
    "    return metrica_exponencial"
   ]
  },
  {
   "cell_type": "markdown",
   "metadata": {},
   "source": [
    "# Consulta Idade com ruído"
   ]
  },
  {
   "cell_type": "code",
   "execution_count": 16,
   "metadata": {},
   "outputs": [],
   "source": [
    "def laplace_idade(budget, sensibilidade, query, dataset, k):\n",
    "    resposta_query = np.array(query['count'])\n",
    "    coluna_idades = np.array(query['idade'])\n",
    "    output = []\n",
    "    np.random.seed(123)\n",
    "    for i in range(k):\n",
    "        ruido = stats.laplace.rvs(loc = 0, scale = sensibilidade/budget)\n",
    "        output.append((resposta_query[i] + ruido))\n",
    "    output = {\n",
    "        'idade': coluna_idades,\n",
    "        'count': output\n",
    "    }\n",
    "    \n",
    "    df = pd.DataFrame(output, columns = ['idade', 'count'])\n",
    "    return df.sort_values(by=['count'],ascending=True)"
   ]
  },
  {
   "cell_type": "code",
   "execution_count": 17,
   "metadata": {},
   "outputs": [
    {
     "name": "stdout",
     "output_type": "stream",
     "text": [
      "epsilon: 0.1\n",
      "reverse top-k:\n",
      "[['[91:95]' 9.175510578711094]\n",
      " ['[1:5]' 10.474242574420629]\n",
      " ['[6:10]' 13.941585865601542]\n",
      " ['[86:90]' 24.072090325645366]\n",
      " ['[81:85]' 32.34677249009792]\n",
      " ['[11:15]' 33.72173317485663]\n",
      " ['[66:70]' 63.569031402905786]\n",
      " ['[71:75]' 67.61504471201435]\n",
      " ['[16:20]' 73.59371840955001]\n",
      " ['[76:80]' 86.2541888949888]]\n",
      "\n",
      "\n",
      "epsilon: 1\n",
      "reverse top-k:\n",
      "[['[6:10]' 9.451626942726877]\n",
      " ['[1:5]' 15.494983796651896]\n",
      " ['[91:95]' 16.284895510905926]\n",
      " ['[86:90]' 23.09798167820349]\n",
      " ['[11:15]' 28.522927038230243]\n",
      " ['[81:85]' 33.84890638223522]\n",
      " ['[76:80]' 56.94781090867592]\n",
      " ['[66:70]' 59.417578028559916]\n",
      " ['[71:75]' 67.96481773573748]\n",
      " ['[16:20]' 75.78008242139437]]\n",
      "\n",
      "\n",
      "epsilon: 10\n",
      "reverse top-k:\n",
      "[['[6:10]' 9.018361781243415]\n",
      " ['[1:5]' 15.979467573404127]\n",
      " ['[91:95]' 16.970926021119006]\n",
      " ['[86:90]' 23.0039836377568]\n",
      " ['[11:15]' 28.02126062680024]\n",
      " ['[81:85]' 33.99385699192364]\n",
      " ['[76:80]' 54.119849047812]\n",
      " ['[66:70]' 59.01697745569867]\n",
      " ['[71:75]' 67.99856959587899]\n",
      " ['[16:20]' 75.99105881848953]]\n",
      "\n",
      "\n"
     ]
    }
   ],
   "source": [
    "budgets = [0.1, 1, 10]\n",
    "idades = []\n",
    "k = 10\n",
    "for budget in budgets:\n",
    "    a = laplace_idade(budget, sensibilidade_lap(dataset_idade, budget, 10), top_k_reverse_idade(dataset_idade, 10), dataset_idade, 10)\n",
    "    a = np.array(a)\n",
    "    print(\"epsilon: {}\\nreverse top-k:\\n{}\\n\\n\".format(budget, a))\n",
    "    idades.append(a[:,0])"
   ]
  },
  {
   "cell_type": "code",
   "execution_count": 18,
   "metadata": {},
   "outputs": [],
   "source": [
    "query_idades = top_k_reverse_idade(dataset_idade, 10)['idade']\n",
    "erros_idade = erros_lap(query_idades, idades, 10)\n",
    "lista_plot_idades = []\n",
    "for i in range(k):\n",
    "    p_cada_k = []\n",
    "    for b in range(len(budgets)):\n",
    "        aux = erros_idade[b][i]\n",
    "        p_cada_k.append(aux)\n",
    "    lista_plot_idades.append(p_cada_k)"
   ]
  },
  {
   "cell_type": "code",
   "execution_count": 38,
   "metadata": {},
   "outputs": [
    {
     "name": "stdout",
     "output_type": "stream",
     "text": [
      "epsilon = 0.1:\n",
      "Verdadeiros Positivos: 2\n",
      "Falsos Positivos: 8\n",
      "Falsos Negativos: 0\n",
      "\n",
      "\n",
      "epsilon = 1:\n",
      "Verdadeiros Positivos: 10\n",
      "Falsos Positivos: 0\n",
      "Falsos Negativos: 0\n",
      "\n",
      "\n",
      "epsilon = 10:\n",
      "Verdadeiros Positivos: 10\n",
      "Falsos Positivos: 0\n",
      "Falsos Negativos: 0\n",
      "\n",
      "\n",
      "[0.33333333333333337, 1.0, 1.0]\n"
     ]
    },
    {
     "data": {
      "image/png": "[encoded data removed]",
      "text/plain": [
       "<Figure size 324x360 with 1 Axes>"
      ]
     },
     "metadata": {
      "needs_background": "light"
     },
     "output_type": "display_data"
    }
   ],
   "source": [
    "#f1 score pra laplace\n",
    "f1_lap = f1_score(query_idades, idades)\n",
    "plot_erros(f1_lap, 10)"
   ]
  },
  {
   "cell_type": "code",
   "execution_count": 19,
   "metadata": {},
   "outputs": [
    {
     "data": {
      "text/plain": [
       "[[2, 0, 0],\n",
       " [2, 0, 0],\n",
       " [4, 0, 0],\n",
       " [4, 0, 0],\n",
       " [5, 0, 0],\n",
       " [6, 0, 0],\n",
       " [7, 0, 0],\n",
       " [8, 0, 0],\n",
       " [9, 0, 0],\n",
       " [12, 0, 0]]"
      ]
     },
     "execution_count": 19,
     "metadata": {},
     "output_type": "execute_result"
    }
   ],
   "source": [
    "copia_idades = lista_plot_idades.copy()\n",
    "aux_idades = []\n",
    "aux_idades.append(copia_idades[0])\n",
    "for i in range(1, k):\n",
    "    copia_idades[i][0] += copia_idades[i-1][0] \n",
    "    copia_idades[i][1] += copia_idades[i-1][1] \n",
    "    copia_idades[i][2] += copia_idades[i-1][2]\n",
    "    aux_idades.append([copia_idades[i][0], copia_idades[i][1], copia_idades[i][2]])\n",
    "aux_idades"
   ]
  },
  {
   "cell_type": "code",
   "execution_count": 20,
   "metadata": {},
   "outputs": [
    {
     "data": {
      "image/png": "[encoded data removed]",
      "text/plain": [
       "<Figure size 324x360 with 1 Axes>"
      ]
     },
     "metadata": {
      "needs_background": "light"
     },
     "output_type": "display_data"
    },
    {
     "data": {
      "image/png": "[encoded data removed]",
      "text/plain": [
       "<Figure size 324x360 with 1 Axes>"
      ]
     },
     "metadata": {
      "needs_background": "light"
     },
     "output_type": "display_data"
    },
    {
     "data": {
      "image/png": "[encoded data removed]",
      "text/plain": [
       "<Figure size 324x360 with 1 Axes>"
      ]
     },
     "metadata": {
      "needs_background": "light"
     },
     "output_type": "display_data"
    },
    {
     "data": {
      "image/png": "[encoded data removed]",
      "text/plain": [
       "<Figure size 324x360 with 1 Axes>"
      ]
     },
     "metadata": {
      "needs_background": "light"
     },
     "output_type": "display_data"
    },
    {
     "data": {
      "image/png": "[encoded data removed]",
      "text/plain": [
       "<Figure size 324x360 with 1 Axes>"
      ]
     },
     "metadata": {
      "needs_background": "light"
     },
     "output_type": "display_data"
    },
    {
     "data": {
      "image/png": "[encoded data removed]",
      "text/plain": [
       "<Figure size 324x360 with 1 Axes>"
      ]
     },
     "metadata": {
      "needs_background": "light"
     },
     "output_type": "display_data"
    },
    {
     "data": {
      "image/png": "[encoded data removed]",
      "text/plain": [
       "<Figure size 324x360 with 1 Axes>"
      ]
     },
     "metadata": {
      "needs_background": "light"
     },
     "output_type": "display_data"
    },
    {
     "data": {
      "image/png": "[encoded data removed]",
      "text/plain": [
       "<Figure size 324x360 with 1 Axes>"
      ]
     },
     "metadata": {
      "needs_background": "light"
     },
     "output_type": "display_data"
    },
    {
     "data": {
      "image/png": "[encoded data removed]",
      "text/plain": [
       "<Figure size 324x360 with 1 Axes>"
      ]
     },
     "metadata": {
      "needs_background": "light"
     },
     "output_type": "display_data"
    },
    {
     "data": {
      "image/png": "[encoded data removed]",
      "text/plain": [
       "<Figure size 324x360 with 1 Axes>"
      ]
     },
     "metadata": {
      "needs_background": "light"
     },
     "output_type": "display_data"
    }
   ],
   "source": [
    "for i in range(0, k):\n",
    "    plot_erros(aux_idades[i], i+1)"
   ]
  },
  {
   "cell_type": "markdown",
   "metadata": {},
   "source": [
    "# Mecanismo Exponencial"
   ]
  },
  {
   "cell_type": "code",
   "execution_count": 21,
   "metadata": {},
   "outputs": [],
   "source": [
    "def score_function_exp(dataset):\n",
    "    return -dataset['count']"
   ]
  },
  {
   "cell_type": "code",
   "execution_count": 22,
   "metadata": {},
   "outputs": [],
   "source": [
    "def sensibilidade_exp(dataset, budget, k):\n",
    "    smooth_functions = [1]*len(dataset['count'])\n",
    "    beta = budget/k\n",
    "    otimo = 0\n",
    "    for smooth in smooth_functions:\n",
    "        otimo = max(otimo, (smooth*math.exp(-beta)))\n",
    "    return otimo"
   ]
  },
  {
   "cell_type": "code",
   "execution_count": 23,
   "metadata": {},
   "outputs": [],
   "source": [
    "def erros_exp(query, argumento_consulta, k):\n",
    "    erros_exponencial = []\n",
    "    top = list(query)\n",
    "    for argumento in argumento_consulta:\n",
    "        erro_argumento_exp = [0]*10\n",
    "        for i in range(len(argumento)):\n",
    "            if(argumento[i] in top):\n",
    "                if(argumento[i] == top[i]):\n",
    "                    erro = 0\n",
    "                else:\n",
    "                    erro = abs(top.index(argumento[i]) - i)\n",
    "            else:\n",
    "                erro = 20\n",
    "            erro_argumento_exp[i]  = erro\n",
    "        erros_exponencial.append(erro_argumento_exp)\n",
    "    return erros_exponencial"
   ]
  },
  {
   "cell_type": "markdown",
   "metadata": {},
   "source": [
    "# Consulta Idade Exponencial"
   ]
  },
  {
   "cell_type": "code",
   "execution_count": 25,
   "metadata": {},
   "outputs": [],
   "source": [
    "def exp_idades(budget, sensibilidade, dataset, k):\n",
    "    budget = budget/k\n",
    "\n",
    "    scores = score_function_exp(dataset)\n",
    "\n",
    "    _users = list(dataset['idade'].copy())\n",
    "    _scores = list(scores.copy())\n",
    "\n",
    "    top = []\n",
    "\n",
    "    for i_run in range(k):\n",
    "\n",
    "        probabilities = []\n",
    "\n",
    "        for j_score in _scores:\n",
    "            probability = math.exp( (budget * j_score) / (2 * sensibilidade) )\n",
    "            probabilities.append(probability)\n",
    "\n",
    "        probabilities = [j_probability/sum(probabilities) for j_probability in probabilities]\n",
    "\n",
    "        sample = random.choices(population=_users, weights=probabilities, k=1)[0]\n",
    "\n",
    "        top.append(sample)\n",
    "\n",
    "        _scores.remove(_scores[_users.index(sample)])\n",
    "        _users.remove(sample)\n",
    "\n",
    "    return top"
   ]
  },
  {
   "cell_type": "code",
   "execution_count": 31,
   "metadata": {},
   "outputs": [
    {
     "name": "stdout",
     "output_type": "stream",
     "text": [
      "epsilon: 0.1\n",
      "reverse top-k:\n",
      "['[31:35]' '[41:45]' '[61:65]' '[51:55]' '[11:15]' '[81:85]' '[1:5]'\n",
      " '[71:75]' '[46:50]' '[91:95]']\n",
      "\n",
      "\n",
      "epsilon: 1\n",
      "reverse top-k:\n",
      "['[6:10]' '[81:85]' '[1:5]' '[91:95]' '[86:90]' '[66:70]' '[11:15]'\n",
      " '[76:80]' '[71:75]' '[61:65]']\n",
      "\n",
      "\n",
      "epsilon: 10\n",
      "reverse top-k:\n",
      "['[6:10]' '[1:5]' '[91:95]' '[86:90]' '[11:15]' '[81:85]' '[76:80]'\n",
      " '[66:70]' '[71:75]' '[16:20]']\n",
      "\n",
      "\n"
     ]
    }
   ],
   "source": [
    "budgets = [0.1, 1, 10]\n",
    "idades_exp = []\n",
    "\n",
    "for budget in budgets:\n",
    "    b = exp_idades(budget, sensibilidade_exp(dataset_idade, budget, 10), dataset_idade, 10)\n",
    "    b = np.array(b)\n",
    "    print(\"epsilon: {}\\nreverse top-k:\\n{}\\n\\n\".format(budget, b))\n",
    "    #idades_exp.append(b[:,0])\n",
    "    idades_exp.append(b)"
   ]
  },
  {
   "cell_type": "code",
   "execution_count": 32,
   "metadata": {},
   "outputs": [],
   "source": [
    "query_idades_exp = top_k_reverse_idade(dataset_idade, 10)['idade']\n",
    "erros_idade_exp = erros_exp(query_idades_exp, idades_exp, 10)\n",
    "exp_plot_idades = []\n",
    "for i in range(k):\n",
    "    p_cada_k = []\n",
    "    for b in range(len(budgets)):\n",
    "        aux = erros_idade_exp[b][i]\n",
    "        p_cada_k.append(aux)\n",
    "    exp_plot_idades.append(p_cada_k)"
   ]
  },
  {
   "cell_type": "markdown",
   "metadata": {},
   "source": [
    "# TESTE F1 SCORE"
   ]
  },
  {
   "cell_type": "code",
   "execution_count": 39,
   "metadata": {},
   "outputs": [
    {
     "name": "stdout",
     "output_type": "stream",
     "text": [
      "epsilon = 0.1:\n",
      "Verdadeiros Positivos: 2\n",
      "Falsos Positivos: 8\n",
      "Falsos Negativos: 5\n",
      "\n",
      "\n",
      "epsilon = 1:\n",
      "Verdadeiros Positivos: 2\n",
      "Falsos Positivos: 8\n",
      "Falsos Negativos: 1\n",
      "\n",
      "\n",
      "epsilon = 10:\n",
      "Verdadeiros Positivos: 10\n",
      "Falsos Positivos: 0\n",
      "Falsos Negativos: 0\n",
      "\n",
      "\n",
      "[0.23529411764705882, 0.30769230769230765, 1.0]\n"
     ]
    },
    {
     "data": {
      "image/png": "[encoded data removed]",
      "text/plain": [
       "<Figure size 324x360 with 1 Axes>"
      ]
     },
     "metadata": {
      "needs_background": "light"
     },
     "output_type": "display_data"
    }
   ],
   "source": [
    "query_idades_exp = top_k_reverse_idade(dataset_idade, 10)['idade']\n",
    "f1 = f1_score(query_idades_exp, idades_exp)\n",
    "plot_erros(f1, 10)"
   ]
  },
  {
   "cell_type": "markdown",
   "metadata": {},
   "source": [
    "# TESTE ACABA AQUI"
   ]
  },
  {
   "cell_type": "code",
   "execution_count": 34,
   "metadata": {},
   "outputs": [
    {
     "data": {
      "text/plain": [
       "[[20, 0, 0],\n",
       " [40, 4, 0],\n",
       " [60, 5, 0],\n",
       " [80, 6, 0],\n",
       " [80, 7, 0],\n",
       " [80, 9, 0],\n",
       " [85, 11, 0],\n",
       " [86, 12, 0],\n",
       " [106, 12, 0],\n",
       " [113, 32, 0]]"
      ]
     },
     "execution_count": 34,
     "metadata": {},
     "output_type": "execute_result"
    }
   ],
   "source": [
    "copia_idades_exp = exp_plot_idades.copy()\n",
    "aux_idades_exp = []\n",
    "aux_idades_exp.append(copia_idades_exp[0])\n",
    "for i in range(1, k):\n",
    "    copia_idades_exp[i][0] += copia_idades_exp[i-1][0] \n",
    "    copia_idades_exp[i][1] += copia_idades_exp[i-1][1] \n",
    "    copia_idades_exp[i][2] += copia_idades_exp[i-1][2]\n",
    "    aux_idades_exp.append([copia_idades_exp[i][0], copia_idades_exp[i][1], copia_idades_exp[i][2]])\n",
    "aux_idades_exp"
   ]
  },
  {
   "cell_type": "code",
   "execution_count": 35,
   "metadata": {},
   "outputs": [
    {
     "data": {
      "image/png": "[encoded data removed]",
      "text/plain": [
       "<Figure size 324x360 with 1 Axes>"
      ]
     },
     "metadata": {
      "needs_background": "light"
     },
     "output_type": "display_data"
    },
    {
     "data": {
      "image/png": "[encoded data removed]",
      "text/plain": [
       "<Figure size 324x360 with 1 Axes>"
      ]
     },
     "metadata": {
      "needs_background": "light"
     },
     "output_type": "display_data"
    },
    {
     "data": {
      "image/png": "[encoded data removed]",
      "text/plain": [
       "<Figure size 324x360 with 1 Axes>"
      ]
     },
     "metadata": {
      "needs_background": "light"
     },
     "output_type": "display_data"
    },
    {
     "data": {
      "image/png": "[encoded data removed]",
      "text/plain": [
       "<Figure size 324x360 with 1 Axes>"
      ]
     },
     "metadata": {
      "needs_background": "light"
     },
     "output_type": "display_data"
    },
    {
     "data": {
      "image/png": "[encoded data removed]",
      "text/plain": [
       "<Figure size 324x360 with 1 Axes>"
      ]
     },
     "metadata": {
      "needs_background": "light"
     },
     "output_type": "display_data"
    },
    {
     "data": {
      "image/png": "[encoded data removed]",
      "text/plain": [
       "<Figure size 324x360 with 1 Axes>"
      ]
     },
     "metadata": {
      "needs_background": "light"
     },
     "output_type": "display_data"
    },
    {
     "data": {
      "image/png": "[encoded data removed]",
      "text/plain": [
       "<Figure size 324x360 with 1 Axes>"
      ]
     },
     "metadata": {
      "needs_background": "light"
     },
     "output_type": "display_data"
    },
    {
     "data": {
      "image/png": "[encoded data removed]",
      "text/plain": [
       "<Figure size 324x360 with 1 Axes>"
      ]
     },
     "metadata": {
      "needs_background": "light"
     },
     "output_type": "display_data"
    },
    {
     "data": {
      "image/png": "[encoded data removed]",
      "text/plain": [
       "<Figure size 324x360 with 1 Axes>"
      ]
     },
     "metadata": {
      "needs_background": "light"
     },
     "output_type": "display_data"
    },
    {
     "data": {
      "image/png": "[encoded data removed]",
      "text/plain": [
       "<Figure size 324x360 with 1 Axes>"
      ]
     },
     "metadata": {
      "needs_background": "light"
     },
     "output_type": "display_data"
    }
   ],
   "source": [
    "for i in range(0, k):\n",
    "    plot_erros(aux_idades_exp[i], i+1)"
   ]
  },
  {
   "cell_type": "code",
   "execution_count": null,
   "metadata": {},
   "outputs": [],
   "source": []
  }
 ],
 "metadata": {
  "kernelspec": {
   "display_name": "Python 3",
   "language": "python",
   "name": "python3"
  },
  "language_info": {
   "codemirror_mode": {
    "name": "ipython",
    "version": 3
   },
   "file_extension": ".py",
   "mimetype": "text/x-python",
   "name": "python",
   "nbconvert_exporter": "python",
   "pygments_lexer": "ipython3",
   "version": "3.7.7"
  }
 },
 "nbformat": 4,
 "nbformat_minor": 4
}
